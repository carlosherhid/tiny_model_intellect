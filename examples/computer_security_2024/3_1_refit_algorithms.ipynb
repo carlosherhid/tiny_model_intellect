{
 "cells": [
  {
   "cell_type": "markdown",
   "metadata": {},
   "source": [
    "# Model Finetune to Client Traffic post Pruning-SubsetSearch"
   ]
  },
  {
   "cell_type": "markdown",
   "metadata": {},
   "source": [
    "In this notebook we investigate the potential effects of tha pruning and subset search achieved in the previous step. The aim is to verify whether it is possible to empower the lightweight model with the knwoledge of the oracle model, obtained in the initial Federated Learning training phase.\n",
    "\n",
    "The main problem is that by pruning and removing features from the network traffic to fit specific deployment scenarios, the organization might have obtained a model with worse performance than the previous one. \n",
    "Moreover, if it is willing to specialize that model to its specific traffic categories, how does the model behave against the other previously seen attacks?\n",
    "Is it possible to preserve the knwoledge? Will it face catastrophic forgetting? Can you postpone catastrophic forgetting somehow?\n",
    "\n",
    "We will analyse different learning algorithms that the organization can adopt during this finetune process and measure the loss in the global knowledge of the model with respect to all the attacks."
   ]
  },
  {
   "cell_type": "code",
   "execution_count": 1,
   "metadata": {},
   "outputs": [],
   "source": [
    "%reload_ext autoreload\n",
    "%autoreload 2\n",
    "import pandas as pd\n",
    "import os\n",
    "import matplotlib as mpl\n",
    "from sklearn.metrics import accuracy_score\n",
    "from intellect.model.sklearn.model import EnhancedMlpRegressor\n",
    "from intellect.io import load, dump, create_dir\n",
    "from intellect.inspect import set_seed\n",
    "from intellect.scoring import compute_metric_percategory\n",
    "from intellect.dataset import (Dataset, indexes_for_oracle_learning)\n",
    "\n",
    "import config\n",
    "\n",
    "mpl.rcParams['figure.dpi']= 70\n",
    "pd.set_option(\"display.max_columns\", 100)\n",
    "pd.set_option(\"display.max_rows\", 20)\n",
    "\n",
    "# when running local with few cpu uncomment this\n",
    "import threadpoolctl\n",
    "threadpoolctl.threadpool_limits(limits=int(os.cpu_count()/4));"
   ]
  },
  {
   "cell_type": "code",
   "execution_count": 2,
   "metadata": {},
   "outputs": [],
   "source": [
    "train, validation, test = config.get_dataset()\n",
    "cols = [\"Global\"] + config.CLIENT_CATEGORIES + [v for v in train._y.value_counts().sort_values(ascending=False).index.values if v not in config.CLIENT_CATEGORIES]"
   ]
  },
  {
   "cell_type": "code",
   "execution_count": 7,
   "metadata": {},
   "outputs": [],
   "source": [
    "oracle_cache = {}\n",
    "student_cache = {}\n",
    "\n",
    "def run_test(save_prefix: str, retrain_ds: Dataset, retrain_val_ds: Dataset, features_available=None,\n",
    "             skip=False, prune_ratio=None, availability=None, **kwargs):\n",
    "    if skip is True and os.path.isfile(f\"{save_prefix}.csv\"):\n",
    "        return\n",
    "    if features_available is None:\n",
    "        features_available = []\n",
    "    set_seed()\n",
    "    oracle_net= EnhancedMlpRegressor.load(config.TRAINING_OUTPUT_MODEL)\n",
    "    student_net = EnhancedMlpRegressor.load(config.TRAINING_OUTPUT_MODEL)\n",
    "    \n",
    "    if prune_ratio is not None:\n",
    "        student_net = config.PRUNE_METHOD(student_net, prune_ratio)\n",
    "\n",
    "    idx, idx_oracle = indexes_for_oracle_learning(retrain_ds, features_available, availability)\n",
    "    \n",
    "    key_oracle = (hash(retrain_ds), hash(str(idx_oracle)))\n",
    "    key_student = (hash(retrain_ds), hash(str(idx)), hash(prune_ratio))\n",
    "\n",
    "    if key_oracle not in oracle_cache:\n",
    "        oracle_tmp_val = validation.clone()\n",
    "        oracle_tmp_test = test.clone()\n",
    "        oracle_tmp_val.X.iloc[:, idx_oracle] = 0.\n",
    "        oracle_tmp_test.X.iloc[:, idx_oracle] = 0.\n",
    "        oracle_cache[key_oracle] = {\n",
    "            \"validation\": compute_metric_percategory(oracle_tmp_val.y, oracle_net.predict(oracle_tmp_val.X), oracle_tmp_val._y, scorer=accuracy_score),\n",
    "            \"test\": compute_metric_percategory(oracle_tmp_test.y, oracle_net.predict(oracle_tmp_test.X), oracle_tmp_test._y, scorer=accuracy_score)}\n",
    "\n",
    "    tmp_val = validation.clone()\n",
    "    tmp_test = test.clone()\n",
    "    tmp_val.X.iloc[:, idx] = 0.\n",
    "    tmp_test.X.iloc[:, idx] = 0.\n",
    "\n",
    "    if key_student not in student_cache:\n",
    "        student_cache[key_student] = {\n",
    "            \"validation\": compute_metric_percategory(tmp_val.y, student_net.predict(tmp_val.X), tmp_val._y, scorer=accuracy_score),\n",
    "            \"test\": compute_metric_percategory(tmp_test.y, student_net.predict(tmp_test.X), tmp_test._y, scorer=accuracy_score)}\n",
    "    \n",
    "    hs, m = student_net.fit(retrain_ds, validation_dataset=retrain_val_ds, oracle=oracle_net, idx_active_features=idx, idx_active_features_oracle=idx_oracle,\n",
    "                            monitor_ds=validation, verbose=True, **kwargs)\n",
    "    \n",
    "    dump(m, f\"{save_prefix}_monitored.csv\")\n",
    "    dump(hs, f\"{save_prefix}_history.csv\")\n",
    "    \n",
    "    df = pd.DataFrame(columns=cols)\n",
    "    df.loc[\"Validation Before\"] = student_cache[key_student][\"validation\"]\n",
    "    df.loc[\"Validation After\"] = compute_metric_percategory(tmp_val.y, student_net.predict(tmp_val.X), tmp_val._y, scorer=accuracy_score)\n",
    "    df.loc[\"Test Before\"] = student_cache[key_student][\"test\"]\n",
    "    df.loc[\"Test After\"] = compute_metric_percategory(tmp_test.y, student_net.predict(tmp_test.X), tmp_test._y, scorer=accuracy_score)\n",
    "    df.loc[\"Oracle Validation\"] = oracle_cache[key_oracle][\"validation\"]\n",
    "    df.loc[\"Oracle Test\"] = oracle_cache[key_oracle][\"test\"]\n",
    "    dump(df, f\"{save_prefix}.csv\")\n",
    "    return df"
   ]
  },
  {
   "cell_type": "code",
   "execution_count": 8,
   "metadata": {},
   "outputs": [],
   "source": [
    "def run_scenario(scenario_name, delta_p=None, subset_ratio=None, only_client_categories=False, features_available=None, prune_ratio=None, skip=False, **kwargs):\n",
    "    dirname = config.CLIENT_REFIT_OUTPUT_DIR + scenario_name + (\"_few_c\" if only_client_categories else \"_all_c\") + (f\"_subsetsize_{subset_ratio}\" if subset_ratio is not None else \"\") + (f\"_prune_{prune_ratio}\" if prune_ratio else \"\") + (f\"_drop_{delta_p}\" if delta_p else \"\") + \"/\"\n",
    "    \n",
    "    if not os.path.isdir(dirname) or skip is False:\n",
    "        create_dir(dirname)\n",
    "    tmp_train = train\n",
    "    tmp_val = validation\n",
    "    if only_client_categories:\n",
    "        set_seed()\n",
    "        tmp_train = tmp_train.filter_categories(config.CLIENT_CATEGORIES).balance_categories()\n",
    "        tmp_val = tmp_val.filter_categories(config.CLIENT_CATEGORIES).balance_categories()\n",
    "    print(\"----Running\", len(config.SCENARIOS[scenario_name]), \"combinations for\", scenario_name)\n",
    "    for c in config.SCENARIOS[scenario_name]:\n",
    "        name = dirname + \"-\".join(f\"{k}_{v.name if hasattr(v, 'name') else v}\" for k,v in c.items())\n",
    "        print(name)\n",
    "        run_test(name, tmp_train, tmp_val, **kwargs, features_available=features_available, prune_ratio=prune_ratio, skip=skip, **c)"
   ]
  },
  {
   "cell_type": "code",
   "execution_count": 5,
   "metadata": {},
   "outputs": [],
   "source": [
    "baselines = load(config.RANK_PRUNE_OUTPUT_DIR + f\"baseline.csv\", index_col=0)"
   ]
  },
  {
   "cell_type": "code",
   "execution_count": 5,
   "metadata": {},
   "outputs": [],
   "source": [
    "create_dir(config.CLIENT_REFIT_OUTPUT_DIR)"
   ]
  },
  {
   "cell_type": "markdown",
   "metadata": {},
   "source": [
    "## Test Refit Algoithms for different use cases"
   ]
  },
  {
   "cell_type": "markdown",
   "metadata": {},
   "source": [
    "Oracle to Oracle with only client traffic categories."
   ]
  },
  {
   "cell_type": "code",
   "execution_count": 6,
   "metadata": {},
   "outputs": [
    {
     "name": "stdout",
     "output_type": "stream",
     "text": [
      "----Running 4 combinations for o_to_o\n",
      "refit_output/o_to_o_few_c/algorithm_ground_truth-availability_bilateral-learn_input_client-max_epochs_100-epochs_wo_improve_100-batch_size_512\n"
     ]
    },
    {
     "name": "stderr",
     "output_type": "stream",
     "text": [
      "{'loss_train': 0.0022069270959026084, 'loss_validation': 0.002316353052282783, 'accuracy_score_train': 0.9953076923076923, 'accuracy_score_validation': 0.9943333333333333}: 100%|██████████| 100/100 [00:28<00:00,  3.46it/s]\n"
     ]
    },
    {
     "name": "stdout",
     "output_type": "stream",
     "text": [
      "refit_output/o_to_o_few_c/algorithm_ground_inferred-availability_bilateral-learn_input_client-max_epochs_100-epochs_wo_improve_100-batch_size_512\n"
     ]
    },
    {
     "name": "stderr",
     "output_type": "stream",
     "text": [
      "{'loss_train': 0.0014241236642347026, 'loss_validation': 0.006573372632521398, 'accuracy_score_train': 0.9827692307692307, 'accuracy_score_validation': 0.985}: 100%|██████████| 100/100 [00:28<00:00,  3.46it/s]             \n"
     ]
    },
    {
     "name": "stdout",
     "output_type": "stream",
     "text": [
      "refit_output/o_to_o_few_c/algorithm_knowledge_distillation-availability_bilateral-learn_input_client-learn_kwargs_{'alpha': 0.5}-max_epochs_100-epochs_wo_improve_100-batch_size_512\n"
     ]
    },
    {
     "name": "stderr",
     "output_type": "stream",
     "text": [
      "{'loss_train': 0.0008253561387843412, 'loss_validation': 0.003791229344293009, 'accuracy_score_train': 0.9926923076923077, 'accuracy_score_validation': 0.9916666666666667}: 100%|██████████| 100/100 [00:29<00:00,  3.43it/s]\n"
     ]
    },
    {
     "name": "stdout",
     "output_type": "stream",
     "text": [
      "refit_output/o_to_o_few_c/algorithm_knowledge_distillation-availability_bilateral-learn_input_client-learn_kwargs_{'alpha': 1}-max_epochs_100-epochs_wo_improve_100-batch_size_512\n"
     ]
    },
    {
     "name": "stderr",
     "output_type": "stream",
     "text": [
      "{'loss_train': 0.00016858108290491812, 'loss_validation': 0.006837927505557954, 'accuracy_score_train': 0.9811538461538462, 'accuracy_score_validation': 0.9843333333333333}: 100%|██████████| 100/100 [00:29<00:00,  3.43it/s]\n"
     ]
    }
   ],
   "source": [
    "run_scenario(\"o_to_o\", only_client_categories=True, features_available=None, prune_ratio=None, skip=True)"
   ]
  },
  {
   "cell_type": "markdown",
   "metadata": {},
   "source": [
    "Oracle to Pruned Oracle. Select highest prune ratio with worst performance degradation."
   ]
  },
  {
   "cell_type": "code",
   "execution_count": 26,
   "metadata": {},
   "outputs": [
    {
     "name": "stdout",
     "output_type": "stream",
     "text": [
      "Within a 10% Accuracy drop the highest prune ratio is 0.55 (Drop of -0.05133333333333334)\n"
     ]
    },
    {
     "name": "stdout",
     "output_type": "stream",
     "text": [
      "----Running 4 combinations for o_to_po\n",
      "refit_output/o_to_po_few_c_prune_0.55/algorithm_ground_truth-availability_bilateral-learn_input_client-max_epochs_100-epochs_wo_improve_100-batch_size_512\n"
     ]
    },
    {
     "name": "stderr",
     "output_type": "stream",
     "text": [
      "{'loss_train': 0.0020448204947967753, 'loss_validation': 0.0026935815069141673, 'accuracy_score_train': 0.9957692307692307, 'accuracy_score_validation': 0.9923333333333333}: 100%|██████████| 100/100 [00:30<00:00,  3.32it/s]\n"
     ]
    },
    {
     "name": "stdout",
     "output_type": "stream",
     "text": [
      "refit_output/o_to_po_few_c_prune_0.55/algorithm_ground_inferred-availability_bilateral-learn_input_client-max_epochs_100-epochs_wo_improve_100-batch_size_512\n"
     ]
    },
    {
     "name": "stderr",
     "output_type": "stream",
     "text": [
      "{'loss_train': 0.0013139836333583908, 'loss_validation': 0.007315250626505176, 'accuracy_score_train': 0.9822307692307692, 'accuracy_score_validation': 0.9843333333333333}: 100%|██████████| 100/100 [00:30<00:00,  3.24it/s]\n"
     ]
    },
    {
     "name": "stdout",
     "output_type": "stream",
     "text": [
      "refit_output/o_to_po_few_c_prune_0.55/algorithm_knowledge_distillation-availability_bilateral-learn_input_client-learn_kwargs_{'alpha': 0.5}-max_epochs_100-epochs_wo_improve_100-batch_size_512\n"
     ]
    },
    {
     "name": "stderr",
     "output_type": "stream",
     "text": [
      "{'loss_train': 0.0007123862970705964, 'loss_validation': 0.003990473184824633, 'accuracy_score_train': 0.9927692307692307, 'accuracy_score_validation': 0.991}: 100%|██████████| 100/100 [00:30<00:00,  3.30it/s]             \n"
     ]
    },
    {
     "name": "stdout",
     "output_type": "stream",
     "text": [
      "refit_output/o_to_po_few_c_prune_0.55/algorithm_knowledge_distillation-availability_bilateral-learn_input_client-learn_kwargs_{'alpha': 1}-max_epochs_100-epochs_wo_improve_100-batch_size_512\n"
     ]
    },
    {
     "name": "stderr",
     "output_type": "stream",
     "text": [
      "{'loss_train': 0.0005622415058015678, 'loss_validation': 0.00687859117819212, 'accuracy_score_train': 0.9807692307692307, 'accuracy_score_validation': 0.983}: 100%|██████████| 100/100 [00:29<00:00,  3.34it/s]              \n"
     ]
    }
   ],
   "source": [
    "res = load(config.RANK_PRUNE_OUTPUT_DIR + f\"traffic_few_c_pruning_ratios_only_{config.PRUNE_METHOD.__name__}.csv\", index_col=0)\n",
    "res[\"Accuracy\"] -= baselines.loc[\"Client Traffic\", \"Original Accuracy\"]\n",
    "within_range = res[res[\"Accuracy\"].between(-0.1, 0)]\n",
    "col = within_range[\"Prune Ratio\"]\n",
    "row = within_range.loc[col[col == col.max()].index[-1]]\n",
    "\n",
    "print(\"Within a 10% Accuracy drop the highest prune ratio is\", row[\"Prune Ratio\"], f\"(Drop of {row['Accuracy']})\")\n",
    "run_scenario(\"o_to_po\", add_name=\"drop_10\", only_client_categories=True, features_available=None, prune_ratio=row[\"Prune Ratio\"], skip=False)"
   ]
  },
  {
   "cell_type": "code",
   "execution_count": 31,
   "metadata": {},
   "outputs": [
    {
     "name": "stdout",
     "output_type": "stream",
     "text": [
      "Within a 20% Accuracy drop the highest prune ratio is 0.5 (Drop of -0.11599999999999999)\n"
     ]
    },
    {
     "name": "stdout",
     "output_type": "stream",
     "text": [
      "----Running 4 combinations for o_to_po\n",
      "refit_output/o_to_po_few_c_prune_0.5_drop_20/algorithm_ground_truth-availability_bilateral-learn_input_client-max_epochs_100-epochs_wo_improve_100-batch_size_512\n"
     ]
    },
    {
     "name": "stderr",
     "output_type": "stream",
     "text": [
      "{'loss_train': 0.0015213526654478476, 'loss_validation': 0.0028091429251471964, 'accuracy_score_train': 0.9948461538461538, 'accuracy_score_validation': 0.9926666666666667}: 100%|██████████| 100/100 [00:31<00:00,  3.18it/s]\n"
     ]
    },
    {
     "name": "stdout",
     "output_type": "stream",
     "text": [
      "refit_output/o_to_po_few_c_prune_0.5_drop_20/algorithm_ground_inferred-availability_bilateral-learn_input_client-max_epochs_100-epochs_wo_improve_100-batch_size_512\n"
     ]
    },
    {
     "name": "stderr",
     "output_type": "stream",
     "text": [
      "{'loss_train': 0.0013094845400164065, 'loss_validation': 0.007172847272082223, 'accuracy_score_train': 0.9818461538461538, 'accuracy_score_validation': 0.984}: 100%|██████████| 100/100 [00:30<00:00,  3.25it/s]             \n"
     ]
    },
    {
     "name": "stdout",
     "output_type": "stream",
     "text": [
      "refit_output/o_to_po_few_c_prune_0.5_drop_20/algorithm_knowledge_distillation-availability_bilateral-learn_input_client-learn_kwargs_{'alpha': 0.5}-max_epochs_100-epochs_wo_improve_100-batch_size_512\n"
     ]
    },
    {
     "name": "stderr",
     "output_type": "stream",
     "text": [
      "{'loss_train': 0.0007328926222844289, 'loss_validation': 0.003955769070775684, 'accuracy_score_train': 0.9927692307692307, 'accuracy_score_validation': 0.991}: 100%|██████████| 100/100 [00:31<00:00,  3.22it/s]             \n"
     ]
    },
    {
     "name": "stdout",
     "output_type": "stream",
     "text": [
      "refit_output/o_to_po_few_c_prune_0.5_drop_20/algorithm_knowledge_distillation-availability_bilateral-learn_input_client-learn_kwargs_{'alpha': 1}-max_epochs_100-epochs_wo_improve_100-batch_size_512\n"
     ]
    },
    {
     "name": "stderr",
     "output_type": "stream",
     "text": [
      "{'loss_train': 0.0004400081456609376, 'loss_validation': 0.0066844856676525535, 'accuracy_score_train': 0.9806923076923076, 'accuracy_score_validation': 0.984}: 100%|██████████| 100/100 [00:30<00:00,  3.23it/s]             \n"
     ]
    }
   ],
   "source": [
    "res = load(config.RANK_PRUNE_OUTPUT_DIR + f\"traffic_few_c_pruning_ratios_only_{config.PRUNE_METHOD.__name__}.csv\", index_col=0)\n",
    "res[\"Accuracy\"] -= baselines.loc[\"Client Traffic\", \"Original Accuracy\"]\n",
    "within_range = res[res[\"Accuracy\"].between(-0.2, -0.1)]\n",
    "col = within_range[\"Prune Ratio\"]\n",
    "row = within_range.loc[col[col == col.max()].index[-1]]\n",
    "\n",
    "print(\"Within a 20% Accuracy drop the highest prune ratio is\", row[\"Prune Ratio\"], f\"(Drop of {row['Accuracy']})\")\n",
    "run_scenario(\"o_to_po\", add_name=\"drop_20\", only_client_categories=True, features_available=None, prune_ratio=row[\"Prune Ratio\"], skip=False)"
   ]
  },
  {
   "cell_type": "markdown",
   "metadata": {},
   "source": [
    "Oracle to Edge Oracle. Select the worst performant accepted feature subset."
   ]
  },
  {
   "cell_type": "code",
   "execution_count": 19,
   "metadata": {},
   "outputs": [
    {
     "name": "stdout",
     "output_type": "stream",
     "text": [
      "Skipping 0.1 as no data within the range\n",
      "For a subset size of ratio 0.3 the worst performant subset within 20% drop achieved an Accuracy of -0.09799999999999998\n",
      "----Running 15 combinations for o_to_eo\n",
      "refit_output/o_to_eo_few_c_subsetsize_0.3_drop_0.1/algorithm_ground_truth-availability_none-learn_input_client-max_epochs_100-epochs_wo_improve_100-batch_size_512\n"
     ]
    },
    {
     "name": "stderr",
     "output_type": "stream",
     "text": [
      "{'loss_train': 0.004451889361738448, 'loss_validation': 0.004921584376247475, 'accuracy_score_train': 0.9906153846153846, 'accuracy_score_validation': 0.989}: 100%|██████████| 100/100 [00:27<00:00,  3.59it/s]              \n"
     ]
    },
    {
     "name": "stdout",
     "output_type": "stream",
     "text": [
      "refit_output/o_to_eo_few_c_subsetsize_0.3_drop_0.1/algorithm_ground_inferred-availability_none-learn_input_client-max_epochs_100-epochs_wo_improve_100-batch_size_512\n"
     ]
    },
    {
     "name": "stderr",
     "output_type": "stream",
     "text": [
      "{'loss_train': 0.0009716898754499468, 'loss_validation': 0.059480075604283776, 'accuracy_score_train': 0.8735384615384615, 'accuracy_score_validation': 0.8786666666666667}: 100%|██████████| 100/100 [00:27<00:00,  3.59it/s]\n"
     ]
    },
    {
     "name": "stdout",
     "output_type": "stream",
     "text": [
      "refit_output/o_to_eo_few_c_subsetsize_0.3_drop_0.1/algorithm_knowledge_distillation-availability_none-learn_input_client-learn_kwargs_{'alpha': 0.5}-max_epochs_100-epochs_wo_improve_100-batch_size_512\n"
     ]
    },
    {
     "name": "stderr",
     "output_type": "stream",
     "text": [
      "{'loss_train': 0.001093433533844171, 'loss_validation': 0.0191041683114417, 'accuracy_score_train': 0.9680769230769231, 'accuracy_score_validation': 0.969}: 100%|██████████| 100/100 [00:28<00:00,  3.57it/s]               \n"
     ]
    },
    {
     "name": "stdout",
     "output_type": "stream",
     "text": [
      "refit_output/o_to_eo_few_c_subsetsize_0.3_drop_0.1/algorithm_knowledge_distillation-availability_none-learn_input_client-learn_kwargs_{'alpha': 1}-max_epochs_100-epochs_wo_improve_100-batch_size_512\n"
     ]
    },
    {
     "name": "stderr",
     "output_type": "stream",
     "text": [
      "{'loss_train': 0.00018748649147013502, 'loss_validation': 0.06406054299808658, 'accuracy_score_train': 0.8736153846153846, 'accuracy_score_validation': 0.8796666666666667}: 100%|██████████| 100/100 [00:27<00:00,  3.59it/s]\n"
     ]
    },
    {
     "name": "stdout",
     "output_type": "stream",
     "text": [
      "refit_output/o_to_eo_few_c_subsetsize_0.3_drop_0.1/algorithm_ground_truth-availability_oracle-learn_input_oracle-max_epochs_100-epochs_wo_improve_100-batch_size_512\n"
     ]
    },
    {
     "name": "stderr",
     "output_type": "stream",
     "text": [
      "{'loss_train': 0.0022069270959026084, 'loss_validation': 0.14565811514976543, 'accuracy_score_train': 0.6023076923076923, 'accuracy_score_validation': 0.5983333333333334}: 100%|██████████| 100/100 [00:27<00:00,  3.59it/s]\n"
     ]
    },
    {
     "name": "stdout",
     "output_type": "stream",
     "text": [
      "refit_output/o_to_eo_few_c_subsetsize_0.3_drop_0.1/algorithm_ground_inferred-availability_oracle-learn_input_client-max_epochs_100-epochs_wo_improve_100-batch_size_512\n"
     ]
    },
    {
     "name": "stderr",
     "output_type": "stream",
     "text": [
      "{'loss_train': 0.005202471118010233, 'loss_validation': 0.006143867280563273, 'accuracy_score_train': 0.9883846153846154, 'accuracy_score_validation': 0.9886666666666667}: 100%|██████████| 100/100 [00:27<00:00,  3.59it/s] \n"
     ]
    },
    {
     "name": "stdout",
     "output_type": "stream",
     "text": [
      "refit_output/o_to_eo_few_c_subsetsize_0.3_drop_0.1/algorithm_knowledge_distillation-availability_oracle-learn_input_client-learn_kwargs_{'alpha': 0.5}-max_epochs_100-epochs_wo_improve_100-batch_size_512\n"
     ]
    },
    {
     "name": "stderr",
     "output_type": "stream",
     "text": [
      "{'loss_train': 0.0019705389382074483, 'loss_validation': 0.004710904601840043, 'accuracy_score_train': 0.9905384615384616, 'accuracy_score_validation': 0.9893333333333333}: 100%|██████████| 100/100 [00:27<00:00,  3.59it/s]\n"
     ]
    },
    {
     "name": "stdout",
     "output_type": "stream",
     "text": [
      "refit_output/o_to_eo_few_c_subsetsize_0.3_drop_0.1/algorithm_knowledge_distillation-availability_oracle-learn_input_client-learn_kwargs_{'alpha': 1}-max_epochs_100-epochs_wo_improve_100-batch_size_512\n"
     ]
    },
    {
     "name": "stderr",
     "output_type": "stream",
     "text": [
      "{'loss_train': 0.003057441121386151, 'loss_validation': 0.005928576376804633, 'accuracy_score_train': 0.9890769230769231, 'accuracy_score_validation': 0.9886666666666667}: 100%|██████████| 100/100 [00:27<00:00,  3.57it/s] \n"
     ]
    },
    {
     "name": "stdout",
     "output_type": "stream",
     "text": [
      "refit_output/o_to_eo_few_c_subsetsize_0.3_drop_0.1/algorithm_ground_inferred-availability_oracle-learn_input_oracle-max_epochs_100-epochs_wo_improve_100-batch_size_512\n"
     ]
    },
    {
     "name": "stderr",
     "output_type": "stream",
     "text": [
      "{'loss_train': 0.0014241236642347026, 'loss_validation': 0.10344935946799595, 'accuracy_score_train': 0.703076923076923, 'accuracy_score_validation': 0.701}: 100%|██████████| 100/100 [00:27<00:00,  3.64it/s]              \n"
     ]
    },
    {
     "name": "stdout",
     "output_type": "stream",
     "text": [
      "refit_output/o_to_eo_few_c_subsetsize_0.3_drop_0.1/algorithm_knowledge_distillation-availability_oracle-learn_input_oracle-learn_kwargs_{'alpha': 0.5}-max_epochs_100-epochs_wo_improve_100-batch_size_512\n"
     ]
    },
    {
     "name": "stderr",
     "output_type": "stream",
     "text": [
      "{'loss_train': 0.0008253561387843412, 'loss_validation': 0.05408478106086892, 'accuracy_score_train': 0.8896153846153846, 'accuracy_score_validation': 0.893}: 100%|██████████| 100/100 [00:27<00:00,  3.62it/s]             \n"
     ]
    },
    {
     "name": "stdout",
     "output_type": "stream",
     "text": [
      "refit_output/o_to_eo_few_c_subsetsize_0.3_drop_0.1/algorithm_knowledge_distillation-availability_oracle-learn_input_oracle-learn_kwargs_{'alpha': 1}-max_epochs_100-epochs_wo_improve_100-batch_size_512\n"
     ]
    },
    {
     "name": "stderr",
     "output_type": "stream",
     "text": [
      "{'loss_train': 0.00016858108290491812, 'loss_validation': 0.05872745869456503, 'accuracy_score_train': 0.88, 'accuracy_score_validation': 0.8833333333333333}: 100%|██████████| 100/100 [00:27<00:00,  3.63it/s]              \n"
     ]
    },
    {
     "name": "stdout",
     "output_type": "stream",
     "text": [
      "refit_output/o_to_eo_few_c_subsetsize_0.3_drop_0.1/algorithm_ground_truth-availability_oracle-learn_input_mixed-max_epochs_100-epochs_wo_improve_100-batch_size_512\n"
     ]
    },
    {
     "name": "stderr",
     "output_type": "stream",
     "text": [
      "{'loss_train': 0.003125475902547545, 'loss_validation': 0.03888497066318698, 'accuracy_score_train': 0.8940769230769231, 'accuracy_score_validation': 0.896}: 100%|██████████| 100/100 [00:35<00:00,  2.84it/s]              \n"
     ]
    },
    {
     "name": "stdout",
     "output_type": "stream",
     "text": [
      "refit_output/o_to_eo_few_c_subsetsize_0.3_drop_0.1/algorithm_ground_inferred-availability_oracle-learn_input_mixed-max_epochs_100-epochs_wo_improve_100-batch_size_512\n"
     ]
    },
    {
     "name": "stderr",
     "output_type": "stream",
     "text": [
      "{'loss_train': 0.1239701031898482, 'loss_validation': 0.13317081541297046, 'accuracy_score_train': 0.4580769230769231, 'accuracy_score_validation': 0.454}: 100%|██████████| 100/100 [00:35<00:00,  2.81it/s]               \n"
     ]
    },
    {
     "name": "stdout",
     "output_type": "stream",
     "text": [
      "refit_output/o_to_eo_few_c_subsetsize_0.3_drop_0.1/algorithm_knowledge_distillation-availability_oracle-learn_input_mixed-learn_kwargs_{'alpha': 0.5}-max_epochs_100-epochs_wo_improve_100-batch_size_512\n"
     ]
    },
    {
     "name": "stderr",
     "output_type": "stream",
     "text": [
      "{'loss_train': 0.03000973223586124, 'loss_validation': 0.11298226892527591, 'accuracy_score_train': 0.5496923076923077, 'accuracy_score_validation': 0.552}: 100%|██████████| 100/100 [00:35<00:00,  2.79it/s]              \n"
     ]
    },
    {
     "name": "stdout",
     "output_type": "stream",
     "text": [
      "refit_output/o_to_eo_few_c_subsetsize_0.3_drop_0.1/algorithm_knowledge_distillation-availability_oracle-learn_input_mixed-learn_kwargs_{'alpha': 1}-max_epochs_100-epochs_wo_improve_100-batch_size_512\n"
     ]
    },
    {
     "name": "stderr",
     "output_type": "stream",
     "text": [
      "{'loss_train': 0.11685230505897863, 'loss_validation': 0.11606510931720038, 'accuracy_score_train': 0.6516153846153846, 'accuracy_score_validation': 0.6436666666666667}: 100%|██████████| 100/100 [00:36<00:00,  2.75it/s] \n"
     ]
    },
    {
     "name": "stdout",
     "output_type": "stream",
     "text": [
      "For a subset size of ratio 0.5 the worst performant subset within 20% drop achieved an Accuracy of -0.09999999999999998\n",
      "----Running 15 combinations for o_to_eo\n",
      "refit_output/o_to_eo_few_c_subsetsize_0.5_drop_0.1/algorithm_ground_truth-availability_none-learn_input_client-max_epochs_100-epochs_wo_improve_100-batch_size_512\n"
     ]
    },
    {
     "name": "stderr",
     "output_type": "stream",
     "text": [
      "{'loss_train': 0.0025559782516028223, 'loss_validation': 0.0030295244519319836, 'accuracy_score_train': 0.9938461538461538, 'accuracy_score_validation': 0.993}: 100%|██████████| 100/100 [00:28<00:00,  3.46it/s]            \n"
     ]
    },
    {
     "name": "stdout",
     "output_type": "stream",
     "text": [
      "refit_output/o_to_eo_few_c_subsetsize_0.5_drop_0.1/algorithm_ground_inferred-availability_none-learn_input_client-max_epochs_100-epochs_wo_improve_100-batch_size_512\n"
     ]
    },
    {
     "name": "stderr",
     "output_type": "stream",
     "text": [
      "{'loss_train': 0.0007060624434086958, 'loss_validation': 0.057011961657235474, 'accuracy_score_train': 0.8822307692307693, 'accuracy_score_validation': 0.885}: 100%|██████████| 100/100 [00:29<00:00,  3.44it/s]            \n"
     ]
    },
    {
     "name": "stdout",
     "output_type": "stream",
     "text": [
      "refit_output/o_to_eo_few_c_subsetsize_0.5_drop_0.1/algorithm_knowledge_distillation-availability_none-learn_input_client-learn_kwargs_{'alpha': 0.5}-max_epochs_100-epochs_wo_improve_100-batch_size_512\n"
     ]
    },
    {
     "name": "stderr",
     "output_type": "stream",
     "text": [
      "{'loss_train': 0.0008569022449109911, 'loss_validation': 0.014679077863840284, 'accuracy_score_train': 0.9690769230769231, 'accuracy_score_validation': 0.966}: 100%|██████████| 100/100 [00:28<00:00,  3.46it/s]            \n"
     ]
    },
    {
     "name": "stdout",
     "output_type": "stream",
     "text": [
      "refit_output/o_to_eo_few_c_subsetsize_0.5_drop_0.1/algorithm_knowledge_distillation-availability_none-learn_input_client-learn_kwargs_{'alpha': 1}-max_epochs_100-epochs_wo_improve_100-batch_size_512\n"
     ]
    },
    {
     "name": "stderr",
     "output_type": "stream",
     "text": [
      "{'loss_train': 0.00015769004881865722, 'loss_validation': 0.05215445078394388, 'accuracy_score_train': 0.8819230769230769, 'accuracy_score_validation': 0.8843333333333333}: 100%|██████████| 100/100 [00:29<00:00,  3.42it/s]\n"
     ]
    },
    {
     "name": "stdout",
     "output_type": "stream",
     "text": [
      "refit_output/o_to_eo_few_c_subsetsize_0.5_drop_0.1/algorithm_ground_truth-availability_oracle-learn_input_oracle-max_epochs_100-epochs_wo_improve_100-batch_size_512\n"
     ]
    },
    {
     "name": "stderr",
     "output_type": "stream",
     "text": [
      "{'loss_train': 0.0022069270959026084, 'loss_validation': 0.03030599950570704, 'accuracy_score_train': 0.9304615384615385, 'accuracy_score_validation': 0.9346666666666666}: 100%|██████████| 100/100 [00:29<00:00,  3.39it/s]\n"
     ]
    },
    {
     "name": "stdout",
     "output_type": "stream",
     "text": [
      "refit_output/o_to_eo_few_c_subsetsize_0.5_drop_0.1/algorithm_ground_inferred-availability_oracle-learn_input_client-max_epochs_100-epochs_wo_improve_100-batch_size_512\n"
     ]
    },
    {
     "name": "stderr",
     "output_type": "stream",
     "text": [
      "{'loss_train': 0.003951383271503045, 'loss_validation': 0.006074997547674159, 'accuracy_score_train': 0.9811538461538462, 'accuracy_score_validation': 0.9826666666666667}: 100%|██████████| 100/100 [00:29<00:00,  3.42it/s]\n"
     ]
    },
    {
     "name": "stdout",
     "output_type": "stream",
     "text": [
      "refit_output/o_to_eo_few_c_subsetsize_0.5_drop_0.1/algorithm_knowledge_distillation-availability_oracle-learn_input_client-learn_kwargs_{'alpha': 0.5}-max_epochs_100-epochs_wo_improve_100-batch_size_512\n"
     ]
    },
    {
     "name": "stderr",
     "output_type": "stream",
     "text": [
      "{'loss_train': 0.0012350290015038503, 'loss_validation': 0.004135586110054204, 'accuracy_score_train': 0.9922307692307692, 'accuracy_score_validation': 0.991}: 100%|██████████| 100/100 [00:29<00:00,  3.42it/s]             \n"
     ]
    },
    {
     "name": "stdout",
     "output_type": "stream",
     "text": [
      "refit_output/o_to_eo_few_c_subsetsize_0.5_drop_0.1/algorithm_knowledge_distillation-availability_oracle-learn_input_client-learn_kwargs_{'alpha': 1}-max_epochs_100-epochs_wo_improve_100-batch_size_512\n"
     ]
    },
    {
     "name": "stderr",
     "output_type": "stream",
     "text": [
      "{'loss_train': 0.002039939672714786, 'loss_validation': 0.006574215046394535, 'accuracy_score_train': 0.9830769230769231, 'accuracy_score_validation': 0.9836666666666667}: 100%|██████████| 100/100 [00:29<00:00,  3.36it/s] \n"
     ]
    },
    {
     "name": "stdout",
     "output_type": "stream",
     "text": [
      "refit_output/o_to_eo_few_c_subsetsize_0.5_drop_0.1/algorithm_ground_inferred-availability_oracle-learn_input_oracle-max_epochs_100-epochs_wo_improve_100-batch_size_512\n"
     ]
    },
    {
     "name": "stderr",
     "output_type": "stream",
     "text": [
      "{'loss_train': 0.0014241236642347026, 'loss_validation': 0.03390088893862637, 'accuracy_score_train': 0.9331538461538461, 'accuracy_score_validation': 0.9366666666666666}: 100%|██████████| 100/100 [00:30<00:00,  3.28it/s]\n"
     ]
    },
    {
     "name": "stdout",
     "output_type": "stream",
     "text": [
      "refit_output/o_to_eo_few_c_subsetsize_0.5_drop_0.1/algorithm_knowledge_distillation-availability_oracle-learn_input_oracle-learn_kwargs_{'alpha': 0.5}-max_epochs_100-epochs_wo_improve_100-batch_size_512\n"
     ]
    },
    {
     "name": "stderr",
     "output_type": "stream",
     "text": [
      "{'loss_train': 0.0008253561387843412, 'loss_validation': 0.03441576298979905, 'accuracy_score_train': 0.9028461538461539, 'accuracy_score_validation': 0.904}: 100%|██████████| 100/100 [00:30<00:00,  3.29it/s]             \n"
     ]
    },
    {
     "name": "stdout",
     "output_type": "stream",
     "text": [
      "refit_output/o_to_eo_few_c_subsetsize_0.5_drop_0.1/algorithm_knowledge_distillation-availability_oracle-learn_input_oracle-learn_kwargs_{'alpha': 1}-max_epochs_100-epochs_wo_improve_100-batch_size_512\n"
     ]
    },
    {
     "name": "stderr",
     "output_type": "stream",
     "text": [
      "{'loss_train': 0.00016858108290491812, 'loss_validation': 0.045195494755944615, 'accuracy_score_train': 0.8878461538461538, 'accuracy_score_validation': 0.8886666666666667}: 100%|██████████| 100/100 [00:30<00:00,  3.32it/s]\n"
     ]
    },
    {
     "name": "stdout",
     "output_type": "stream",
     "text": [
      "refit_output/o_to_eo_few_c_subsetsize_0.5_drop_0.1/algorithm_ground_truth-availability_oracle-learn_input_mixed-max_epochs_100-epochs_wo_improve_100-batch_size_512\n"
     ]
    },
    {
     "name": "stderr",
     "output_type": "stream",
     "text": [
      "{'loss_train': 0.003125475902547545, 'loss_validation': 0.03823163736321147, 'accuracy_score_train': 0.9093846153846153, 'accuracy_score_validation': 0.9093333333333333}: 100%|██████████| 100/100 [00:37<00:00,  2.63it/s] \n"
     ]
    },
    {
     "name": "stdout",
     "output_type": "stream",
     "text": [
      "refit_output/o_to_eo_few_c_subsetsize_0.5_drop_0.1/algorithm_ground_inferred-availability_oracle-learn_input_mixed-max_epochs_100-epochs_wo_improve_100-batch_size_512\n"
     ]
    },
    {
     "name": "stderr",
     "output_type": "stream",
     "text": [
      "{'loss_train': 0.1239701031898482, 'loss_validation': 0.11435157053087862, 'accuracy_score_train': 0.6166153846153846, 'accuracy_score_validation': 0.6153333333333333}: 100%|██████████| 100/100 [00:38<00:00,  2.63it/s]  \n"
     ]
    },
    {
     "name": "stdout",
     "output_type": "stream",
     "text": [
      "refit_output/o_to_eo_few_c_subsetsize_0.5_drop_0.1/algorithm_knowledge_distillation-availability_oracle-learn_input_mixed-learn_kwargs_{'alpha': 0.5}-max_epochs_100-epochs_wo_improve_100-batch_size_512\n"
     ]
    },
    {
     "name": "stderr",
     "output_type": "stream",
     "text": [
      "{'loss_train': 0.03000973223586124, 'loss_validation': 0.04616393655869928, 'accuracy_score_train': 0.9138461538461539, 'accuracy_score_validation': 0.9123333333333333}: 100%|██████████| 100/100 [00:38<00:00,  2.62it/s] \n"
     ]
    },
    {
     "name": "stdout",
     "output_type": "stream",
     "text": [
      "refit_output/o_to_eo_few_c_subsetsize_0.5_drop_0.1/algorithm_knowledge_distillation-availability_oracle-learn_input_mixed-learn_kwargs_{'alpha': 1}-max_epochs_100-epochs_wo_improve_100-batch_size_512\n"
     ]
    },
    {
     "name": "stderr",
     "output_type": "stream",
     "text": [
      "{'loss_train': 0.11685230505897863, 'loss_validation': 0.11321532025384427, 'accuracy_score_train': 0.711, 'accuracy_score_validation': 0.7103333333333334}: 100%|██████████| 100/100 [00:37<00:00,  2.65it/s]             \n"
     ]
    },
    {
     "name": "stdout",
     "output_type": "stream",
     "text": [
      "For a subset size of ratio 0.8 the worst performant subset within 20% drop achieved an Accuracy of -0.09666666666666668\n",
      "----Running 15 combinations for o_to_eo\n",
      "refit_output/o_to_eo_few_c_subsetsize_0.8_drop_0.1/algorithm_ground_truth-availability_none-learn_input_client-max_epochs_100-epochs_wo_improve_100-batch_size_512\n"
     ]
    },
    {
     "name": "stderr",
     "output_type": "stream",
     "text": [
      "{'loss_train': 0.0027006861243620613, 'loss_validation': 0.0025952729634550423, 'accuracy_score_train': 0.9946153846153846, 'accuracy_score_validation': 0.9936666666666667}: 100%|██████████| 100/100 [00:29<00:00,  3.41it/s]\n"
     ]
    },
    {
     "name": "stdout",
     "output_type": "stream",
     "text": [
      "refit_output/o_to_eo_few_c_subsetsize_0.8_drop_0.1/algorithm_ground_inferred-availability_none-learn_input_client-max_epochs_100-epochs_wo_improve_100-batch_size_512\n"
     ]
    },
    {
     "name": "stderr",
     "output_type": "stream",
     "text": [
      "{'loss_train': 0.0015313111888614656, 'loss_validation': 0.057319239636916694, 'accuracy_score_train': 0.8915384615384615, 'accuracy_score_validation': 0.8873333333333333}: 100%|██████████| 100/100 [00:29<00:00,  3.44it/s]\n"
     ]
    },
    {
     "name": "stdout",
     "output_type": "stream",
     "text": [
      "refit_output/o_to_eo_few_c_subsetsize_0.8_drop_0.1/algorithm_knowledge_distillation-availability_none-learn_input_client-learn_kwargs_{'alpha': 0.5}-max_epochs_100-epochs_wo_improve_100-batch_size_512\n"
     ]
    },
    {
     "name": "stderr",
     "output_type": "stream",
     "text": [
      "{'loss_train': 0.0007967235547257645, 'loss_validation': 0.010965835014520097, 'accuracy_score_train': 0.9912307692307692, 'accuracy_score_validation': 0.99}: 100%|██████████| 100/100 [00:29<00:00,  3.45it/s]             \n"
     ]
    },
    {
     "name": "stdout",
     "output_type": "stream",
     "text": [
      "refit_output/o_to_eo_few_c_subsetsize_0.8_drop_0.1/algorithm_knowledge_distillation-availability_none-learn_input_client-learn_kwargs_{'alpha': 1}-max_epochs_100-epochs_wo_improve_100-batch_size_512\n"
     ]
    },
    {
     "name": "stderr",
     "output_type": "stream",
     "text": [
      "{'loss_train': 0.00023258275973174388, 'loss_validation': 0.031256333040439455, 'accuracy_score_train': 0.8938461538461538, 'accuracy_score_validation': 0.8873333333333333}: 100%|██████████| 100/100 [00:29<00:00,  3.34it/s]\n"
     ]
    },
    {
     "name": "stdout",
     "output_type": "stream",
     "text": [
      "refit_output/o_to_eo_few_c_subsetsize_0.8_drop_0.1/algorithm_ground_truth-availability_oracle-learn_input_oracle-max_epochs_100-epochs_wo_improve_100-batch_size_512\n"
     ]
    },
    {
     "name": "stderr",
     "output_type": "stream",
     "text": [
      "{'loss_train': 0.0022069270959026084, 'loss_validation': 0.011141121942926924, 'accuracy_score_train': 0.9678461538461538, 'accuracy_score_validation': 0.9683333333333334}: 100%|██████████| 100/100 [00:29<00:00,  3.37it/s]\n"
     ]
    },
    {
     "name": "stdout",
     "output_type": "stream",
     "text": [
      "refit_output/o_to_eo_few_c_subsetsize_0.8_drop_0.1/algorithm_ground_inferred-availability_oracle-learn_input_client-max_epochs_100-epochs_wo_improve_100-batch_size_512\n"
     ]
    },
    {
     "name": "stderr",
     "output_type": "stream",
     "text": [
      "{'loss_train': 0.0025606718197002452, 'loss_validation': 0.00537706778439788, 'accuracy_score_train': 0.9816923076923076, 'accuracy_score_validation': 0.984}: 100%|██████████| 100/100 [00:30<00:00,  3.33it/s]              \n"
     ]
    },
    {
     "name": "stdout",
     "output_type": "stream",
     "text": [
      "refit_output/o_to_eo_few_c_subsetsize_0.8_drop_0.1/algorithm_knowledge_distillation-availability_oracle-learn_input_client-learn_kwargs_{'alpha': 0.5}-max_epochs_100-epochs_wo_improve_100-batch_size_512\n"
     ]
    },
    {
     "name": "stderr",
     "output_type": "stream",
     "text": [
      "{'loss_train': 0.0011518131503368786, 'loss_validation': 0.004215332654809445, 'accuracy_score_train': 0.9917692307692307, 'accuracy_score_validation': 0.9906666666666667}: 100%|██████████| 100/100 [00:29<00:00,  3.33it/s]\n"
     ]
    },
    {
     "name": "stdout",
     "output_type": "stream",
     "text": [
      "refit_output/o_to_eo_few_c_subsetsize_0.8_drop_0.1/algorithm_knowledge_distillation-availability_oracle-learn_input_client-learn_kwargs_{'alpha': 1}-max_epochs_100-epochs_wo_improve_100-batch_size_512\n"
     ]
    },
    {
     "name": "stderr",
     "output_type": "stream",
     "text": [
      "{'loss_train': 0.0013410620193256265, 'loss_validation': 0.006489508906249612, 'accuracy_score_train': 0.9807692307692307, 'accuracy_score_validation': 0.9826666666666667}: 100%|██████████| 100/100 [00:29<00:00,  3.35it/s]\n"
     ]
    },
    {
     "name": "stdout",
     "output_type": "stream",
     "text": [
      "refit_output/o_to_eo_few_c_subsetsize_0.8_drop_0.1/algorithm_ground_inferred-availability_oracle-learn_input_oracle-max_epochs_100-epochs_wo_improve_100-batch_size_512\n"
     ]
    },
    {
     "name": "stderr",
     "output_type": "stream",
     "text": [
      "{'loss_train': 0.0014241236642347026, 'loss_validation': 0.017426849973004668, 'accuracy_score_train': 0.95, 'accuracy_score_validation': 0.9543333333333334}: 100%|██████████| 100/100 [00:29<00:00,  3.34it/s]             \n"
     ]
    },
    {
     "name": "stdout",
     "output_type": "stream",
     "text": [
      "refit_output/o_to_eo_few_c_subsetsize_0.8_drop_0.1/algorithm_knowledge_distillation-availability_oracle-learn_input_oracle-learn_kwargs_{'alpha': 0.5}-max_epochs_100-epochs_wo_improve_100-batch_size_512\n"
     ]
    },
    {
     "name": "stderr",
     "output_type": "stream",
     "text": [
      "{'loss_train': 0.0008253561387843412, 'loss_validation': 0.012177673775023604, 'accuracy_score_train': 0.9653846153846154, 'accuracy_score_validation': 0.9703333333333334}: 100%|██████████| 100/100 [00:30<00:00,  3.33it/s]\n"
     ]
    },
    {
     "name": "stdout",
     "output_type": "stream",
     "text": [
      "refit_output/o_to_eo_few_c_subsetsize_0.8_drop_0.1/algorithm_knowledge_distillation-availability_oracle-learn_input_oracle-learn_kwargs_{'alpha': 1}-max_epochs_100-epochs_wo_improve_100-batch_size_512\n"
     ]
    },
    {
     "name": "stderr",
     "output_type": "stream",
     "text": [
      "{'loss_train': 0.00016858108290491812, 'loss_validation': 0.016383241009876662, 'accuracy_score_train': 0.9704615384615385, 'accuracy_score_validation': 0.9753333333333334}: 100%|██████████| 100/100 [00:29<00:00,  3.34it/s]\n"
     ]
    },
    {
     "name": "stdout",
     "output_type": "stream",
     "text": [
      "refit_output/o_to_eo_few_c_subsetsize_0.8_drop_0.1/algorithm_ground_truth-availability_oracle-learn_input_mixed-max_epochs_100-epochs_wo_improve_100-batch_size_512\n"
     ]
    },
    {
     "name": "stderr",
     "output_type": "stream",
     "text": [
      "{'loss_train': 0.003125475902547545, 'loss_validation': 0.004515158425366134, 'accuracy_score_train': 0.9916153846153846, 'accuracy_score_validation': 0.99}: 100%|██████████| 100/100 [00:37<00:00,  2.65it/s]               \n"
     ]
    },
    {
     "name": "stdout",
     "output_type": "stream",
     "text": [
      "refit_output/o_to_eo_few_c_subsetsize_0.8_drop_0.1/algorithm_ground_inferred-availability_oracle-learn_input_mixed-max_epochs_100-epochs_wo_improve_100-batch_size_512\n"
     ]
    },
    {
     "name": "stderr",
     "output_type": "stream",
     "text": [
      "{'loss_train': 0.1239701031898482, 'loss_validation': 0.11997682675086531, 'accuracy_score_train': 0.7723076923076924, 'accuracy_score_validation': 0.785}: 100%|██████████| 100/100 [00:37<00:00,  2.67it/s]               \n"
     ]
    },
    {
     "name": "stdout",
     "output_type": "stream",
     "text": [
      "refit_output/o_to_eo_few_c_subsetsize_0.8_drop_0.1/algorithm_knowledge_distillation-availability_oracle-learn_input_mixed-learn_kwargs_{'alpha': 0.5}-max_epochs_100-epochs_wo_improve_100-batch_size_512\n"
     ]
    },
    {
     "name": "stderr",
     "output_type": "stream",
     "text": [
      "{'loss_train': 0.03000973223586124, 'loss_validation': 0.03124870693711036, 'accuracy_score_train': 0.981, 'accuracy_score_validation': 0.9826666666666667}: 100%|██████████| 100/100 [00:37<00:00,  2.65it/s]              \n"
     ]
    },
    {
     "name": "stdout",
     "output_type": "stream",
     "text": [
      "refit_output/o_to_eo_few_c_subsetsize_0.8_drop_0.1/algorithm_knowledge_distillation-availability_oracle-learn_input_mixed-learn_kwargs_{'alpha': 1}-max_epochs_100-epochs_wo_improve_100-batch_size_512\n"
     ]
    },
    {
     "name": "stderr",
     "output_type": "stream",
     "text": [
      "{'loss_train': 0.11685230505897863, 'loss_validation': 0.11922690276848304, 'accuracy_score_train': 0.7356153846153846, 'accuracy_score_validation': 0.7373333333333333}: 100%|██████████| 100/100 [00:37<00:00,  2.66it/s] \n"
     ]
    }
   ],
   "source": [
    "for s in config.TARGET_SUBSET_RATIOS:\n",
    "    res = load(config.RANK_PRUNE_OUTPUT_DIR + f\"rank_few_c_traffic_few_c_subsets_features_for_subsetsize_{s}.csv\", index_col=0)\n",
    "    res[\"Accuracy\"] -= baselines.loc[\"Client Traffic\", \"Original Accuracy\"]\n",
    "    within_range = res[res[\"Accuracy\"].between(-0.1, 0)]\n",
    "    if within_range.empty:\n",
    "        print(\"Skipping\", s, \"as no data within the range\")\n",
    "        continue\n",
    "    worst_row = within_range.iloc[-1]\n",
    "    subset = worst_row[~worst_row.index.isin([\"Accuracy\"]) & worst_row.notnull()].index.values\n",
    "    print(\"For a subset size of ratio\", s, \"the worst performant subset within 10% drop achieved an Accuracy of\", worst_row[\"Accuracy\"])\n",
    "    run_scenario(\"o_to_eo\", only_client_categories=True, features_available=subset, delta_p=0.1, subset_ratio=s, prune_ratio=None, skip=True)"
   ]
  },
  {
   "cell_type": "code",
   "execution_count": 20,
   "metadata": {},
   "outputs": [
    {
     "name": "stdout",
     "output_type": "stream",
     "text": [
      "For a subset size of ratio 0.1 the worst performant subset within 20% drop achieved an Accuracy of -0.19833333333333336\n",
      "----Running 15 combinations for o_to_eo\n",
      "refit_output/o_to_eo_few_c_subsetsize_0.1_drop_0.2/algorithm_ground_truth-availability_none-learn_input_client-max_epochs_100-epochs_wo_improve_100-batch_size_512\n"
     ]
    },
    {
     "name": "stderr",
     "output_type": "stream",
     "text": [
      "{'loss_train': 0.005514478786100547, 'loss_validation': 0.006456528649875909, 'accuracy_score_train': 0.9869230769230769, 'accuracy_score_validation': 0.9853333333333333}: 100%|██████████| 100/100 [00:29<00:00,  3.36it/s] \n"
     ]
    },
    {
     "name": "stdout",
     "output_type": "stream",
     "text": [
      "refit_output/o_to_eo_few_c_subsetsize_0.1_drop_0.2/algorithm_ground_inferred-availability_none-learn_input_client-max_epochs_100-epochs_wo_improve_100-batch_size_512\n"
     ]
    },
    {
     "name": "stderr",
     "output_type": "stream",
     "text": [
      "{'loss_train': 0.0033328680545137335, 'loss_validation': 0.10674320422022847, 'accuracy_score_train': 0.7894615384615384, 'accuracy_score_validation': 0.7753333333333333}: 100%|██████████| 100/100 [00:29<00:00,  3.35it/s]\n"
     ]
    },
    {
     "name": "stdout",
     "output_type": "stream",
     "text": [
      "refit_output/o_to_eo_few_c_subsetsize_0.1_drop_0.2/algorithm_knowledge_distillation-availability_none-learn_input_client-learn_kwargs_{'alpha': 0.5}-max_epochs_100-epochs_wo_improve_100-batch_size_512\n"
     ]
    },
    {
     "name": "stderr",
     "output_type": "stream",
     "text": [
      "{'loss_train': 0.0016455443202609116, 'loss_validation': 0.028038767067298152, 'accuracy_score_train': 0.9403076923076923, 'accuracy_score_validation': 0.9273333333333333}: 100%|██████████| 100/100 [00:29<00:00,  3.36it/s]\n"
     ]
    },
    {
     "name": "stdout",
     "output_type": "stream",
     "text": [
      "refit_output/o_to_eo_few_c_subsetsize_0.1_drop_0.2/algorithm_knowledge_distillation-availability_none-learn_input_client-learn_kwargs_{'alpha': 1}-max_epochs_100-epochs_wo_improve_100-batch_size_512\n"
     ]
    },
    {
     "name": "stderr",
     "output_type": "stream",
     "text": [
      "{'loss_train': 0.0001699771445527806, 'loss_validation': 0.09945857564478999, 'accuracy_score_train': 0.7983846153846154, 'accuracy_score_validation': 0.7816666666666666}: 100%|██████████| 100/100 [00:29<00:00,  3.36it/s]\n"
     ]
    },
    {
     "name": "stdout",
     "output_type": "stream",
     "text": [
      "refit_output/o_to_eo_few_c_subsetsize_0.1_drop_0.2/algorithm_ground_truth-availability_oracle-learn_input_oracle-max_epochs_100-epochs_wo_improve_100-batch_size_512\n"
     ]
    },
    {
     "name": "stderr",
     "output_type": "stream",
     "text": [
      "{'loss_train': 0.0022069270959026084, 'loss_validation': 0.1199017880414846, 'accuracy_score_train': 0.7686923076923077, 'accuracy_score_validation': 0.7633333333333333}: 100%|██████████| 100/100 [00:29<00:00,  3.38it/s]\n"
     ]
    },
    {
     "name": "stdout",
     "output_type": "stream",
     "text": [
      "refit_output/o_to_eo_few_c_subsetsize_0.1_drop_0.2/algorithm_ground_inferred-availability_oracle-learn_input_client-max_epochs_100-epochs_wo_improve_100-batch_size_512\n"
     ]
    },
    {
     "name": "stderr",
     "output_type": "stream",
     "text": [
      "{'loss_train': 0.008517860305200483, 'loss_validation': 0.011758568198531263, 'accuracy_score_train': 0.9800769230769231, 'accuracy_score_validation': 0.975}: 100%|██████████| 100/100 [00:29<00:00,  3.35it/s]             \n"
     ]
    },
    {
     "name": "stdout",
     "output_type": "stream",
     "text": [
      "refit_output/o_to_eo_few_c_subsetsize_0.1_drop_0.2/algorithm_knowledge_distillation-availability_oracle-learn_input_client-learn_kwargs_{'alpha': 0.5}-max_epochs_100-epochs_wo_improve_100-batch_size_512\n"
     ]
    },
    {
     "name": "stderr",
     "output_type": "stream",
     "text": [
      "{'loss_train': 0.004449572027648358, 'loss_validation': 0.007319244534165869, 'accuracy_score_train': 0.9861538461538462, 'accuracy_score_validation': 0.9856666666666667}: 100%|██████████| 100/100 [00:30<00:00,  3.33it/s]\n"
     ]
    },
    {
     "name": "stdout",
     "output_type": "stream",
     "text": [
      "refit_output/o_to_eo_few_c_subsetsize_0.1_drop_0.2/algorithm_knowledge_distillation-availability_oracle-learn_input_client-learn_kwargs_{'alpha': 1}-max_epochs_100-epochs_wo_improve_100-batch_size_512\n"
     ]
    },
    {
     "name": "stderr",
     "output_type": "stream",
     "text": [
      "{'loss_train': 0.005844278890843136, 'loss_validation': 0.008883281318972506, 'accuracy_score_train': 0.9850769230769231, 'accuracy_score_validation': 0.9823333333333333}: 100%|██████████| 100/100 [00:30<00:00,  3.31it/s]\n"
     ]
    },
    {
     "name": "stdout",
     "output_type": "stream",
     "text": [
      "refit_output/o_to_eo_few_c_subsetsize_0.1_drop_0.2/algorithm_ground_inferred-availability_oracle-learn_input_oracle-max_epochs_100-epochs_wo_improve_100-batch_size_512\n"
     ]
    },
    {
     "name": "stderr",
     "output_type": "stream",
     "text": [
      "{'loss_train': 0.0014241236642347026, 'loss_validation': 0.08287516681277615, 'accuracy_score_train': 0.8579230769230769, 'accuracy_score_validation': 0.8526666666666667}: 100%|██████████| 100/100 [00:30<00:00,  3.32it/s]\n"
     ]
    },
    {
     "name": "stdout",
     "output_type": "stream",
     "text": [
      "refit_output/o_to_eo_few_c_subsetsize_0.1_drop_0.2/algorithm_knowledge_distillation-availability_oracle-learn_input_oracle-learn_kwargs_{'alpha': 0.5}-max_epochs_100-epochs_wo_improve_100-batch_size_512\n"
     ]
    },
    {
     "name": "stderr",
     "output_type": "stream",
     "text": [
      "{'loss_train': 0.0008253561387843412, 'loss_validation': 0.09182097981593128, 'accuracy_score_train': 0.7813846153846153, 'accuracy_score_validation': 0.765}: 100%|██████████| 100/100 [00:29<00:00,  3.34it/s]            \n"
     ]
    },
    {
     "name": "stdout",
     "output_type": "stream",
     "text": [
      "refit_output/o_to_eo_few_c_subsetsize_0.1_drop_0.2/algorithm_knowledge_distillation-availability_oracle-learn_input_oracle-learn_kwargs_{'alpha': 1}-max_epochs_100-epochs_wo_improve_100-batch_size_512\n"
     ]
    },
    {
     "name": "stderr",
     "output_type": "stream",
     "text": [
      "{'loss_train': 0.00016858108290491812, 'loss_validation': 0.10153444507397671, 'accuracy_score_train': 0.7843846153846153, 'accuracy_score_validation': 0.767}: 100%|██████████| 100/100 [00:30<00:00,  3.31it/s]            \n"
     ]
    },
    {
     "name": "stdout",
     "output_type": "stream",
     "text": [
      "refit_output/o_to_eo_few_c_subsetsize_0.1_drop_0.2/algorithm_ground_truth-availability_oracle-learn_input_mixed-max_epochs_100-epochs_wo_improve_100-batch_size_512\n"
     ]
    },
    {
     "name": "stderr",
     "output_type": "stream",
     "text": [
      "{'loss_train': 0.003125475902547545, 'loss_validation': 0.12161870431710262, 'accuracy_score_train': 0.6813076923076923, 'accuracy_score_validation': 0.666}: 100%|██████████| 100/100 [00:38<00:00,  2.61it/s]             \n"
     ]
    },
    {
     "name": "stdout",
     "output_type": "stream",
     "text": [
      "refit_output/o_to_eo_few_c_subsetsize_0.1_drop_0.2/algorithm_ground_inferred-availability_oracle-learn_input_mixed-max_epochs_100-epochs_wo_improve_100-batch_size_512\n"
     ]
    },
    {
     "name": "stderr",
     "output_type": "stream",
     "text": [
      "{'loss_train': 0.1239701031898482, 'loss_validation': 0.12895388300792338, 'accuracy_score_train': 0.46353846153846157, 'accuracy_score_validation': 0.4643333333333333}: 100%|██████████| 100/100 [00:38<00:00,  2.62it/s] \n"
     ]
    },
    {
     "name": "stdout",
     "output_type": "stream",
     "text": [
      "refit_output/o_to_eo_few_c_subsetsize_0.1_drop_0.2/algorithm_knowledge_distillation-availability_oracle-learn_input_mixed-learn_kwargs_{'alpha': 0.5}-max_epochs_100-epochs_wo_improve_100-batch_size_512\n"
     ]
    },
    {
     "name": "stderr",
     "output_type": "stream",
     "text": [
      "{'loss_train': 0.03000973223586124, 'loss_validation': 0.07929074503004839, 'accuracy_score_train': 0.830076923076923, 'accuracy_score_validation': 0.8193333333333334}: 100%|██████████| 100/100 [00:38<00:00,  2.60it/s] \n"
     ]
    },
    {
     "name": "stdout",
     "output_type": "stream",
     "text": [
      "refit_output/o_to_eo_few_c_subsetsize_0.1_drop_0.2/algorithm_knowledge_distillation-availability_oracle-learn_input_mixed-learn_kwargs_{'alpha': 1}-max_epochs_100-epochs_wo_improve_100-batch_size_512\n"
     ]
    },
    {
     "name": "stderr",
     "output_type": "stream",
     "text": [
      "{'loss_train': 0.11685230505897863, 'loss_validation': 0.10755422196268338, 'accuracy_score_train': 0.823, 'accuracy_score_validation': 0.8153333333333334}: 100%|██████████| 100/100 [00:37<00:00,  2.68it/s]              \n"
     ]
    },
    {
     "name": "stdout",
     "output_type": "stream",
     "text": [
      "For a subset size of ratio 0.3 the worst performant subset within 20% drop achieved an Accuracy of -0.19933333333333336\n",
      "----Running 15 combinations for o_to_eo\n",
      "refit_output/o_to_eo_few_c_subsetsize_0.3_drop_0.2/algorithm_ground_truth-availability_none-learn_input_client-max_epochs_100-epochs_wo_improve_100-batch_size_512\n"
     ]
    },
    {
     "name": "stderr",
     "output_type": "stream",
     "text": [
      "{'loss_train': 0.0037685874503912424, 'loss_validation': 0.0036238610726133623, 'accuracy_score_train': 0.9917692307692307, 'accuracy_score_validation': 0.9906666666666667}: 100%|██████████| 100/100 [00:29<00:00,  3.36it/s]\n"
     ]
    },
    {
     "name": "stdout",
     "output_type": "stream",
     "text": [
      "refit_output/o_to_eo_few_c_subsetsize_0.3_drop_0.2/algorithm_ground_inferred-availability_none-learn_input_client-max_epochs_100-epochs_wo_improve_100-batch_size_512\n"
     ]
    },
    {
     "name": "stderr",
     "output_type": "stream",
     "text": [
      "{'loss_train': 0.0010292367226193443, 'loss_validation': 0.10468714677446929, 'accuracy_score_train': 0.7841538461538462, 'accuracy_score_validation': 0.7863333333333333}: 100%|██████████| 100/100 [00:29<00:00,  3.35it/s]\n"
     ]
    },
    {
     "name": "stdout",
     "output_type": "stream",
     "text": [
      "refit_output/o_to_eo_few_c_subsetsize_0.3_drop_0.2/algorithm_knowledge_distillation-availability_none-learn_input_client-learn_kwargs_{'alpha': 0.5}-max_epochs_100-epochs_wo_improve_100-batch_size_512\n"
     ]
    },
    {
     "name": "stderr",
     "output_type": "stream",
     "text": [
      "{'loss_train': 0.001140924248215759, 'loss_validation': 0.028486115086754433, 'accuracy_score_train': 0.8697692307692307, 'accuracy_score_validation': 0.857}: 100%|██████████| 100/100 [00:29<00:00,  3.34it/s]             \n"
     ]
    },
    {
     "name": "stdout",
     "output_type": "stream",
     "text": [
      "refit_output/o_to_eo_few_c_subsetsize_0.3_drop_0.2/algorithm_knowledge_distillation-availability_none-learn_input_client-learn_kwargs_{'alpha': 1}-max_epochs_100-epochs_wo_improve_100-batch_size_512\n"
     ]
    },
    {
     "name": "stderr",
     "output_type": "stream",
     "text": [
      "{'loss_train': 0.0002249489271811043, 'loss_validation': 0.09798979096145048, 'accuracy_score_train': 0.7826923076923077, 'accuracy_score_validation': 0.7856666666666666}: 100%|██████████| 100/100 [00:29<00:00,  3.40it/s]\n"
     ]
    },
    {
     "name": "stdout",
     "output_type": "stream",
     "text": [
      "refit_output/o_to_eo_few_c_subsetsize_0.3_drop_0.2/algorithm_ground_truth-availability_oracle-learn_input_oracle-max_epochs_100-epochs_wo_improve_100-batch_size_512\n"
     ]
    },
    {
     "name": "stderr",
     "output_type": "stream",
     "text": [
      "{'loss_train': 0.0022069270959026084, 'loss_validation': 0.06023017649571053, 'accuracy_score_train': 0.8703846153846154, 'accuracy_score_validation': 0.8773333333333333}: 100%|██████████| 100/100 [00:29<00:00,  3.37it/s]\n"
     ]
    },
    {
     "name": "stdout",
     "output_type": "stream",
     "text": [
      "refit_output/o_to_eo_few_c_subsetsize_0.3_drop_0.2/algorithm_ground_inferred-availability_oracle-learn_input_client-max_epochs_100-epochs_wo_improve_100-batch_size_512\n"
     ]
    },
    {
     "name": "stderr",
     "output_type": "stream",
     "text": [
      "{'loss_train': 0.005039203585094209, 'loss_validation': 0.0060905673952949034, 'accuracy_score_train': 0.9822307692307692, 'accuracy_score_validation': 0.9836666666666667}: 100%|██████████| 100/100 [00:29<00:00,  3.36it/s]\n"
     ]
    },
    {
     "name": "stdout",
     "output_type": "stream",
     "text": [
      "refit_output/o_to_eo_few_c_subsetsize_0.3_drop_0.2/algorithm_knowledge_distillation-availability_oracle-learn_input_client-learn_kwargs_{'alpha': 0.5}-max_epochs_100-epochs_wo_improve_100-batch_size_512\n"
     ]
    },
    {
     "name": "stderr",
     "output_type": "stream",
     "text": [
      "{'loss_train': 0.002079990119485128, 'loss_validation': 0.004448034267641459, 'accuracy_score_train': 0.9912307692307692, 'accuracy_score_validation': 0.9896666666666667}: 100%|██████████| 100/100 [00:30<00:00,  3.32it/s] \n"
     ]
    },
    {
     "name": "stdout",
     "output_type": "stream",
     "text": [
      "refit_output/o_to_eo_few_c_subsetsize_0.3_drop_0.2/algorithm_knowledge_distillation-availability_oracle-learn_input_client-learn_kwargs_{'alpha': 1}-max_epochs_100-epochs_wo_improve_100-batch_size_512\n"
     ]
    },
    {
     "name": "stderr",
     "output_type": "stream",
     "text": [
      "{'loss_train': 0.0030065823175266385, 'loss_validation': 0.0060835941355448335, 'accuracy_score_train': 0.9899230769230769, 'accuracy_score_validation': 0.9896666666666667}: 100%|██████████| 100/100 [00:29<00:00,  3.36it/s]\n"
     ]
    },
    {
     "name": "stdout",
     "output_type": "stream",
     "text": [
      "refit_output/o_to_eo_few_c_subsetsize_0.3_drop_0.2/algorithm_ground_inferred-availability_oracle-learn_input_oracle-max_epochs_100-epochs_wo_improve_100-batch_size_512\n"
     ]
    },
    {
     "name": "stderr",
     "output_type": "stream",
     "text": [
      "{'loss_train': 0.0014241236642347026, 'loss_validation': 0.060785583476502904, 'accuracy_score_train': 0.8927692307692308, 'accuracy_score_validation': 0.8976666666666666}: 100%|██████████| 100/100 [00:29<00:00,  3.33it/s]\n"
     ]
    },
    {
     "name": "stdout",
     "output_type": "stream",
     "text": [
      "refit_output/o_to_eo_few_c_subsetsize_0.3_drop_0.2/algorithm_knowledge_distillation-availability_oracle-learn_input_oracle-learn_kwargs_{'alpha': 0.5}-max_epochs_100-epochs_wo_improve_100-batch_size_512\n"
     ]
    },
    {
     "name": "stderr",
     "output_type": "stream",
     "text": [
      "{'loss_train': 0.0008253561387843412, 'loss_validation': 0.06474997819722543, 'accuracy_score_train': 0.7875384615384615, 'accuracy_score_validation': 0.7896666666666666}: 100%|██████████| 100/100 [00:30<00:00,  3.33it/s]\n"
     ]
    },
    {
     "name": "stdout",
     "output_type": "stream",
     "text": [
      "refit_output/o_to_eo_few_c_subsetsize_0.3_drop_0.2/algorithm_knowledge_distillation-availability_oracle-learn_input_oracle-learn_kwargs_{'alpha': 1}-max_epochs_100-epochs_wo_improve_100-batch_size_512\n"
     ]
    },
    {
     "name": "stderr",
     "output_type": "stream",
     "text": [
      "{'loss_train': 0.00016858108290491812, 'loss_validation': 0.08754058715349074, 'accuracy_score_train': 0.7860769230769231, 'accuracy_score_validation': 0.7893333333333333}: 100%|██████████| 100/100 [00:29<00:00,  3.34it/s]\n"
     ]
    },
    {
     "name": "stdout",
     "output_type": "stream",
     "text": [
      "refit_output/o_to_eo_few_c_subsetsize_0.3_drop_0.2/algorithm_ground_truth-availability_oracle-learn_input_mixed-max_epochs_100-epochs_wo_improve_100-batch_size_512\n"
     ]
    },
    {
     "name": "stderr",
     "output_type": "stream",
     "text": [
      "{'loss_train': 0.003125475902547545, 'loss_validation': 0.07418636104512556, 'accuracy_score_train': 0.8173076923076923, 'accuracy_score_validation': 0.8213333333333334}: 100%|██████████| 100/100 [00:37<00:00,  2.64it/s] \n"
     ]
    },
    {
     "name": "stdout",
     "output_type": "stream",
     "text": [
      "refit_output/o_to_eo_few_c_subsetsize_0.3_drop_0.2/algorithm_ground_inferred-availability_oracle-learn_input_mixed-max_epochs_100-epochs_wo_improve_100-batch_size_512\n"
     ]
    },
    {
     "name": "stderr",
     "output_type": "stream",
     "text": [
      "{'loss_train': 0.1239701031898482, 'loss_validation': 0.12043955228825032, 'accuracy_score_train': 0.565923076923077, 'accuracy_score_validation': 0.5586666666666666}: 100%|██████████| 100/100 [00:37<00:00,  2.65it/s]   \n"
     ]
    },
    {
     "name": "stdout",
     "output_type": "stream",
     "text": [
      "refit_output/o_to_eo_few_c_subsetsize_0.3_drop_0.2/algorithm_knowledge_distillation-availability_oracle-learn_input_mixed-learn_kwargs_{'alpha': 0.5}-max_epochs_100-epochs_wo_improve_100-batch_size_512\n"
     ]
    },
    {
     "name": "stderr",
     "output_type": "stream",
     "text": [
      "{'loss_train': 0.03000973223586124, 'loss_validation': 0.06725198870876034, 'accuracy_score_train': 0.8145384615384615, 'accuracy_score_validation': 0.8096666666666666}: 100%|██████████| 100/100 [00:37<00:00,  2.63it/s]\n"
     ]
    },
    {
     "name": "stdout",
     "output_type": "stream",
     "text": [
      "refit_output/o_to_eo_few_c_subsetsize_0.3_drop_0.2/algorithm_knowledge_distillation-availability_oracle-learn_input_mixed-learn_kwargs_{'alpha': 1}-max_epochs_100-epochs_wo_improve_100-batch_size_512\n"
     ]
    },
    {
     "name": "stderr",
     "output_type": "stream",
     "text": [
      "{'loss_train': 0.11685230505897863, 'loss_validation': 0.10921941582416232, 'accuracy_score_train': 0.7300769230769231, 'accuracy_score_validation': 0.7266666666666667}: 100%|██████████| 100/100 [00:37<00:00,  2.69it/s] \n"
     ]
    },
    {
     "name": "stdout",
     "output_type": "stream",
     "text": [
      "For a subset size of ratio 0.5 the worst performant subset within 20% drop achieved an Accuracy of -0.18533333333333335\n",
      "----Running 15 combinations for o_to_eo\n",
      "refit_output/o_to_eo_few_c_subsetsize_0.5_drop_0.2/algorithm_ground_truth-availability_none-learn_input_client-max_epochs_100-epochs_wo_improve_100-batch_size_512\n"
     ]
    },
    {
     "name": "stderr",
     "output_type": "stream",
     "text": [
      "{'loss_train': 0.0022436379562733905, 'loss_validation': 0.0024705649864230086, 'accuracy_score_train': 0.9954615384615385, 'accuracy_score_validation': 0.9943333333333333}: 100%|██████████| 100/100 [00:29<00:00,  3.38it/s]\n"
     ]
    },
    {
     "name": "stdout",
     "output_type": "stream",
     "text": [
      "refit_output/o_to_eo_few_c_subsetsize_0.5_drop_0.2/algorithm_ground_inferred-availability_none-learn_input_client-max_epochs_100-epochs_wo_improve_100-batch_size_512\n"
     ]
    },
    {
     "name": "stderr",
     "output_type": "stream",
     "text": [
      "{'loss_train': 0.0022144488388049213, 'loss_validation': 0.09875909346584501, 'accuracy_score_train': 0.7966153846153846, 'accuracy_score_validation': 0.7993333333333333}: 100%|██████████| 100/100 [00:29<00:00,  3.36it/s]\n"
     ]
    },
    {
     "name": "stdout",
     "output_type": "stream",
     "text": [
      "refit_output/o_to_eo_few_c_subsetsize_0.5_drop_0.2/algorithm_knowledge_distillation-availability_none-learn_input_client-learn_kwargs_{'alpha': 0.5}-max_epochs_100-epochs_wo_improve_100-batch_size_512\n"
     ]
    },
    {
     "name": "stderr",
     "output_type": "stream",
     "text": [
      "{'loss_train': 0.0008545521845578746, 'loss_validation': 0.020937166475819738, 'accuracy_score_train': 0.9609230769230769, 'accuracy_score_validation': 0.9563333333333334}: 100%|██████████| 100/100 [00:30<00:00,  3.31it/s]\n"
     ]
    },
    {
     "name": "stdout",
     "output_type": "stream",
     "text": [
      "refit_output/o_to_eo_few_c_subsetsize_0.5_drop_0.2/algorithm_knowledge_distillation-availability_none-learn_input_client-learn_kwargs_{'alpha': 1}-max_epochs_100-epochs_wo_improve_100-batch_size_512\n"
     ]
    },
    {
     "name": "stderr",
     "output_type": "stream",
     "text": [
      "{'loss_train': 0.0006835497544747448, 'loss_validation': 0.07868267762354034, 'accuracy_score_train': 0.7995384615384615, 'accuracy_score_validation': 0.802}: 100%|██████████| 100/100 [00:30<00:00,  3.32it/s]             \n"
     ]
    },
    {
     "name": "stdout",
     "output_type": "stream",
     "text": [
      "refit_output/o_to_eo_few_c_subsetsize_0.5_drop_0.2/algorithm_ground_truth-availability_oracle-learn_input_oracle-max_epochs_100-epochs_wo_improve_100-batch_size_512\n"
     ]
    },
    {
     "name": "stderr",
     "output_type": "stream",
     "text": [
      "{'loss_train': 0.0022069270959026084, 'loss_validation': 0.03640078569179159, 'accuracy_score_train': 0.9200769230769231, 'accuracy_score_validation': 0.9233333333333333}: 100%|██████████| 100/100 [00:30<00:00,  3.32it/s]\n"
     ]
    },
    {
     "name": "stdout",
     "output_type": "stream",
     "text": [
      "refit_output/o_to_eo_few_c_subsetsize_0.5_drop_0.2/algorithm_ground_inferred-availability_oracle-learn_input_client-max_epochs_100-epochs_wo_improve_100-batch_size_512\n"
     ]
    },
    {
     "name": "stderr",
     "output_type": "stream",
     "text": [
      "{'loss_train': 0.002971470619853004, 'loss_validation': 0.006123119289848299, 'accuracy_score_train': 0.9779230769230769, 'accuracy_score_validation': 0.9823333333333333}: 100%|██████████| 100/100 [00:30<00:00,  3.33it/s] \n"
     ]
    },
    {
     "name": "stdout",
     "output_type": "stream",
     "text": [
      "refit_output/o_to_eo_few_c_subsetsize_0.5_drop_0.2/algorithm_knowledge_distillation-availability_oracle-learn_input_client-learn_kwargs_{'alpha': 0.5}-max_epochs_100-epochs_wo_improve_100-batch_size_512\n"
     ]
    },
    {
     "name": "stderr",
     "output_type": "stream",
     "text": [
      "{'loss_train': 0.0012462454690020798, 'loss_validation': 0.004454887195589059, 'accuracy_score_train': 0.9913076923076923, 'accuracy_score_validation': 0.9903333333333333}: 100%|██████████| 100/100 [00:29<00:00,  3.35it/s]\n"
     ]
    },
    {
     "name": "stdout",
     "output_type": "stream",
     "text": [
      "refit_output/o_to_eo_few_c_subsetsize_0.5_drop_0.2/algorithm_knowledge_distillation-availability_oracle-learn_input_client-learn_kwargs_{'alpha': 1}-max_epochs_100-epochs_wo_improve_100-batch_size_512\n"
     ]
    },
    {
     "name": "stderr",
     "output_type": "stream",
     "text": [
      "{'loss_train': 0.001763497969615857, 'loss_validation': 0.006026070657453397, 'accuracy_score_train': 0.9833076923076923, 'accuracy_score_validation': 0.9843333333333333}: 100%|██████████| 100/100 [00:30<00:00,  3.31it/s] \n"
     ]
    },
    {
     "name": "stdout",
     "output_type": "stream",
     "text": [
      "refit_output/o_to_eo_few_c_subsetsize_0.5_drop_0.2/algorithm_ground_inferred-availability_oracle-learn_input_oracle-max_epochs_100-epochs_wo_improve_100-batch_size_512\n"
     ]
    },
    {
     "name": "stderr",
     "output_type": "stream",
     "text": [
      "{'loss_train': 0.0014241236642347026, 'loss_validation': 0.04369414764150194, 'accuracy_score_train': 0.9082307692307693, 'accuracy_score_validation': 0.9153333333333333}: 100%|██████████| 100/100 [00:29<00:00,  3.34it/s]\n"
     ]
    },
    {
     "name": "stdout",
     "output_type": "stream",
     "text": [
      "refit_output/o_to_eo_few_c_subsetsize_0.5_drop_0.2/algorithm_knowledge_distillation-availability_oracle-learn_input_oracle-learn_kwargs_{'alpha': 0.5}-max_epochs_100-epochs_wo_improve_100-batch_size_512\n"
     ]
    },
    {
     "name": "stderr",
     "output_type": "stream",
     "text": [
      "{'loss_train': 0.0008253561387843412, 'loss_validation': 0.04639272197925624, 'accuracy_score_train': 0.8903076923076924, 'accuracy_score_validation': 0.8926666666666667}: 100%|██████████| 100/100 [00:30<00:00,  3.31it/s]\n"
     ]
    },
    {
     "name": "stdout",
     "output_type": "stream",
     "text": [
      "refit_output/o_to_eo_few_c_subsetsize_0.5_drop_0.2/algorithm_knowledge_distillation-availability_oracle-learn_input_oracle-learn_kwargs_{'alpha': 1}-max_epochs_100-epochs_wo_improve_100-batch_size_512\n"
     ]
    },
    {
     "name": "stderr",
     "output_type": "stream",
     "text": [
      "{'loss_train': 0.00016858108290491812, 'loss_validation': 0.06898659228103347, 'accuracy_score_train': 0.8212307692307692, 'accuracy_score_validation': 0.8253333333333334}: 100%|██████████| 100/100 [00:29<00:00,  3.36it/s]\n"
     ]
    },
    {
     "name": "stdout",
     "output_type": "stream",
     "text": [
      "refit_output/o_to_eo_few_c_subsetsize_0.5_drop_0.2/algorithm_ground_truth-availability_oracle-learn_input_mixed-max_epochs_100-epochs_wo_improve_100-batch_size_512\n"
     ]
    },
    {
     "name": "stderr",
     "output_type": "stream",
     "text": [
      "{'loss_train': 0.003125475902547545, 'loss_validation': 0.04438520729914719, 'accuracy_score_train': 0.8934615384615384, 'accuracy_score_validation': 0.8966666666666666}: 100%|██████████| 100/100 [00:37<00:00,  2.64it/s] \n"
     ]
    },
    {
     "name": "stdout",
     "output_type": "stream",
     "text": [
      "refit_output/o_to_eo_few_c_subsetsize_0.5_drop_0.2/algorithm_ground_inferred-availability_oracle-learn_input_mixed-max_epochs_100-epochs_wo_improve_100-batch_size_512\n"
     ]
    },
    {
     "name": "stderr",
     "output_type": "stream",
     "text": [
      "{'loss_train': 0.1239701031898482, 'loss_validation': 0.11809536530756048, 'accuracy_score_train': 0.6380769230769231, 'accuracy_score_validation': 0.6376666666666667}: 100%|██████████| 100/100 [00:37<00:00,  2.64it/s]  \n"
     ]
    },
    {
     "name": "stdout",
     "output_type": "stream",
     "text": [
      "refit_output/o_to_eo_few_c_subsetsize_0.5_drop_0.2/algorithm_knowledge_distillation-availability_oracle-learn_input_mixed-learn_kwargs_{'alpha': 0.5}-max_epochs_100-epochs_wo_improve_100-batch_size_512\n"
     ]
    },
    {
     "name": "stderr",
     "output_type": "stream",
     "text": [
      "{'loss_train': 0.03000973223586124, 'loss_validation': 0.05302324357241008, 'accuracy_score_train': 0.8923076923076924, 'accuracy_score_validation': 0.902}: 100%|██████████| 100/100 [00:38<00:00,  2.62it/s]              \n"
     ]
    },
    {
     "name": "stdout",
     "output_type": "stream",
     "text": [
      "refit_output/o_to_eo_few_c_subsetsize_0.5_drop_0.2/algorithm_knowledge_distillation-availability_oracle-learn_input_mixed-learn_kwargs_{'alpha': 1}-max_epochs_100-epochs_wo_improve_100-batch_size_512\n"
     ]
    },
    {
     "name": "stderr",
     "output_type": "stream",
     "text": [
      "{'loss_train': 0.11685230505897863, 'loss_validation': 0.10733206489439122, 'accuracy_score_train': 0.7333846153846154, 'accuracy_score_validation': 0.7356666666666667}: 100%|██████████| 100/100 [00:38<00:00,  2.63it/s]\n"
     ]
    },
    {
     "name": "stdout",
     "output_type": "stream",
     "text": [
      "For a subset size of ratio 0.8 the worst performant subset within 20% drop achieved an Accuracy of -0.10366666666666668\n",
      "----Running 15 combinations for o_to_eo\n",
      "refit_output/o_to_eo_few_c_subsetsize_0.8_drop_0.2/algorithm_ground_truth-availability_none-learn_input_client-max_epochs_100-epochs_wo_improve_100-batch_size_512\n"
     ]
    },
    {
     "name": "stderr",
     "output_type": "stream",
     "text": [
      "{'loss_train': 0.0018997358728351024, 'loss_validation': 0.0022679588608491073, 'accuracy_score_train': 0.9953076923076923, 'accuracy_score_validation': 0.994}: 100%|██████████| 100/100 [00:30<00:00,  3.33it/s]            \n"
     ]
    },
    {
     "name": "stdout",
     "output_type": "stream",
     "text": [
      "refit_output/o_to_eo_few_c_subsetsize_0.8_drop_0.2/algorithm_ground_inferred-availability_none-learn_input_client-max_epochs_100-epochs_wo_improve_100-batch_size_512\n"
     ]
    },
    {
     "name": "stderr",
     "output_type": "stream",
     "text": [
      "{'loss_train': 0.001626225392398313, 'loss_validation': 0.06333809266343612, 'accuracy_score_train': 0.8762307692307693, 'accuracy_score_validation': 0.8696666666666667}: 100%|██████████| 100/100 [00:30<00:00,  3.32it/s] \n"
     ]
    },
    {
     "name": "stdout",
     "output_type": "stream",
     "text": [
      "refit_output/o_to_eo_few_c_subsetsize_0.8_drop_0.2/algorithm_knowledge_distillation-availability_none-learn_input_client-learn_kwargs_{'alpha': 0.5}-max_epochs_100-epochs_wo_improve_100-batch_size_512\n"
     ]
    },
    {
     "name": "stderr",
     "output_type": "stream",
     "text": [
      "{'loss_train': 0.0007347272759676471, 'loss_validation': 0.014830524812908811, 'accuracy_score_train': 0.9739230769230769, 'accuracy_score_validation': 0.967}: 100%|██████████| 100/100 [00:29<00:00,  3.36it/s]            \n"
     ]
    },
    {
     "name": "stdout",
     "output_type": "stream",
     "text": [
      "refit_output/o_to_eo_few_c_subsetsize_0.8_drop_0.2/algorithm_knowledge_distillation-availability_none-learn_input_client-learn_kwargs_{'alpha': 1}-max_epochs_100-epochs_wo_improve_100-batch_size_512\n"
     ]
    },
    {
     "name": "stderr",
     "output_type": "stream",
     "text": [
      "{'loss_train': 0.0007003300581047254, 'loss_validation': 0.05349297191633281, 'accuracy_score_train': 0.8787692307692307, 'accuracy_score_validation': 0.8753333333333333}: 100%|██████████| 100/100 [00:29<00:00,  3.35it/s] \n"
     ]
    },
    {
     "name": "stdout",
     "output_type": "stream",
     "text": [
      "refit_output/o_to_eo_few_c_subsetsize_0.8_drop_0.2/algorithm_ground_truth-availability_oracle-learn_input_oracle-max_epochs_100-epochs_wo_improve_100-batch_size_512\n"
     ]
    },
    {
     "name": "stderr",
     "output_type": "stream",
     "text": [
      "{'loss_train': 0.0022069270959026084, 'loss_validation': 0.024742188730377673, 'accuracy_score_train': 0.946923076923077, 'accuracy_score_validation': 0.95}: 100%|██████████| 100/100 [00:29<00:00,  3.34it/s]              \n"
     ]
    },
    {
     "name": "stdout",
     "output_type": "stream",
     "text": [
      "refit_output/o_to_eo_few_c_subsetsize_0.8_drop_0.2/algorithm_ground_inferred-availability_oracle-learn_input_client-max_epochs_100-epochs_wo_improve_100-batch_size_512\n"
     ]
    },
    {
     "name": "stderr",
     "output_type": "stream",
     "text": [
      "{'loss_train': 0.0028282125680869365, 'loss_validation': 0.007280077898093468, 'accuracy_score_train': 0.9784615384615385, 'accuracy_score_validation': 0.9813333333333333}: 100%|██████████| 100/100 [00:29<00:00,  3.36it/s]\n"
     ]
    },
    {
     "name": "stdout",
     "output_type": "stream",
     "text": [
      "refit_output/o_to_eo_few_c_subsetsize_0.8_drop_0.2/algorithm_knowledge_distillation-availability_oracle-learn_input_client-learn_kwargs_{'alpha': 0.5}-max_epochs_100-epochs_wo_improve_100-batch_size_512\n"
     ]
    },
    {
     "name": "stderr",
     "output_type": "stream",
     "text": [
      "{'loss_train': 0.0008800929084123758, 'loss_validation': 0.003833363453759816, 'accuracy_score_train': 0.993, 'accuracy_score_validation': 0.9913333333333333}: 100%|██████████| 100/100 [00:29<00:00,  3.35it/s]             \n"
     ]
    },
    {
     "name": "stdout",
     "output_type": "stream",
     "text": [
      "refit_output/o_to_eo_few_c_subsetsize_0.8_drop_0.2/algorithm_knowledge_distillation-availability_oracle-learn_input_client-learn_kwargs_{'alpha': 1}-max_epochs_100-epochs_wo_improve_100-batch_size_512\n"
     ]
    },
    {
     "name": "stderr",
     "output_type": "stream",
     "text": [
      "{'loss_train': 0.0011162848902101987, 'loss_validation': 0.006727892418134272, 'accuracy_score_train': 0.9789230769230769, 'accuracy_score_validation': 0.9813333333333333}: 100%|██████████| 100/100 [00:30<00:00,  3.32it/s]\n"
     ]
    },
    {
     "name": "stdout",
     "output_type": "stream",
     "text": [
      "refit_output/o_to_eo_few_c_subsetsize_0.8_drop_0.2/algorithm_ground_inferred-availability_oracle-learn_input_oracle-max_epochs_100-epochs_wo_improve_100-batch_size_512\n"
     ]
    },
    {
     "name": "stderr",
     "output_type": "stream",
     "text": [
      "{'loss_train': 0.0014241236642347026, 'loss_validation': 0.03265193665124982, 'accuracy_score_train': 0.9326153846153846, 'accuracy_score_validation': 0.9336666666666666}: 100%|██████████| 100/100 [00:29<00:00,  3.34it/s]\n"
     ]
    },
    {
     "name": "stdout",
     "output_type": "stream",
     "text": [
      "refit_output/o_to_eo_few_c_subsetsize_0.8_drop_0.2/algorithm_knowledge_distillation-availability_oracle-learn_input_oracle-learn_kwargs_{'alpha': 0.5}-max_epochs_100-epochs_wo_improve_100-batch_size_512\n"
     ]
    },
    {
     "name": "stderr",
     "output_type": "stream",
     "text": [
      "{'loss_train': 0.0008253561387843412, 'loss_validation': 0.032894632655191124, 'accuracy_score_train': 0.9178461538461539, 'accuracy_score_validation': 0.9133333333333333}: 100%|██████████| 100/100 [00:30<00:00,  3.33it/s]\n"
     ]
    },
    {
     "name": "stdout",
     "output_type": "stream",
     "text": [
      "refit_output/o_to_eo_few_c_subsetsize_0.8_drop_0.2/algorithm_knowledge_distillation-availability_oracle-learn_input_oracle-learn_kwargs_{'alpha': 1}-max_epochs_100-epochs_wo_improve_100-batch_size_512\n"
     ]
    },
    {
     "name": "stderr",
     "output_type": "stream",
     "text": [
      "{'loss_train': 0.00016858108290491812, 'loss_validation': 0.04490937649021952, 'accuracy_score_train': 0.8859230769230769, 'accuracy_score_validation': 0.8853333333333333}: 100%|██████████| 100/100 [00:29<00:00,  3.36it/s]\n"
     ]
    },
    {
     "name": "stdout",
     "output_type": "stream",
     "text": [
      "refit_output/o_to_eo_few_c_subsetsize_0.8_drop_0.2/algorithm_ground_truth-availability_oracle-learn_input_mixed-max_epochs_100-epochs_wo_improve_100-batch_size_512\n"
     ]
    },
    {
     "name": "stderr",
     "output_type": "stream",
     "text": [
      "{'loss_train': 0.003125475902547545, 'loss_validation': 0.03171104473346065, 'accuracy_score_train': 0.9203846153846154, 'accuracy_score_validation': 0.9226666666666666}: 100%|██████████| 100/100 [00:37<00:00,  2.66it/s] \n"
     ]
    },
    {
     "name": "stdout",
     "output_type": "stream",
     "text": [
      "refit_output/o_to_eo_few_c_subsetsize_0.8_drop_0.2/algorithm_ground_inferred-availability_oracle-learn_input_mixed-max_epochs_100-epochs_wo_improve_100-batch_size_512\n"
     ]
    },
    {
     "name": "stderr",
     "output_type": "stream",
     "text": [
      "{'loss_train': 0.1239701031898482, 'loss_validation': 0.11895551231025103, 'accuracy_score_train': 0.6536153846153846, 'accuracy_score_validation': 0.6513333333333333}: 100%|██████████| 100/100 [00:37<00:00,  2.64it/s]  \n"
     ]
    },
    {
     "name": "stdout",
     "output_type": "stream",
     "text": [
      "refit_output/o_to_eo_few_c_subsetsize_0.8_drop_0.2/algorithm_knowledge_distillation-availability_oracle-learn_input_mixed-learn_kwargs_{'alpha': 0.5}-max_epochs_100-epochs_wo_improve_100-batch_size_512\n"
     ]
    },
    {
     "name": "stderr",
     "output_type": "stream",
     "text": [
      "{'loss_train': 0.03000973223586124, 'loss_validation': 0.04402839977544863, 'accuracy_score_train': 0.9195384615384615, 'accuracy_score_validation': 0.919}: 100%|██████████| 100/100 [00:38<00:00,  2.62it/s]              \n"
     ]
    },
    {
     "name": "stdout",
     "output_type": "stream",
     "text": [
      "refit_output/o_to_eo_few_c_subsetsize_0.8_drop_0.2/algorithm_knowledge_distillation-availability_oracle-learn_input_mixed-learn_kwargs_{'alpha': 1}-max_epochs_100-epochs_wo_improve_100-batch_size_512\n"
     ]
    },
    {
     "name": "stderr",
     "output_type": "stream",
     "text": [
      "{'loss_train': 0.11685230505897863, 'loss_validation': 0.11121578461262621, 'accuracy_score_train': 0.7176923076923077, 'accuracy_score_validation': 0.7166666666666667}: 100%|██████████| 100/100 [00:38<00:00,  2.63it/s] \n"
     ]
    }
   ],
   "source": [
    "for s in config.TARGET_SUBSET_RATIOS:\n",
    "    res = load(config.RANK_PRUNE_OUTPUT_DIR + f\"rank_few_c_traffic_few_c_subsets_features_for_subsetsize_{s}.csv\", index_col=0)\n",
    "    res[\"Accuracy\"] -= baselines.loc[\"Client Traffic\", \"Original Accuracy\"]\n",
    "    within_range = res[res[\"Accuracy\"].between(-0.2, -0.1)]\n",
    "    if within_range.empty:\n",
    "        print(\"Skipping\", s, \"as no data within the range\")\n",
    "        continue\n",
    "    worst_row = within_range.iloc[-1]\n",
    "    subset = worst_row[~worst_row.index.isin([\"Accuracy\"]) & worst_row.notnull()].index.values\n",
    "    print(\"For a subset size of ratio\", s, \"the worst performant subset within 20% drop achieved an Accuracy of\", worst_row[\"Accuracy\"])\n",
    "    run_scenario(\"o_to_eo\", only_client_categories=True, features_available=subset, delta_p=0.2, subset_ratio=s, prune_ratio=None, skip=True)"
   ]
  },
  {
   "cell_type": "markdown",
   "metadata": {},
   "source": [
    "Oracle to Edge Client. Select highest prune ratio with worst performance degradation."
   ]
  },
  {
   "cell_type": "code",
   "execution_count": 10,
   "metadata": {},
   "outputs": [
    {
     "name": "stdout",
     "output_type": "stream",
     "text": [
      "For a subset size of ratio 0.1 the worst performant subset identified has a maximum accepted prune ratio of 0.25 (Accuracy of -0.09033333333333327)\n",
      "----Running 15 combinations for o_to_ec\n",
      "refit_output/o_to_ec_few_c_subsetsize_0.1_prune_0.25_drop_0.1/algorithm_ground_truth-availability_none-learn_input_client-max_epochs_100-epochs_wo_improve_100-batch_size_512\n",
      "refit_output/o_to_ec_few_c_subsetsize_0.1_prune_0.25_drop_0.1/algorithm_ground_inferred-availability_none-learn_input_client-max_epochs_100-epochs_wo_improve_100-batch_size_512\n",
      "refit_output/o_to_ec_few_c_subsetsize_0.1_prune_0.25_drop_0.1/algorithm_knowledge_distillation-availability_none-learn_input_client-learn_kwargs_{'alpha': 0.5}-max_epochs_100-epochs_wo_improve_100-batch_size_512\n",
      "refit_output/o_to_ec_few_c_subsetsize_0.1_prune_0.25_drop_0.1/algorithm_knowledge_distillation-availability_none-learn_input_client-learn_kwargs_{'alpha': 1}-max_epochs_100-epochs_wo_improve_100-batch_size_512\n",
      "refit_output/o_to_ec_few_c_subsetsize_0.1_prune_0.25_drop_0.1/algorithm_ground_truth-availability_oracle-learn_input_oracle-max_epochs_100-epochs_wo_improve_100-batch_size_512\n",
      "refit_output/o_to_ec_few_c_subsetsize_0.1_prune_0.25_drop_0.1/algorithm_ground_inferred-availability_oracle-learn_input_client-max_epochs_100-epochs_wo_improve_100-batch_size_512\n",
      "refit_output/o_to_ec_few_c_subsetsize_0.1_prune_0.25_drop_0.1/algorithm_knowledge_distillation-availability_oracle-learn_input_client-learn_kwargs_{'alpha': 0.5}-max_epochs_100-epochs_wo_improve_100-batch_size_512\n",
      "refit_output/o_to_ec_few_c_subsetsize_0.1_prune_0.25_drop_0.1/algorithm_knowledge_distillation-availability_oracle-learn_input_client-learn_kwargs_{'alpha': 1}-max_epochs_100-epochs_wo_improve_100-batch_size_512\n",
      "refit_output/o_to_ec_few_c_subsetsize_0.1_prune_0.25_drop_0.1/algorithm_ground_inferred-availability_oracle-learn_input_oracle-max_epochs_100-epochs_wo_improve_100-batch_size_512\n",
      "refit_output/o_to_ec_few_c_subsetsize_0.1_prune_0.25_drop_0.1/algorithm_knowledge_distillation-availability_oracle-learn_input_oracle-learn_kwargs_{'alpha': 0.5}-max_epochs_100-epochs_wo_improve_100-batch_size_512\n",
      "refit_output/o_to_ec_few_c_subsetsize_0.1_prune_0.25_drop_0.1/algorithm_knowledge_distillation-availability_oracle-learn_input_oracle-learn_kwargs_{'alpha': 1}-max_epochs_100-epochs_wo_improve_100-batch_size_512\n",
      "refit_output/o_to_ec_few_c_subsetsize_0.1_prune_0.25_drop_0.1/algorithm_ground_truth-availability_oracle-learn_input_mixed-max_epochs_100-epochs_wo_improve_100-batch_size_512\n",
      "refit_output/o_to_ec_few_c_subsetsize_0.1_prune_0.25_drop_0.1/algorithm_ground_inferred-availability_oracle-learn_input_mixed-max_epochs_100-epochs_wo_improve_100-batch_size_512\n",
      "refit_output/o_to_ec_few_c_subsetsize_0.1_prune_0.25_drop_0.1/algorithm_knowledge_distillation-availability_oracle-learn_input_mixed-learn_kwargs_{'alpha': 0.5}-max_epochs_100-epochs_wo_improve_100-batch_size_512\n",
      "refit_output/o_to_ec_few_c_subsetsize_0.1_prune_0.25_drop_0.1/algorithm_knowledge_distillation-availability_oracle-learn_input_mixed-learn_kwargs_{'alpha': 1}-max_epochs_100-epochs_wo_improve_100-batch_size_512\n",
      "For a subset size of ratio 0.3 the worst performant subset identified has a maximum accepted prune ratio of 0.3 (Accuracy of -0.08633333333333326)\n",
      "----Running 15 combinations for o_to_ec\n",
      "refit_output/o_to_ec_few_c_subsetsize_0.3_prune_0.3_drop_0.1/algorithm_ground_truth-availability_none-learn_input_client-max_epochs_100-epochs_wo_improve_100-batch_size_512\n",
      "refit_output/o_to_ec_few_c_subsetsize_0.3_prune_0.3_drop_0.1/algorithm_ground_inferred-availability_none-learn_input_client-max_epochs_100-epochs_wo_improve_100-batch_size_512\n",
      "refit_output/o_to_ec_few_c_subsetsize_0.3_prune_0.3_drop_0.1/algorithm_knowledge_distillation-availability_none-learn_input_client-learn_kwargs_{'alpha': 0.5}-max_epochs_100-epochs_wo_improve_100-batch_size_512\n",
      "refit_output/o_to_ec_few_c_subsetsize_0.3_prune_0.3_drop_0.1/algorithm_knowledge_distillation-availability_none-learn_input_client-learn_kwargs_{'alpha': 1}-max_epochs_100-epochs_wo_improve_100-batch_size_512\n",
      "refit_output/o_to_ec_few_c_subsetsize_0.3_prune_0.3_drop_0.1/algorithm_ground_truth-availability_oracle-learn_input_oracle-max_epochs_100-epochs_wo_improve_100-batch_size_512\n",
      "refit_output/o_to_ec_few_c_subsetsize_0.3_prune_0.3_drop_0.1/algorithm_ground_inferred-availability_oracle-learn_input_client-max_epochs_100-epochs_wo_improve_100-batch_size_512\n",
      "refit_output/o_to_ec_few_c_subsetsize_0.3_prune_0.3_drop_0.1/algorithm_knowledge_distillation-availability_oracle-learn_input_client-learn_kwargs_{'alpha': 0.5}-max_epochs_100-epochs_wo_improve_100-batch_size_512\n",
      "refit_output/o_to_ec_few_c_subsetsize_0.3_prune_0.3_drop_0.1/algorithm_knowledge_distillation-availability_oracle-learn_input_client-learn_kwargs_{'alpha': 1}-max_epochs_100-epochs_wo_improve_100-batch_size_512\n",
      "refit_output/o_to_ec_few_c_subsetsize_0.3_prune_0.3_drop_0.1/algorithm_ground_inferred-availability_oracle-learn_input_oracle-max_epochs_100-epochs_wo_improve_100-batch_size_512\n",
      "refit_output/o_to_ec_few_c_subsetsize_0.3_prune_0.3_drop_0.1/algorithm_knowledge_distillation-availability_oracle-learn_input_oracle-learn_kwargs_{'alpha': 0.5}-max_epochs_100-epochs_wo_improve_100-batch_size_512\n",
      "refit_output/o_to_ec_few_c_subsetsize_0.3_prune_0.3_drop_0.1/algorithm_knowledge_distillation-availability_oracle-learn_input_oracle-learn_kwargs_{'alpha': 1}-max_epochs_100-epochs_wo_improve_100-batch_size_512\n",
      "refit_output/o_to_ec_few_c_subsetsize_0.3_prune_0.3_drop_0.1/algorithm_ground_truth-availability_oracle-learn_input_mixed-max_epochs_100-epochs_wo_improve_100-batch_size_512\n",
      "refit_output/o_to_ec_few_c_subsetsize_0.3_prune_0.3_drop_0.1/algorithm_ground_inferred-availability_oracle-learn_input_mixed-max_epochs_100-epochs_wo_improve_100-batch_size_512\n",
      "refit_output/o_to_ec_few_c_subsetsize_0.3_prune_0.3_drop_0.1/algorithm_knowledge_distillation-availability_oracle-learn_input_mixed-learn_kwargs_{'alpha': 0.5}-max_epochs_100-epochs_wo_improve_100-batch_size_512\n",
      "refit_output/o_to_ec_few_c_subsetsize_0.3_prune_0.3_drop_0.1/algorithm_knowledge_distillation-availability_oracle-learn_input_mixed-learn_kwargs_{'alpha': 1}-max_epochs_100-epochs_wo_improve_100-batch_size_512\n",
      "For a subset size of ratio 0.5 the worst performant subset identified has a maximum accepted prune ratio of 0.55 (Accuracy of -0.09566666666666668)\n",
      "----Running 15 combinations for o_to_ec\n",
      "refit_output/o_to_ec_few_c_subsetsize_0.5_prune_0.55_drop_0.1/algorithm_ground_truth-availability_none-learn_input_client-max_epochs_100-epochs_wo_improve_100-batch_size_512\n",
      "refit_output/o_to_ec_few_c_subsetsize_0.5_prune_0.55_drop_0.1/algorithm_ground_inferred-availability_none-learn_input_client-max_epochs_100-epochs_wo_improve_100-batch_size_512\n",
      "refit_output/o_to_ec_few_c_subsetsize_0.5_prune_0.55_drop_0.1/algorithm_knowledge_distillation-availability_none-learn_input_client-learn_kwargs_{'alpha': 0.5}-max_epochs_100-epochs_wo_improve_100-batch_size_512\n",
      "refit_output/o_to_ec_few_c_subsetsize_0.5_prune_0.55_drop_0.1/algorithm_knowledge_distillation-availability_none-learn_input_client-learn_kwargs_{'alpha': 1}-max_epochs_100-epochs_wo_improve_100-batch_size_512\n",
      "refit_output/o_to_ec_few_c_subsetsize_0.5_prune_0.55_drop_0.1/algorithm_ground_truth-availability_oracle-learn_input_oracle-max_epochs_100-epochs_wo_improve_100-batch_size_512\n",
      "refit_output/o_to_ec_few_c_subsetsize_0.5_prune_0.55_drop_0.1/algorithm_ground_inferred-availability_oracle-learn_input_client-max_epochs_100-epochs_wo_improve_100-batch_size_512\n",
      "refit_output/o_to_ec_few_c_subsetsize_0.5_prune_0.55_drop_0.1/algorithm_knowledge_distillation-availability_oracle-learn_input_client-learn_kwargs_{'alpha': 0.5}-max_epochs_100-epochs_wo_improve_100-batch_size_512\n",
      "refit_output/o_to_ec_few_c_subsetsize_0.5_prune_0.55_drop_0.1/algorithm_knowledge_distillation-availability_oracle-learn_input_client-learn_kwargs_{'alpha': 1}-max_epochs_100-epochs_wo_improve_100-batch_size_512\n",
      "refit_output/o_to_ec_few_c_subsetsize_0.5_prune_0.55_drop_0.1/algorithm_ground_inferred-availability_oracle-learn_input_oracle-max_epochs_100-epochs_wo_improve_100-batch_size_512\n",
      "refit_output/o_to_ec_few_c_subsetsize_0.5_prune_0.55_drop_0.1/algorithm_knowledge_distillation-availability_oracle-learn_input_oracle-learn_kwargs_{'alpha': 0.5}-max_epochs_100-epochs_wo_improve_100-batch_size_512\n",
      "refit_output/o_to_ec_few_c_subsetsize_0.5_prune_0.55_drop_0.1/algorithm_knowledge_distillation-availability_oracle-learn_input_oracle-learn_kwargs_{'alpha': 1}-max_epochs_100-epochs_wo_improve_100-batch_size_512\n",
      "refit_output/o_to_ec_few_c_subsetsize_0.5_prune_0.55_drop_0.1/algorithm_ground_truth-availability_oracle-learn_input_mixed-max_epochs_100-epochs_wo_improve_100-batch_size_512\n",
      "refit_output/o_to_ec_few_c_subsetsize_0.5_prune_0.55_drop_0.1/algorithm_ground_inferred-availability_oracle-learn_input_mixed-max_epochs_100-epochs_wo_improve_100-batch_size_512\n",
      "refit_output/o_to_ec_few_c_subsetsize_0.5_prune_0.55_drop_0.1/algorithm_knowledge_distillation-availability_oracle-learn_input_mixed-learn_kwargs_{'alpha': 0.5}-max_epochs_100-epochs_wo_improve_100-batch_size_512\n",
      "refit_output/o_to_ec_few_c_subsetsize_0.5_prune_0.55_drop_0.1/algorithm_knowledge_distillation-availability_oracle-learn_input_mixed-learn_kwargs_{'alpha': 1}-max_epochs_100-epochs_wo_improve_100-batch_size_512\n",
      "For a subset size of ratio 0.8 the worst performant subset identified has a maximum accepted prune ratio of 0.55 (Accuracy of -0.09733333333333327)\n",
      "----Running 15 combinations for o_to_ec\n",
      "refit_output/o_to_ec_few_c_subsetsize_0.8_prune_0.55_drop_0.1/algorithm_ground_truth-availability_none-learn_input_client-max_epochs_100-epochs_wo_improve_100-batch_size_512\n",
      "refit_output/o_to_ec_few_c_subsetsize_0.8_prune_0.55_drop_0.1/algorithm_ground_inferred-availability_none-learn_input_client-max_epochs_100-epochs_wo_improve_100-batch_size_512\n",
      "refit_output/o_to_ec_few_c_subsetsize_0.8_prune_0.55_drop_0.1/algorithm_knowledge_distillation-availability_none-learn_input_client-learn_kwargs_{'alpha': 0.5}-max_epochs_100-epochs_wo_improve_100-batch_size_512\n",
      "refit_output/o_to_ec_few_c_subsetsize_0.8_prune_0.55_drop_0.1/algorithm_knowledge_distillation-availability_none-learn_input_client-learn_kwargs_{'alpha': 1}-max_epochs_100-epochs_wo_improve_100-batch_size_512\n",
      "refit_output/o_to_ec_few_c_subsetsize_0.8_prune_0.55_drop_0.1/algorithm_ground_truth-availability_oracle-learn_input_oracle-max_epochs_100-epochs_wo_improve_100-batch_size_512\n",
      "refit_output/o_to_ec_few_c_subsetsize_0.8_prune_0.55_drop_0.1/algorithm_ground_inferred-availability_oracle-learn_input_client-max_epochs_100-epochs_wo_improve_100-batch_size_512\n",
      "refit_output/o_to_ec_few_c_subsetsize_0.8_prune_0.55_drop_0.1/algorithm_knowledge_distillation-availability_oracle-learn_input_client-learn_kwargs_{'alpha': 0.5}-max_epochs_100-epochs_wo_improve_100-batch_size_512\n",
      "refit_output/o_to_ec_few_c_subsetsize_0.8_prune_0.55_drop_0.1/algorithm_knowledge_distillation-availability_oracle-learn_input_client-learn_kwargs_{'alpha': 1}-max_epochs_100-epochs_wo_improve_100-batch_size_512\n",
      "refit_output/o_to_ec_few_c_subsetsize_0.8_prune_0.55_drop_0.1/algorithm_ground_inferred-availability_oracle-learn_input_oracle-max_epochs_100-epochs_wo_improve_100-batch_size_512\n",
      "refit_output/o_to_ec_few_c_subsetsize_0.8_prune_0.55_drop_0.1/algorithm_knowledge_distillation-availability_oracle-learn_input_oracle-learn_kwargs_{'alpha': 0.5}-max_epochs_100-epochs_wo_improve_100-batch_size_512\n",
      "refit_output/o_to_ec_few_c_subsetsize_0.8_prune_0.55_drop_0.1/algorithm_knowledge_distillation-availability_oracle-learn_input_oracle-learn_kwargs_{'alpha': 1}-max_epochs_100-epochs_wo_improve_100-batch_size_512\n",
      "refit_output/o_to_ec_few_c_subsetsize_0.8_prune_0.55_drop_0.1/algorithm_ground_truth-availability_oracle-learn_input_mixed-max_epochs_100-epochs_wo_improve_100-batch_size_512\n",
      "refit_output/o_to_ec_few_c_subsetsize_0.8_prune_0.55_drop_0.1/algorithm_ground_inferred-availability_oracle-learn_input_mixed-max_epochs_100-epochs_wo_improve_100-batch_size_512\n",
      "refit_output/o_to_ec_few_c_subsetsize_0.8_prune_0.55_drop_0.1/algorithm_knowledge_distillation-availability_oracle-learn_input_mixed-learn_kwargs_{'alpha': 0.5}-max_epochs_100-epochs_wo_improve_100-batch_size_512\n",
      "refit_output/o_to_ec_few_c_subsetsize_0.8_prune_0.55_drop_0.1/algorithm_knowledge_distillation-availability_oracle-learn_input_mixed-learn_kwargs_{'alpha': 1}-max_epochs_100-epochs_wo_improve_100-batch_size_512\n"
     ]
    }
   ],
   "source": [
    "for s in config.TARGET_SUBSET_RATIOS:\n",
    "    res = load(config.RANK_PRUNE_OUTPUT_DIR + f\"rank_few_c_traffic_few_c_combo_pruned_models_subsets_features_for_subsetsize_{s}_{config.PRUNE_METHOD.__name__}.csv\", index_col=0)\n",
    "    res[\"Accuracy\"] -= baselines.loc[\"Client Traffic\", \"Original Accuracy\"]\n",
    "    within_range = res[res[\"Accuracy\"].between(-0.1, 0)]\n",
    "    col = within_range[\"Prune Ratio\"]\n",
    "    worst_row = within_range.loc[col[col == col.max()].index[-1]]\n",
    "    prune_ratio = worst_row[\"Prune Ratio\"]\n",
    "    subset = worst_row[~worst_row.index.isin([\"Accuracy\", \"Prune Ratio\"]) & worst_row.notnull()].index.values\n",
    "    print(\"For a subset size of ratio\", s, \"the worst performant subset identified has a maximum accepted prune ratio of\",\n",
    "          prune_ratio, f\"(Accuracy of {worst_row['Accuracy']})\")\n",
    "    run_scenario(\"o_to_ec\", only_client_categories=True, features_available=subset, delta_p=0.1, subset_ratio=s, prune_ratio=prune_ratio, skip=True)"
   ]
  },
  {
   "cell_type": "code",
   "execution_count": 11,
   "metadata": {},
   "outputs": [
    {
     "name": "stdout",
     "output_type": "stream",
     "text": [
      "For a subset size of ratio 0.1 the worst performant subset identified has a maximum accepted prune ratio of 0.6 (Accuracy of -0.19033333333333335)\n",
      "----Running 15 combinations for o_to_ec\n",
      "refit_output/o_to_ec_few_c_subsetsize_0.1_prune_0.6_drop_0.2/algorithm_ground_truth-availability_none-learn_input_client-max_epochs_100-epochs_wo_improve_100-batch_size_512\n",
      "refit_output/o_to_ec_few_c_subsetsize_0.1_prune_0.6_drop_0.2/algorithm_ground_inferred-availability_none-learn_input_client-max_epochs_100-epochs_wo_improve_100-batch_size_512\n",
      "refit_output/o_to_ec_few_c_subsetsize_0.1_prune_0.6_drop_0.2/algorithm_knowledge_distillation-availability_none-learn_input_client-learn_kwargs_{'alpha': 0.5}-max_epochs_100-epochs_wo_improve_100-batch_size_512\n",
      "refit_output/o_to_ec_few_c_subsetsize_0.1_prune_0.6_drop_0.2/algorithm_knowledge_distillation-availability_none-learn_input_client-learn_kwargs_{'alpha': 1}-max_epochs_100-epochs_wo_improve_100-batch_size_512\n",
      "refit_output/o_to_ec_few_c_subsetsize_0.1_prune_0.6_drop_0.2/algorithm_ground_truth-availability_oracle-learn_input_oracle-max_epochs_100-epochs_wo_improve_100-batch_size_512\n",
      "refit_output/o_to_ec_few_c_subsetsize_0.1_prune_0.6_drop_0.2/algorithm_ground_inferred-availability_oracle-learn_input_client-max_epochs_100-epochs_wo_improve_100-batch_size_512\n",
      "refit_output/o_to_ec_few_c_subsetsize_0.1_prune_0.6_drop_0.2/algorithm_knowledge_distillation-availability_oracle-learn_input_client-learn_kwargs_{'alpha': 0.5}-max_epochs_100-epochs_wo_improve_100-batch_size_512\n",
      "refit_output/o_to_ec_few_c_subsetsize_0.1_prune_0.6_drop_0.2/algorithm_knowledge_distillation-availability_oracle-learn_input_client-learn_kwargs_{'alpha': 1}-max_epochs_100-epochs_wo_improve_100-batch_size_512\n",
      "refit_output/o_to_ec_few_c_subsetsize_0.1_prune_0.6_drop_0.2/algorithm_ground_inferred-availability_oracle-learn_input_oracle-max_epochs_100-epochs_wo_improve_100-batch_size_512\n",
      "refit_output/o_to_ec_few_c_subsetsize_0.1_prune_0.6_drop_0.2/algorithm_knowledge_distillation-availability_oracle-learn_input_oracle-learn_kwargs_{'alpha': 0.5}-max_epochs_100-epochs_wo_improve_100-batch_size_512\n",
      "refit_output/o_to_ec_few_c_subsetsize_0.1_prune_0.6_drop_0.2/algorithm_knowledge_distillation-availability_oracle-learn_input_oracle-learn_kwargs_{'alpha': 1}-max_epochs_100-epochs_wo_improve_100-batch_size_512\n",
      "refit_output/o_to_ec_few_c_subsetsize_0.1_prune_0.6_drop_0.2/algorithm_ground_truth-availability_oracle-learn_input_mixed-max_epochs_100-epochs_wo_improve_100-batch_size_512\n",
      "refit_output/o_to_ec_few_c_subsetsize_0.1_prune_0.6_drop_0.2/algorithm_ground_inferred-availability_oracle-learn_input_mixed-max_epochs_100-epochs_wo_improve_100-batch_size_512\n",
      "refit_output/o_to_ec_few_c_subsetsize_0.1_prune_0.6_drop_0.2/algorithm_knowledge_distillation-availability_oracle-learn_input_mixed-learn_kwargs_{'alpha': 0.5}-max_epochs_100-epochs_wo_improve_100-batch_size_512\n",
      "refit_output/o_to_ec_few_c_subsetsize_0.1_prune_0.6_drop_0.2/algorithm_knowledge_distillation-availability_oracle-learn_input_mixed-learn_kwargs_{'alpha': 1}-max_epochs_100-epochs_wo_improve_100-batch_size_512\n",
      "For a subset size of ratio 0.3 the worst performant subset identified has a maximum accepted prune ratio of 0.6 (Accuracy of -0.15700000000000003)\n",
      "----Running 15 combinations for o_to_ec\n",
      "refit_output/o_to_ec_few_c_subsetsize_0.3_prune_0.6_drop_0.2/algorithm_ground_truth-availability_none-learn_input_client-max_epochs_100-epochs_wo_improve_100-batch_size_512\n",
      "refit_output/o_to_ec_few_c_subsetsize_0.3_prune_0.6_drop_0.2/algorithm_ground_inferred-availability_none-learn_input_client-max_epochs_100-epochs_wo_improve_100-batch_size_512\n",
      "refit_output/o_to_ec_few_c_subsetsize_0.3_prune_0.6_drop_0.2/algorithm_knowledge_distillation-availability_none-learn_input_client-learn_kwargs_{'alpha': 0.5}-max_epochs_100-epochs_wo_improve_100-batch_size_512\n",
      "refit_output/o_to_ec_few_c_subsetsize_0.3_prune_0.6_drop_0.2/algorithm_knowledge_distillation-availability_none-learn_input_client-learn_kwargs_{'alpha': 1}-max_epochs_100-epochs_wo_improve_100-batch_size_512\n",
      "refit_output/o_to_ec_few_c_subsetsize_0.3_prune_0.6_drop_0.2/algorithm_ground_truth-availability_oracle-learn_input_oracle-max_epochs_100-epochs_wo_improve_100-batch_size_512\n",
      "refit_output/o_to_ec_few_c_subsetsize_0.3_prune_0.6_drop_0.2/algorithm_ground_inferred-availability_oracle-learn_input_client-max_epochs_100-epochs_wo_improve_100-batch_size_512\n",
      "refit_output/o_to_ec_few_c_subsetsize_0.3_prune_0.6_drop_0.2/algorithm_knowledge_distillation-availability_oracle-learn_input_client-learn_kwargs_{'alpha': 0.5}-max_epochs_100-epochs_wo_improve_100-batch_size_512\n",
      "refit_output/o_to_ec_few_c_subsetsize_0.3_prune_0.6_drop_0.2/algorithm_knowledge_distillation-availability_oracle-learn_input_client-learn_kwargs_{'alpha': 1}-max_epochs_100-epochs_wo_improve_100-batch_size_512\n",
      "refit_output/o_to_ec_few_c_subsetsize_0.3_prune_0.6_drop_0.2/algorithm_ground_inferred-availability_oracle-learn_input_oracle-max_epochs_100-epochs_wo_improve_100-batch_size_512\n",
      "refit_output/o_to_ec_few_c_subsetsize_0.3_prune_0.6_drop_0.2/algorithm_knowledge_distillation-availability_oracle-learn_input_oracle-learn_kwargs_{'alpha': 0.5}-max_epochs_100-epochs_wo_improve_100-batch_size_512\n",
      "refit_output/o_to_ec_few_c_subsetsize_0.3_prune_0.6_drop_0.2/algorithm_knowledge_distillation-availability_oracle-learn_input_oracle-learn_kwargs_{'alpha': 1}-max_epochs_100-epochs_wo_improve_100-batch_size_512\n",
      "refit_output/o_to_ec_few_c_subsetsize_0.3_prune_0.6_drop_0.2/algorithm_ground_truth-availability_oracle-learn_input_mixed-max_epochs_100-epochs_wo_improve_100-batch_size_512\n",
      "refit_output/o_to_ec_few_c_subsetsize_0.3_prune_0.6_drop_0.2/algorithm_ground_inferred-availability_oracle-learn_input_mixed-max_epochs_100-epochs_wo_improve_100-batch_size_512\n",
      "refit_output/o_to_ec_few_c_subsetsize_0.3_prune_0.6_drop_0.2/algorithm_knowledge_distillation-availability_oracle-learn_input_mixed-learn_kwargs_{'alpha': 0.5}-max_epochs_100-epochs_wo_improve_100-batch_size_512\n",
      "refit_output/o_to_ec_few_c_subsetsize_0.3_prune_0.6_drop_0.2/algorithm_knowledge_distillation-availability_oracle-learn_input_mixed-learn_kwargs_{'alpha': 1}-max_epochs_100-epochs_wo_improve_100-batch_size_512\n",
      "For a subset size of ratio 0.5 the worst performant subset identified has a maximum accepted prune ratio of 0.55 (Accuracy of -0.19966666666666666)\n",
      "----Running 15 combinations for o_to_ec\n",
      "refit_output/o_to_ec_few_c_subsetsize_0.5_prune_0.55_drop_0.2/algorithm_ground_truth-availability_none-learn_input_client-max_epochs_100-epochs_wo_improve_100-batch_size_512\n",
      "refit_output/o_to_ec_few_c_subsetsize_0.5_prune_0.55_drop_0.2/algorithm_ground_inferred-availability_none-learn_input_client-max_epochs_100-epochs_wo_improve_100-batch_size_512\n",
      "refit_output/o_to_ec_few_c_subsetsize_0.5_prune_0.55_drop_0.2/algorithm_knowledge_distillation-availability_none-learn_input_client-learn_kwargs_{'alpha': 0.5}-max_epochs_100-epochs_wo_improve_100-batch_size_512\n",
      "refit_output/o_to_ec_few_c_subsetsize_0.5_prune_0.55_drop_0.2/algorithm_knowledge_distillation-availability_none-learn_input_client-learn_kwargs_{'alpha': 1}-max_epochs_100-epochs_wo_improve_100-batch_size_512\n",
      "refit_output/o_to_ec_few_c_subsetsize_0.5_prune_0.55_drop_0.2/algorithm_ground_truth-availability_oracle-learn_input_oracle-max_epochs_100-epochs_wo_improve_100-batch_size_512\n",
      "refit_output/o_to_ec_few_c_subsetsize_0.5_prune_0.55_drop_0.2/algorithm_ground_inferred-availability_oracle-learn_input_client-max_epochs_100-epochs_wo_improve_100-batch_size_512\n",
      "refit_output/o_to_ec_few_c_subsetsize_0.5_prune_0.55_drop_0.2/algorithm_knowledge_distillation-availability_oracle-learn_input_client-learn_kwargs_{'alpha': 0.5}-max_epochs_100-epochs_wo_improve_100-batch_size_512\n",
      "refit_output/o_to_ec_few_c_subsetsize_0.5_prune_0.55_drop_0.2/algorithm_knowledge_distillation-availability_oracle-learn_input_client-learn_kwargs_{'alpha': 1}-max_epochs_100-epochs_wo_improve_100-batch_size_512\n",
      "refit_output/o_to_ec_few_c_subsetsize_0.5_prune_0.55_drop_0.2/algorithm_ground_inferred-availability_oracle-learn_input_oracle-max_epochs_100-epochs_wo_improve_100-batch_size_512\n",
      "refit_output/o_to_ec_few_c_subsetsize_0.5_prune_0.55_drop_0.2/algorithm_knowledge_distillation-availability_oracle-learn_input_oracle-learn_kwargs_{'alpha': 0.5}-max_epochs_100-epochs_wo_improve_100-batch_size_512\n",
      "refit_output/o_to_ec_few_c_subsetsize_0.5_prune_0.55_drop_0.2/algorithm_knowledge_distillation-availability_oracle-learn_input_oracle-learn_kwargs_{'alpha': 1}-max_epochs_100-epochs_wo_improve_100-batch_size_512\n",
      "refit_output/o_to_ec_few_c_subsetsize_0.5_prune_0.55_drop_0.2/algorithm_ground_truth-availability_oracle-learn_input_mixed-max_epochs_100-epochs_wo_improve_100-batch_size_512\n",
      "refit_output/o_to_ec_few_c_subsetsize_0.5_prune_0.55_drop_0.2/algorithm_ground_inferred-availability_oracle-learn_input_mixed-max_epochs_100-epochs_wo_improve_100-batch_size_512\n",
      "refit_output/o_to_ec_few_c_subsetsize_0.5_prune_0.55_drop_0.2/algorithm_knowledge_distillation-availability_oracle-learn_input_mixed-learn_kwargs_{'alpha': 0.5}-max_epochs_100-epochs_wo_improve_100-batch_size_512\n",
      "refit_output/o_to_ec_few_c_subsetsize_0.5_prune_0.55_drop_0.2/algorithm_knowledge_distillation-availability_oracle-learn_input_mixed-learn_kwargs_{'alpha': 1}-max_epochs_100-epochs_wo_improve_100-batch_size_512\n",
      "For a subset size of ratio 0.8 the worst performant subset identified has a maximum accepted prune ratio of 0.55 (Accuracy of -0.19533333333333336)\n",
      "----Running 15 combinations for o_to_ec\n",
      "refit_output/o_to_ec_few_c_subsetsize_0.8_prune_0.55_drop_0.2/algorithm_ground_truth-availability_none-learn_input_client-max_epochs_100-epochs_wo_improve_100-batch_size_512\n",
      "refit_output/o_to_ec_few_c_subsetsize_0.8_prune_0.55_drop_0.2/algorithm_ground_inferred-availability_none-learn_input_client-max_epochs_100-epochs_wo_improve_100-batch_size_512\n",
      "refit_output/o_to_ec_few_c_subsetsize_0.8_prune_0.55_drop_0.2/algorithm_knowledge_distillation-availability_none-learn_input_client-learn_kwargs_{'alpha': 0.5}-max_epochs_100-epochs_wo_improve_100-batch_size_512\n",
      "refit_output/o_to_ec_few_c_subsetsize_0.8_prune_0.55_drop_0.2/algorithm_knowledge_distillation-availability_none-learn_input_client-learn_kwargs_{'alpha': 1}-max_epochs_100-epochs_wo_improve_100-batch_size_512\n",
      "refit_output/o_to_ec_few_c_subsetsize_0.8_prune_0.55_drop_0.2/algorithm_ground_truth-availability_oracle-learn_input_oracle-max_epochs_100-epochs_wo_improve_100-batch_size_512\n",
      "refit_output/o_to_ec_few_c_subsetsize_0.8_prune_0.55_drop_0.2/algorithm_ground_inferred-availability_oracle-learn_input_client-max_epochs_100-epochs_wo_improve_100-batch_size_512\n",
      "refit_output/o_to_ec_few_c_subsetsize_0.8_prune_0.55_drop_0.2/algorithm_knowledge_distillation-availability_oracle-learn_input_client-learn_kwargs_{'alpha': 0.5}-max_epochs_100-epochs_wo_improve_100-batch_size_512\n",
      "refit_output/o_to_ec_few_c_subsetsize_0.8_prune_0.55_drop_0.2/algorithm_knowledge_distillation-availability_oracle-learn_input_client-learn_kwargs_{'alpha': 1}-max_epochs_100-epochs_wo_improve_100-batch_size_512\n",
      "refit_output/o_to_ec_few_c_subsetsize_0.8_prune_0.55_drop_0.2/algorithm_ground_inferred-availability_oracle-learn_input_oracle-max_epochs_100-epochs_wo_improve_100-batch_size_512\n",
      "refit_output/o_to_ec_few_c_subsetsize_0.8_prune_0.55_drop_0.2/algorithm_knowledge_distillation-availability_oracle-learn_input_oracle-learn_kwargs_{'alpha': 0.5}-max_epochs_100-epochs_wo_improve_100-batch_size_512\n",
      "refit_output/o_to_ec_few_c_subsetsize_0.8_prune_0.55_drop_0.2/algorithm_knowledge_distillation-availability_oracle-learn_input_oracle-learn_kwargs_{'alpha': 1}-max_epochs_100-epochs_wo_improve_100-batch_size_512\n",
      "refit_output/o_to_ec_few_c_subsetsize_0.8_prune_0.55_drop_0.2/algorithm_ground_truth-availability_oracle-learn_input_mixed-max_epochs_100-epochs_wo_improve_100-batch_size_512\n",
      "refit_output/o_to_ec_few_c_subsetsize_0.8_prune_0.55_drop_0.2/algorithm_ground_inferred-availability_oracle-learn_input_mixed-max_epochs_100-epochs_wo_improve_100-batch_size_512\n",
      "refit_output/o_to_ec_few_c_subsetsize_0.8_prune_0.55_drop_0.2/algorithm_knowledge_distillation-availability_oracle-learn_input_mixed-learn_kwargs_{'alpha': 0.5}-max_epochs_100-epochs_wo_improve_100-batch_size_512\n",
      "refit_output/o_to_ec_few_c_subsetsize_0.8_prune_0.55_drop_0.2/algorithm_knowledge_distillation-availability_oracle-learn_input_mixed-learn_kwargs_{'alpha': 1}-max_epochs_100-epochs_wo_improve_100-batch_size_512\n"
     ]
    }
   ],
   "source": [
    "for s in config.TARGET_SUBSET_RATIOS:\n",
    "    res = load(config.RANK_PRUNE_OUTPUT_DIR + f\"rank_few_c_traffic_few_c_combo_pruned_models_subsets_features_for_subsetsize_{s}_{config.PRUNE_METHOD.__name__}.csv\", index_col=0)\n",
    "    res[\"Accuracy\"] -= baselines.loc[\"Client Traffic\", \"Original Accuracy\"]\n",
    "    within_range = res[res[\"Accuracy\"].between(-0.2, -0.1)]\n",
    "    col = within_range[\"Prune Ratio\"]\n",
    "    worst_row = within_range.loc[col[col == col.max()].index[-1]]\n",
    "    prune_ratio = worst_row[\"Prune Ratio\"]\n",
    "    subset = worst_row[~worst_row.index.isin([\"Accuracy\", \"Prune Ratio\"]) & worst_row.notnull()].index.values\n",
    "    print(\"For a subset size of ratio\", s, \"the worst performant subset identified has a maximum accepted prune ratio of\",\n",
    "          prune_ratio, f\"(Accuracy of {worst_row['Accuracy']})\")\n",
    "    run_scenario(\"o_to_ec\", only_client_categories=True, features_available=subset, delta_p=0.2, subset_ratio=s, prune_ratio=prune_ratio, skip=True)"
   ]
  },
  {
   "cell_type": "markdown",
   "metadata": {},
   "source": [
    "If interested in any further test, there are all those with the model whose feature ranking has been performed on all traffic categories, and also those where the stochastic search is performed before the pruning (expect the oracle to be better than pruned model always)."
   ]
  }
 ],
 "metadata": {
  "kernelspec": {
   "display_name": ".venv",
   "language": "python",
   "name": "python3"
  },
  "language_info": {
   "codemirror_mode": {
    "name": "ipython",
    "version": 3
   },
   "file_extension": ".py",
   "mimetype": "text/x-python",
   "name": "python",
   "nbconvert_exporter": "python",
   "pygments_lexer": "ipython3",
   "version": "3.10.12"
  }
 },
 "nbformat": 4,
 "nbformat_minor": 2
}
