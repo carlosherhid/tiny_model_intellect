{
 "cells": [
  {
   "cell_type": "markdown",
   "metadata": {},
   "source": [
    "# Feature Rank, Subset Search and Model Pruning\n",
    "\n",
    "In this notebook, we leverage feature ranking algorithms to assign an importance score to each feature in the dataset.\n",
    "\n",
    "Then, we'll use that score to perform the *Stochastic Subset Search*: find smaller sub-optimal feature subsets by randomly (weighted) moving into the solution space, trying different combination of features."
   ]
  },
  {
   "cell_type": "code",
   "execution_count": 2,
   "metadata": {},
   "outputs": [],
   "source": [
    "%reload_ext autoreload\n",
    "%autoreload 2\n",
    "import pandas as pd\n",
    "import numpy as np\n",
    "\n",
    "import matplotlib as mpl\n",
    "from sklearn.metrics import accuracy_score\n",
    "\n",
    "from intellect.model.sklearn.model import EnhancedMlpRegressor\n",
    "from intellect.model.sklearn.pruning import globally_unstructured_connections_random\n",
    "from intellect.ranking import rank_metric_permutation_sklearn, prune_and_subset_search, subset_search, prune_search, subset_search_and_prune, sequential_backward_elimination\n",
    "from intellect.io import load, dump, create_dir, TimeoutIterator\n",
    "from intellect.inspect import set_seed\n",
    "import os\n",
    "\n",
    "import config\n",
    "\n",
    "# to decrease size of the notebook\n",
    "mpl.rcParams['figure.dpi']= 70\n",
    "pd.set_option(\"display.max_columns\", 100)\n",
    "pd.set_option(\"display.max_rows\", 10)\n",
    "\n",
    "# Add these lines when working on local machine with few cores\n",
    "import threadpoolctl\n",
    "threadpoolctl.threadpool_limits(limits=int(os.cpu_count()/4));"
   ]
  },
  {
   "cell_type": "code",
   "execution_count": 3,
   "metadata": {},
   "outputs": [],
   "source": [
    "_, validation, _ = config.get_dataset()"
   ]
  },
  {
   "cell_type": "markdown",
   "metadata": {},
   "source": [
    "Now, remove unused categories from this portion, and balance samples among the remaining ones."
   ]
  },
  {
   "cell_type": "code",
   "execution_count": 4,
   "metadata": {},
   "outputs": [],
   "source": [
    "validation_client = validation.filter_categories(config.CLIENT_CATEGORIES).balance_categories()"
   ]
  },
  {
   "cell_type": "code",
   "execution_count": null,
   "metadata": {},
   "outputs": [],
   "source": [
    "create_dir(config.RANK_PRUNE_OUTPUT_DIR)"
   ]
  },
  {
   "cell_type": "code",
   "execution_count": 5,
   "metadata": {},
   "outputs": [
    {
     "data": {
      "text/html": [
       "<div>\n",
       "<style scoped>\n",
       "    .dataframe tbody tr th:only-of-type {\n",
       "        vertical-align: middle;\n",
       "    }\n",
       "\n",
       "    .dataframe tbody tr th {\n",
       "        vertical-align: top;\n",
       "    }\n",
       "\n",
       "    .dataframe thead th {\n",
       "        text-align: right;\n",
       "    }\n",
       "</style>\n",
       "<table border=\"1\" class=\"dataframe\">\n",
       "  <thead>\n",
       "    <tr style=\"text-align: right;\">\n",
       "      <th></th>\n",
       "      <th>Original Accuracy</th>\n",
       "      <th>Worst Accuracy</th>\n",
       "    </tr>\n",
       "  </thead>\n",
       "  <tbody>\n",
       "    <tr>\n",
       "      <th>Client Traffic</th>\n",
       "      <td>0.981000</td>\n",
       "      <td>0.637650</td>\n",
       "    </tr>\n",
       "    <tr>\n",
       "      <th>All Traffic</th>\n",
       "      <td>0.977578</td>\n",
       "      <td>0.635426</td>\n",
       "    </tr>\n",
       "  </tbody>\n",
       "</table>\n",
       "</div>"
      ],
      "text/plain": [
       "                Original Accuracy  Worst Accuracy\n",
       "Client Traffic           0.981000        0.637650\n",
       "All Traffic              0.977578        0.635426"
      ]
     },
     "execution_count": 5,
     "metadata": {},
     "output_type": "execute_result"
    }
   ],
   "source": [
    "oracle = EnhancedMlpRegressor.load(config.TRAINING_OUTPUT_MODEL)\n",
    "baseline_all = accuracy_score(validation.y, oracle.predict(validation.X))\n",
    "baseline_client = accuracy_score(validation_client.y, oracle.predict(validation_client.X))\n",
    "df = pd.DataFrame({\"Original Accuracy\": [baseline_client, baseline_all], \"Worst Accuracy\": [baseline_client * (1 - config.PERFORMANCE_DROP_ACCEPTED_RATIO), baseline_all * (1 - config.PERFORMANCE_DROP_ACCEPTED_RATIO)]},\n",
    "                  index=[\"Client Traffic\", \"All Traffic\"])\n",
    "dump(df, config.RANK_PRUNE_OUTPUT_DIR + \"baseline.csv\")\n",
    "df"
   ]
  },
  {
   "cell_type": "markdown",
   "metadata": {},
   "source": [
    "Define few utility functions for Stochastic Subset Search."
   ]
  },
  {
   "cell_type": "code",
   "execution_count": 6,
   "metadata": {},
   "outputs": [],
   "source": [
    "def only_pruning(ds_only_client_traffic: bool = True, prune_method=config.PRUNE_METHOD):\n",
    "    ds = validation_client if ds_only_client_traffic else validation\n",
    "    traffic_prefix = \"few_c\" if ds_only_client_traffic else \"all_c\"\n",
    "    new_df_comb = pd.DataFrame(columns=[\"Accuracy\", \"Prune Ratio\"])\n",
    "    set_seed()\n",
    "    for k, v, j in TimeoutIterator(prune_search(\n",
    "        oracle.clone(init=False), ds, prune_method, config.PRUNE_RATIOS,\n",
    "        metric=accuracy_score, performance_drop_ratio=config.PERFORMANCE_DROP_ACCEPTED_RATIO), time_limit=config.TIME_LIMIT):\n",
    "        if not j:\n",
    "            continue\n",
    "        new_df_comb.loc[len(new_df_comb)] = [v, k]\n",
    "    new_df_comb = new_df_comb.sort_values(by=\"Accuracy\", ascending=False)\n",
    "    dump(new_df_comb, config.RANK_PRUNE_OUTPUT_DIR + f\"traffic_{traffic_prefix}_pruning_ratios_only_{prune_method.__name__}.csv\")\n",
    "    print(f\"Only Pruning for traffic {traffic_prefix} found {len(new_df_comb)} models with {prune_method.__name__}\")\n",
    "\n",
    "def only_stochastic_search(rank_only_client_traffic: bool = True, ds_only_client_traffic: bool = True):\n",
    "    ds = validation_client if ds_only_client_traffic else validation\n",
    "    rank_prefix = \"few_c\" if rank_only_client_traffic else \"all_c\"\n",
    "    traffic_prefix = \"few_c\" if ds_only_client_traffic else \"all_c\"\n",
    "    df_rank: pd.DataFrame = load(config.RANK_PRUNE_OUTPUT_DIR + f\"rank_{rank_prefix}.csv\", index_col=0)\n",
    "    rank = df_rank[str(ds.n_features)].to_dict()\n",
    "\n",
    "    for subset_size_ratio in config.TARGET_SUBSET_RATIOS:\n",
    "        set_seed()\n",
    "        new_df_comb = pd.DataFrame(columns=[\"Accuracy\"] + df_rank.index.values.tolist())\n",
    "        for k, v, j in TimeoutIterator(subset_search(\n",
    "            oracle.clone(init=False), ds, subset_size_ratio, config.EXPLORED_PER_RATIO,\n",
    "            rank=rank, metric=accuracy_score, performance_drop_ratio=config.PERFORMANCE_DROP_ACCEPTED_RATIO), time_limit=config.TIME_LIMIT):\n",
    "            if not j:\n",
    "                continue\n",
    "            copied = df_rank.T.loc[str(ds.n_features)].copy()\n",
    "            copied[~copied.index.isin(k)] = np.nan\n",
    "            copied[copied.index.isin(k)] = 1\n",
    "            copied[\"Accuracy\"] = v\n",
    "            new_df_comb.loc[len(new_df_comb)] = copied\n",
    "        new_df_comb = new_df_comb.sort_values(by=\"Accuracy\", ascending=False)\n",
    "        dump(new_df_comb, config.RANK_PRUNE_OUTPUT_DIR + f\"rank_{rank_prefix}_traffic_{traffic_prefix}_subsets_features_for_subsetsize_{subset_size_ratio}.csv\")\n",
    "        print(f\"Only Stochastic with rank {rank_prefix} and traffic {traffic_prefix} and Subset size ratio {subset_size_ratio} found {len(new_df_comb)} models\")\n",
    "\n",
    "def stochastic_search_then_pruning(rank_only_client_traffic: bool = True, ds_only_client_traffic: bool = True, prune_method=config.PRUNE_METHOD):\n",
    "    ds = validation_client if ds_only_client_traffic else validation\n",
    "    rank_prefix = \"few_c\" if rank_only_client_traffic else \"all_c\"\n",
    "    traffic_prefix = \"few_c\" if ds_only_client_traffic else \"all_c\"\n",
    "    df_rank: pd.DataFrame = load(config.RANK_PRUNE_OUTPUT_DIR + f\"rank_{rank_prefix}.csv\", index_col=0)\n",
    "    rank = df_rank[str(ds.n_features)].to_dict()\n",
    "\n",
    "    for subset_size_ratio in config.TARGET_SUBSET_RATIOS:\n",
    "        set_seed()\n",
    "        new_df_comb = pd.DataFrame(columns=[\"Accuracy\", \"Prune Ratio\"] + df_rank.index.values.tolist())\n",
    "        for k, v, prune_ratio in TimeoutIterator(subset_search_and_prune(\n",
    "                oracle.clone(init=False),prune_method, ds, config.PRUNE_RATIOS, subset_size_ratio, config.EXPLORED_PER_RATIO,\n",
    "                rank=rank, metric=accuracy_score, performance_drop_ratio=config.PERFORMANCE_DROP_ACCEPTED_RATIO), time_limit=config.TIME_LIMIT):\n",
    "            copied = df_rank.T.loc[str(ds.n_features)].copy()\n",
    "            copied[~copied.index.isin(k)] = np.nan\n",
    "            copied[copied.index.isin(k)] = 1\n",
    "            copied[\"Prune Ratio\"] = prune_ratio\n",
    "            copied[\"Accuracy\"] = v\n",
    "            new_df_comb.loc[len(new_df_comb)] = copied\n",
    "        new_df_comb = new_df_comb.sort_values(by=\"Accuracy\", ascending=False)\n",
    "        dump(new_df_comb, config.RANK_PRUNE_OUTPUT_DIR + f\"rank_{rank_prefix}_traffic_{traffic_prefix}_combo_subsets_features_pruned_models_for_subsetsize_{subset_size_ratio}_{prune_method.__name__}.csv\")\n",
    "        print(f\"Stochastic search and then Pruning with algorithm {prune_method.__name__} rank {rank_prefix} and traffic {traffic_prefix} and Subset Size {subset_size_ratio} found (%prune: #accepted models)\", new_df_comb[\"Prune Ratio\"].value_counts().sort_index().to_dict())\n",
    "\n",
    "def pruning_then_stochastic_search(rank_only_client_traffic: bool = True, ds_only_client_traffic: bool = True, prune_method=config.PRUNE_METHOD):\n",
    "    ds = validation_client if ds_only_client_traffic else validation\n",
    "    rank_prefix = \"few_c\" if rank_only_client_traffic else \"all_c\"\n",
    "    traffic_prefix = \"few_c\" if ds_only_client_traffic else \"all_c\"\n",
    "    df_rank: pd.DataFrame = load(config.RANK_PRUNE_OUTPUT_DIR + f\"rank_{rank_prefix}.csv\", index_col=0)\n",
    "    rank = df_rank[str(ds.n_features)].to_dict()\n",
    "\n",
    "    for subset_size_ratio in config.TARGET_SUBSET_RATIOS:\n",
    "        set_seed()\n",
    "        new_df_comb = pd.DataFrame(columns=[\"Accuracy\", \"Prune Ratio\"] + df_rank.index.values.tolist())\n",
    "        for prune_ratio, k, v in TimeoutIterator(prune_and_subset_search(\n",
    "                oracle.clone(init=False),prune_method, ds, config.PRUNE_RATIOS, subset_size_ratio, config.EXPLORED_PER_RATIO,\n",
    "                rank=rank, metric=accuracy_score, performance_drop_ratio=config.PERFORMANCE_DROP_ACCEPTED_RATIO), time_limit=config.TIME_LIMIT):\n",
    "            copied = df_rank.T.loc[str(ds.n_features)].copy()\n",
    "            copied[~copied.index.isin(k)] = np.nan\n",
    "            copied[copied.index.isin(k)] = 1\n",
    "            copied[\"Prune Ratio\"] = prune_ratio\n",
    "            copied[\"Accuracy\"] = v\n",
    "            new_df_comb.loc[len(new_df_comb)] = copied\n",
    "        new_df_comb = new_df_comb.sort_values(by=\"Accuracy\", ascending=False)\n",
    "        dump(new_df_comb, config.RANK_PRUNE_OUTPUT_DIR + f\"rank_{rank_prefix}_traffic_{traffic_prefix}_combo_pruned_models_subsets_features_for_subsetsize_{subset_size_ratio}_{prune_method.__name__}.csv\")\n",
    "        print(f\"Prune and the Stochastic search with algorithm {prune_method.__name__} with rank {rank_prefix} and traffic {traffic_prefix} and Subset Size {subset_size_ratio} found  ->\", new_df_comb[\"Prune Ratio\"].value_counts().sort_index().to_dict())"
   ]
  },
  {
   "cell_type": "markdown",
   "metadata": {},
   "source": [
    "## Feature Ranking and Recursive Subset Search"
   ]
  },
  {
   "cell_type": "code",
   "execution_count": 48,
   "metadata": {},
   "outputs": [],
   "source": [
    "def recursive_ss(ds_only_client_traffic=False, fixed_rank=False, remove_zero_first=True):\n",
    "    ds = validation_client if ds_only_client_traffic else validation\n",
    "    t = \"few_c\" if ds_only_client_traffic else \"all_c\"\n",
    "    t2 = \"fixed_rank\" if fixed_rank else \"iterative_rank\"\n",
    "    t3 = \"zero_first\" if remove_zero_first else \"zero_not_first\"\n",
    "    out_name = config.RANK_PRUNE_OUTPUT_DIR + f\"sequential_{t}_{t2}_{t3}.csv\"\n",
    "    \n",
    "    if fixed_rank:\n",
    "        kwargs = {\"fixed_rank\": rank_metric_permutation_sklearn(oracle, ds)}\n",
    "    else:\n",
    "        kwargs = {\"rank_algorithm\": config.RANK_METHOD}\n",
    "    \n",
    "    asd = pd.DataFrame(columns=[\"Accuracy\"] + ds.features, index=pd.Index([], name=\"#Features\"))\n",
    "    for score, _, scores in sequential_backward_elimination(oracle, ds, remove_zero_first=remove_zero_first, **kwargs):\n",
    "        asd.loc[len(scores)] = {\"Accuracy\": score, **scores}\n",
    "    dump(asd, out_name)"
   ]
  },
  {
   "cell_type": "code",
   "execution_count": 41,
   "metadata": {},
   "outputs": [],
   "source": [
    "recursive_ss(ds_only_client_traffic=True, fixed_rank=True, remove_zero_first=True)"
   ]
  },
  {
   "cell_type": "code",
   "execution_count": 42,
   "metadata": {},
   "outputs": [],
   "source": [
    "recursive_ss(ds_only_client_traffic=True, fixed_rank=True, remove_zero_first=False)"
   ]
  },
  {
   "cell_type": "code",
   "execution_count": 45,
   "metadata": {},
   "outputs": [],
   "source": [
    "recursive_ss(ds_only_client_traffic=False, fixed_rank=True, remove_zero_first=True)"
   ]
  },
  {
   "cell_type": "code",
   "execution_count": 44,
   "metadata": {},
   "outputs": [],
   "source": [
    "recursive_ss(ds_only_client_traffic=False, fixed_rank=True, remove_zero_first=False)"
   ]
  },
  {
   "cell_type": "code",
   "execution_count": 49,
   "metadata": {},
   "outputs": [],
   "source": [
    "recursive_ss(ds_only_client_traffic=True, fixed_rank=False, remove_zero_first=True)"
   ]
  },
  {
   "cell_type": "code",
   "execution_count": 50,
   "metadata": {},
   "outputs": [],
   "source": [
    "recursive_ss(ds_only_client_traffic=True, fixed_rank=False, remove_zero_first=False)"
   ]
  },
  {
   "cell_type": "code",
   "execution_count": 51,
   "metadata": {},
   "outputs": [],
   "source": [
    "recursive_ss(ds_only_client_traffic=False, fixed_rank=False, remove_zero_first=True)"
   ]
  },
  {
   "cell_type": "code",
   "execution_count": 52,
   "metadata": {},
   "outputs": [],
   "source": [
    "recursive_ss(ds_only_client_traffic=False, fixed_rank=False, remove_zero_first=False)"
   ]
  },
  {
   "cell_type": "markdown",
   "metadata": {},
   "source": [
    "## Prof of Awareness while Choosing the Pruning Algorithm"
   ]
  },
  {
   "cell_type": "markdown",
   "metadata": {},
   "source": [
    "Now, we just want to show the effect of choosing a wrong pruning algorithm. While for the L1-norm use case it is possible to further prune the model with a quite high pruning ratio, choosing a random pruning method will immediately make the resulting model unusable."
   ]
  },
  {
   "cell_type": "code",
   "execution_count": 53,
   "metadata": {},
   "outputs": [
    {
     "name": "stdout",
     "output_type": "stream",
     "text": [
      "Only Pruning for traffic all_c found 12 models with globally_unstructured_connections_l1\n",
      "Only Pruning for traffic all_c found 2 models with globally_unstructured_connections_random\n",
      "Only Pruning for traffic few_c found 12 models with globally_unstructured_connections_l1\n",
      "Only Pruning for traffic few_c found 2 models with globally_unstructured_connections_random\n"
     ]
    }
   ],
   "source": [
    "only_pruning(ds_only_client_traffic=False, prune_method=config.PRUNE_METHOD)\n",
    "only_pruning(ds_only_client_traffic=False, prune_method=globally_unstructured_connections_random)\n",
    "only_pruning(ds_only_client_traffic=True, prune_method=config.PRUNE_METHOD)\n",
    "only_pruning(ds_only_client_traffic=True, prune_method=globally_unstructured_connections_random)"
   ]
  },
  {
   "cell_type": "markdown",
   "metadata": {},
   "source": [
    "Look at the visualization notebook (2_1_interpret_pruning_outcome).\n",
    "\n",
    "As a result, not all the pruning randomly are the same and lead to the same result, we should use them wisely."
   ]
  },
  {
   "cell_type": "markdown",
   "metadata": {},
   "source": [
    "## Stochastic Subset Search on Client Categories with ranking computed on **Client Categories**"
   ]
  },
  {
   "cell_type": "markdown",
   "metadata": {},
   "source": [
    "First prune then stochastic search."
   ]
  },
  {
   "cell_type": "code",
   "execution_count": 59,
   "metadata": {},
   "outputs": [
    {
     "name": "stdout",
     "output_type": "stream",
     "text": [
      "Prune and the Stochastic search with algorithm globally_unstructured_connections_l1 with rank few_c and traffic few_c and Subset Size 0.1 found  -> {0.05: 60, 0.1: 57, 0.15: 59, 0.2: 53, 0.25: 68, 0.3: 51, 0.35: 45, 0.4: 51, 0.45: 48, 0.5: 44, 0.55: 36, 0.6: 28}\n",
      "Prune and the Stochastic search with algorithm globally_unstructured_connections_l1 with rank few_c and traffic few_c and Subset Size 0.3 found  -> {0.05: 100, 0.1: 97, 0.15: 99, 0.2: 99, 0.25: 97, 0.3: 92, 0.35: 88, 0.4: 95, 0.45: 97, 0.5: 95, 0.55: 92, 0.6: 67}\n",
      "Prune and the Stochastic search with algorithm globally_unstructured_connections_l1 with rank few_c and traffic few_c and Subset Size 0.5 found  -> {0.05: 100, 0.1: 100, 0.15: 100, 0.2: 100, 0.25: 100, 0.3: 100, 0.35: 100, 0.4: 100, 0.45: 100, 0.5: 100, 0.55: 100, 0.6: 100}\n",
      "Prune and the Stochastic search with algorithm globally_unstructured_connections_l1 with rank few_c and traffic few_c and Subset Size 0.8 found  -> {0.05: 100, 0.1: 100, 0.15: 100, 0.2: 100, 0.25: 100, 0.3: 100, 0.35: 100, 0.4: 100, 0.45: 100, 0.5: 100, 0.55: 100, 0.6: 100}\n"
     ]
    }
   ],
   "source": [
    "pruning_then_stochastic_search(rank_only_client_traffic=True, ds_only_client_traffic=True)"
   ]
  },
  {
   "cell_type": "markdown",
   "metadata": {},
   "source": [
    "First stochastic search then pruning."
   ]
  },
  {
   "cell_type": "code",
   "execution_count": 10,
   "metadata": {},
   "outputs": [
    {
     "name": "stdout",
     "output_type": "stream",
     "text": [
      "Stochastic search and then Pruning with algorithm globally_unstructured_connections_l1 rank few_c and traffic few_c and Subset Size 0.1 found (%prune: #accepted models) {0.05: 61, 0.1: 61, 0.15: 61, 0.2: 61, 0.25: 61, 0.3: 61, 0.35: 61, 0.4: 61, 0.45: 61, 0.5: 61, 0.55: 61, 0.6: 61}\n",
      "Stochastic search and then Pruning with algorithm globally_unstructured_connections_l1 rank few_c and traffic few_c and Subset Size 0.3 found (%prune: #accepted models) {0.05: 99, 0.1: 99, 0.15: 99, 0.2: 99, 0.25: 99, 0.3: 99, 0.35: 99, 0.4: 99, 0.45: 99, 0.5: 99, 0.55: 99, 0.6: 99}\n",
      "Stochastic search and then Pruning with algorithm globally_unstructured_connections_l1 rank few_c and traffic few_c and Subset Size 0.5 found (%prune: #accepted models) {0.05: 100, 0.1: 100, 0.15: 100, 0.2: 100, 0.25: 100, 0.3: 100, 0.35: 100, 0.4: 100, 0.45: 100, 0.5: 100, 0.55: 100, 0.6: 100}\n",
      "Stochastic search and then Pruning with algorithm globally_unstructured_connections_l1 rank few_c and traffic few_c and Subset Size 0.8 found (%prune: #accepted models) {0.05: 100, 0.1: 100, 0.15: 100, 0.2: 100, 0.25: 100, 0.3: 100, 0.35: 100, 0.4: 100, 0.45: 100, 0.5: 100, 0.55: 100, 0.6: 100}\n"
     ]
    }
   ],
   "source": [
    "stochastic_search_then_pruning(rank_only_client_traffic=True, ds_only_client_traffic=True)"
   ]
  },
  {
   "cell_type": "markdown",
   "metadata": {},
   "source": [
    "Only stochastic search."
   ]
  },
  {
   "cell_type": "code",
   "execution_count": 57,
   "metadata": {},
   "outputs": [
    {
     "name": "stdout",
     "output_type": "stream",
     "text": [
      "Only Stochastic with rank few_c and traffic few_c and Subset size ratio 0.1 found 61 models\n"
     ]
    },
    {
     "name": "stdout",
     "output_type": "stream",
     "text": [
      "Only Stochastic with rank few_c and traffic few_c and Subset size ratio 0.3 found 99 models\n",
      "Only Stochastic with rank few_c and traffic few_c and Subset size ratio 0.5 found 100 models\n",
      "Only Stochastic with rank few_c and traffic few_c and Subset size ratio 0.8 found 100 models\n"
     ]
    }
   ],
   "source": [
    "only_stochastic_search(rank_only_client_traffic=True, ds_only_client_traffic=True)"
   ]
  },
  {
   "cell_type": "markdown",
   "metadata": {},
   "source": [
    "Only pruning."
   ]
  },
  {
   "cell_type": "code",
   "execution_count": 56,
   "metadata": {},
   "outputs": [
    {
     "name": "stdout",
     "output_type": "stream",
     "text": [
      "Only Pruning for traffic few_c found 12 models with globally_unstructured_connections_l1\n"
     ]
    }
   ],
   "source": [
    "only_pruning(ds_only_client_traffic=True)"
   ]
  },
  {
   "cell_type": "markdown",
   "metadata": {},
   "source": [
    "## Stochastic Subset Search on Client Categories with ranking computed on All Traffic Categories"
   ]
  },
  {
   "cell_type": "markdown",
   "metadata": {},
   "source": [
    "First prune then stochastic search."
   ]
  },
  {
   "cell_type": "code",
   "execution_count": 60,
   "metadata": {},
   "outputs": [
    {
     "name": "stdout",
     "output_type": "stream",
     "text": [
      "Prune and the Stochastic search with algorithm globally_unstructured_connections_l1 with rank all_c and traffic few_c and Subset Size 0.1 found  -> {0.05: 34, 0.1: 31, 0.15: 33, 0.2: 29, 0.25: 32, 0.3: 36, 0.35: 35, 0.4: 27, 0.45: 24, 0.5: 22, 0.55: 21, 0.6: 16}\n",
      "Prune and the Stochastic search with algorithm globally_unstructured_connections_l1 with rank all_c and traffic few_c and Subset Size 0.3 found  -> {0.05: 82, 0.1: 79, 0.15: 82, 0.2: 81, 0.25: 71, 0.3: 67, 0.35: 57, 0.4: 77, 0.45: 66, 0.5: 67, 0.55: 46, 0.6: 27}\n",
      "Prune and the Stochastic search with algorithm globally_unstructured_connections_l1 with rank all_c and traffic few_c and Subset Size 0.5 found  -> {0.05: 100, 0.1: 99, 0.15: 100, 0.2: 100, 0.25: 99, 0.3: 99, 0.35: 100, 0.4: 100, 0.45: 96, 0.5: 97, 0.55: 84, 0.6: 49}\n",
      "Prune and the Stochastic search with algorithm globally_unstructured_connections_l1 with rank all_c and traffic few_c and Subset Size 0.8 found  -> {0.05: 100, 0.1: 100, 0.15: 100, 0.2: 100, 0.25: 100, 0.3: 100, 0.35: 100, 0.4: 100, 0.45: 100, 0.5: 100, 0.55: 100, 0.6: 100}\n"
     ]
    }
   ],
   "source": [
    "pruning_then_stochastic_search(rank_only_client_traffic=False, ds_only_client_traffic=True)"
   ]
  },
  {
   "cell_type": "markdown",
   "metadata": {},
   "source": [
    "First stochastic search then pruning."
   ]
  },
  {
   "cell_type": "code",
   "execution_count": 11,
   "metadata": {},
   "outputs": [
    {
     "name": "stdout",
     "output_type": "stream",
     "text": [
      "Stochastic search and then Pruning with algorithm globally_unstructured_connections_l1 rank all_c and traffic few_c and Subset Size 0.1 found (%prune: #accepted models) {0.05: 35, 0.1: 35, 0.15: 35, 0.2: 35, 0.25: 35, 0.3: 35, 0.35: 35, 0.4: 35, 0.45: 35, 0.5: 35, 0.55: 35, 0.6: 35}\n",
      "Stochastic search and then Pruning with algorithm globally_unstructured_connections_l1 rank all_c and traffic few_c and Subset Size 0.3 found (%prune: #accepted models) {0.05: 83, 0.1: 83, 0.15: 83, 0.2: 83, 0.25: 83, 0.3: 83, 0.35: 83, 0.4: 83, 0.45: 83, 0.5: 83, 0.55: 83, 0.6: 83}\n",
      "Stochastic search and then Pruning with algorithm globally_unstructured_connections_l1 rank all_c and traffic few_c and Subset Size 0.5 found (%prune: #accepted models) {0.05: 100, 0.1: 100, 0.15: 100, 0.2: 100, 0.25: 100, 0.3: 100, 0.35: 100, 0.4: 100, 0.45: 100, 0.5: 100, 0.55: 100, 0.6: 100}\n",
      "Stochastic search and then Pruning with algorithm globally_unstructured_connections_l1 rank all_c and traffic few_c and Subset Size 0.8 found (%prune: #accepted models) {0.05: 100, 0.1: 100, 0.15: 100, 0.2: 100, 0.25: 100, 0.3: 100, 0.35: 100, 0.4: 100, 0.45: 100, 0.5: 100, 0.55: 100, 0.6: 100}\n"
     ]
    }
   ],
   "source": [
    "stochastic_search_then_pruning(rank_only_client_traffic=False, ds_only_client_traffic=True)"
   ]
  },
  {
   "cell_type": "markdown",
   "metadata": {},
   "source": [
    "Only stochastic search."
   ]
  },
  {
   "cell_type": "code",
   "execution_count": 62,
   "metadata": {},
   "outputs": [
    {
     "name": "stdout",
     "output_type": "stream",
     "text": [
      "Only Stochastic with rank all_c and traffic few_c and Subset size ratio 0.1 found 35 models\n"
     ]
    },
    {
     "name": "stdout",
     "output_type": "stream",
     "text": [
      "Only Stochastic with rank all_c and traffic few_c and Subset size ratio 0.3 found 83 models\n",
      "Only Stochastic with rank all_c and traffic few_c and Subset size ratio 0.5 found 100 models\n",
      "Only Stochastic with rank all_c and traffic few_c and Subset size ratio 0.8 found 100 models\n"
     ]
    }
   ],
   "source": [
    "only_stochastic_search(rank_only_client_traffic=False, ds_only_client_traffic=True)"
   ]
  },
  {
   "cell_type": "markdown",
   "metadata": {},
   "source": [
    "Only pruning."
   ]
  },
  {
   "cell_type": "code",
   "execution_count": 63,
   "metadata": {},
   "outputs": [
    {
     "name": "stdout",
     "output_type": "stream",
     "text": [
      "Only Pruning for traffic few_c found 12 models with globally_unstructured_connections_l1\n"
     ]
    }
   ],
   "source": [
    "only_pruning(ds_only_client_traffic=True)"
   ]
  },
  {
   "cell_type": "markdown",
   "metadata": {},
   "source": [
    "In case you want to test a scenario in which the organization has access to all the traffic, just repeat the whole notebook setting **ds_only_client_traffic=False**.\n",
    "\n",
    "Right now, for our scenario it is not needed."
   ]
  },
  {
   "cell_type": "markdown",
   "metadata": {},
   "source": [
    "## Stochastic Subset Search on All Categories with ranking computed on All Traffic Categories"
   ]
  },
  {
   "cell_type": "markdown",
   "metadata": {},
   "source": [
    "First prune then stochastic search."
   ]
  },
  {
   "cell_type": "code",
   "execution_count": null,
   "metadata": {},
   "outputs": [],
   "source": [
    "pruning_then_stochastic_search(rank_only_client_traffic=False, ds_only_client_traffic=False)"
   ]
  },
  {
   "cell_type": "markdown",
   "metadata": {},
   "source": [
    "First stochastic search then pruning."
   ]
  },
  {
   "cell_type": "code",
   "execution_count": 12,
   "metadata": {},
   "outputs": [
    {
     "name": "stdout",
     "output_type": "stream",
     "text": [
      "Stochastic search and then Pruning with algorithm globally_unstructured_connections_l1 rank all_c and traffic all_c and Subset Size 0.1 found (%prune: #accepted models) {0.05: 27, 0.1: 27, 0.15: 27, 0.2: 27, 0.25: 27, 0.3: 27, 0.35: 27, 0.4: 27, 0.45: 27, 0.5: 27, 0.55: 27, 0.6: 27}\n",
      "Stochastic search and then Pruning with algorithm globally_unstructured_connections_l1 rank all_c and traffic all_c and Subset Size 0.3 found (%prune: #accepted models) {0.05: 94, 0.1: 94, 0.15: 94, 0.2: 94, 0.25: 94, 0.3: 94, 0.35: 94, 0.4: 94, 0.45: 94, 0.5: 94, 0.55: 94, 0.6: 94}\n",
      "Stochastic search and then Pruning with algorithm globally_unstructured_connections_l1 rank all_c and traffic all_c and Subset Size 0.5 found (%prune: #accepted models) {0.05: 100, 0.1: 100, 0.15: 100, 0.2: 100, 0.25: 100, 0.3: 100, 0.35: 100, 0.4: 100, 0.45: 100, 0.5: 100, 0.55: 100, 0.6: 100}\n",
      "Stochastic search and then Pruning with algorithm globally_unstructured_connections_l1 rank all_c and traffic all_c and Subset Size 0.8 found (%prune: #accepted models) {0.05: 100, 0.1: 100, 0.15: 100, 0.2: 100, 0.25: 100, 0.3: 100, 0.35: 100, 0.4: 100, 0.45: 100, 0.5: 100, 0.55: 100, 0.6: 100}\n"
     ]
    }
   ],
   "source": [
    "stochastic_search_then_pruning(rank_only_client_traffic=False, ds_only_client_traffic=False)"
   ]
  },
  {
   "cell_type": "markdown",
   "metadata": {},
   "source": [
    "Only stochastic search."
   ]
  },
  {
   "cell_type": "code",
   "execution_count": 65,
   "metadata": {},
   "outputs": [
    {
     "name": "stdout",
     "output_type": "stream",
     "text": [
      "Only Stochastic with rank all_c and traffic all_c and Subset size ratio 0.1 found 27 models\n",
      "Only Stochastic with rank all_c and traffic all_c and Subset size ratio 0.3 found 94 models\n",
      "Only Stochastic with rank all_c and traffic all_c and Subset size ratio 0.5 found 100 models\n",
      "Only Stochastic with rank all_c and traffic all_c and Subset size ratio 0.8 found 100 models\n"
     ]
    }
   ],
   "source": [
    "only_stochastic_search(rank_only_client_traffic=False, ds_only_client_traffic=False)"
   ]
  },
  {
   "cell_type": "markdown",
   "metadata": {},
   "source": [
    "Only pruning."
   ]
  },
  {
   "cell_type": "code",
   "execution_count": 64,
   "metadata": {},
   "outputs": [
    {
     "name": "stdout",
     "output_type": "stream",
     "text": [
      "Only Pruning for traffic all_c found 12 models with globally_unstructured_connections_l1\n"
     ]
    }
   ],
   "source": [
    "only_pruning(ds_only_client_traffic=False)"
   ]
  }
 ],
 "metadata": {
  "kernelspec": {
   "display_name": ".venv",
   "language": "python",
   "name": "python3"
  },
  "language_info": {
   "codemirror_mode": {
    "name": "ipython",
    "version": 3
   },
   "file_extension": ".py",
   "mimetype": "text/x-python",
   "name": "python",
   "nbconvert_exporter": "python",
   "pygments_lexer": "ipython3",
   "version": "3.10.12"
  }
 },
 "nbformat": 4,
 "nbformat_minor": 2
}
