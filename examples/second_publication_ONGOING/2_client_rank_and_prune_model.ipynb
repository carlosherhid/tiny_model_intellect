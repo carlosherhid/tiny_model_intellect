{
 "cells": [
  {
   "cell_type": "markdown",
   "metadata": {},
   "source": [
    "# Feature Rank, Subset Search and Model Pruning\n",
    "\n",
    "In this notebook, we leverage feature ranking algorithms to assign an importance score to each feature in the dataset.\n",
    "\n",
    "Then, we'll use that score to perform the *Stochastic Subset Search*: find smaller sub-optimal feature subsets by randomly (weighted) moving into the solution space, trying different combination of features."
   ]
  },
  {
   "cell_type": "code",
   "execution_count": 1,
   "metadata": {},
   "outputs": [],
   "source": [
    "%reload_ext autoreload\n",
    "%autoreload 2\n",
    "import pandas as pd\n",
    "import numpy as np\n",
    "import threadpoolctl\n",
    "import matplotlib as mpl\n",
    "from sklearn.metrics import accuracy_score\n",
    "\n",
    "from intellect.model.torch.model import Mlp\n",
    "from intellect.model.torch.pruning import globally_unstructured_connections_l1\n",
    "from intellect.ranking import rank_metric_permutation_sklearn, prune_and_subset_search, subset_search, prune_search, subset_search_and_prune\n",
    "from intellect.io import load, dump, create_dir, TimeoutIterator\n",
    "from intellect.inspect import set_seed\n",
    "from intellect.dataset import portions_from_data, Dataset\n",
    "\n",
    "threadpoolctl.threadpool_limits(limits=2);\n",
    "mpl.rcParams['figure.dpi']= 70\n",
    "pd.set_option(\"display.max_columns\", 100)\n",
    "pd.set_option(\"display.max_rows\", 10)"
   ]
  },
  {
   "cell_type": "code",
   "execution_count": 2,
   "metadata": {
    "tags": [
     "parameters"
    ]
   },
   "outputs": [],
   "source": [
    "# parameters\n",
    "\n",
    "# dataset, previously trained model and new output directory\n",
    "DATASET = \"./dataset_shrinked.h5\"\n",
    "TRAIN_MODEL = \"train_output/oracle.pt\"\n",
    "OUTPUT_DIR = \"rank_prune_output/\"\n",
    "\n",
    "# dataset parameters, should be equal to those in the previous step (notebook)\n",
    "BENIGN_LABELS = [\"BENIGN\"]\n",
    "DATASET_PORTIONS = (0.6, 0.1, 0.1, 0.2)\n",
    "\n",
    "# traffic categories that only this client (organization) has\n",
    "CLIENT_CATEGORIES = [\"BENIGN\", \"DDoS\"]\n",
    "\n",
    "# sizes of the feature subsets to search\n",
    "TARGET_SUBSET_RATIOS = (0.1, 0.3, 0.5, 0.8)\n",
    "# ratios of connections to be pruned from the network\n",
    "PRUNE_RATIOS = np.linspace(0.05, 1, 19, endpoint=False).round(2).tolist()\n",
    "# explored solution for each pruning/subset ratio\n",
    "EXPLORED_PER_RATIO = 100\n",
    "# maximum performance drop ratio accepted\n",
    "# in the previous notebook, we trained a network that achieves 0.97 Accuracy, so we can allow us\n",
    "# to search with a maximum drop of 25% in accuracy.\n",
    "PERFORMANCE_DROP_ACCEPTED_RATIO = 0.25"
   ]
  },
  {
   "cell_type": "markdown",
   "metadata": {},
   "source": [
    "Load the dataset. In this phase, we are interested in the finetune portion, so let's just forget the other ones."
   ]
  },
  {
   "cell_type": "code",
   "execution_count": 3,
   "metadata": {},
   "outputs": [],
   "source": [
    "def get_dataset():\n",
    "    set_seed()\n",
    "    return portions_from_data(DATASET, normalize=True, benign_labels=BENIGN_LABELS, ratios=DATASET_PORTIONS)\n",
    "_, _, finetune, _ = get_dataset()"
   ]
  },
  {
   "cell_type": "markdown",
   "metadata": {},
   "source": [
    "Now, remove unused categories from this portion, and balance samples among the remaining ones."
   ]
  },
  {
   "cell_type": "code",
   "execution_count": 4,
   "metadata": {},
   "outputs": [],
   "source": [
    "finetune_client = finetune.filter_categories(CLIENT_CATEGORIES).balance_categories()"
   ]
  },
  {
   "cell_type": "code",
   "execution_count": 5,
   "metadata": {},
   "outputs": [
    {
     "name": "stdout",
     "output_type": "stream",
     "text": [
      "Only client traffic 0.980980980980981 -> 0.7357357357357357\n",
      "All traffic 0.9707572027126258 -> 0.7280679020344694\n"
     ]
    }
   ],
   "source": [
    "oracle = Mlp.load(TRAIN_MODEL)\n",
    "baseline_all = accuracy_score(finetune.y, oracle.predict(finetune.X))\n",
    "baseline_client = accuracy_score(finetune_client.y, oracle.predict(finetune_client.X))\n",
    "print(\"Only client traffic\", baseline_client, \"->\", baseline_client * (1 - PERFORMANCE_DROP_ACCEPTED_RATIO))\n",
    "print(\"All traffic\", baseline_all, \"->\", baseline_all * (1 - PERFORMANCE_DROP_ACCEPTED_RATIO))"
   ]
  },
  {
   "cell_type": "markdown",
   "metadata": {},
   "source": [
    "Define few utility functions for Stochastic Subset Search."
   ]
  },
  {
   "cell_type": "code",
   "execution_count": 6,
   "metadata": {},
   "outputs": [],
   "source": [
    "def only_pruning(ds_only_client_traffic: bool = True):\n",
    "    ds = finetune_client if ds_only_client_traffic else finetune\n",
    "    traffic_prefix = \"few_c\" if ds_only_client_traffic else \"all_c\"\n",
    "    set_seed()\n",
    "    all_accepted = {i: v for i, v, j in TimeoutIterator(prune_search(\n",
    "        oracle, ds, globally_unstructured_connections_l1, PRUNE_RATIOS,\n",
    "        metric=accuracy_score, performance_drop_ratio=PERFORMANCE_DROP_ACCEPTED_RATIO), time_limit=60)\n",
    "        if j is True}\n",
    "    new_df_comb = pd.DataFrame(columns=[\"Accuracy\", \"Prune Ratio\"])\n",
    "    for k, v in all_accepted.items():\n",
    "        new_df_comb.loc[len(new_df_comb)] = [v, k]\n",
    "    new_df_comb = new_df_comb.sort_values(by=\"Accuracy\", ascending=False)\n",
    "    dump(new_df_comb, OUTPUT_DIR + f\"traffic_{traffic_prefix}_pruning_ratios_only.csv\")\n",
    "    print(f\"Only Pruning for traffic {traffic_prefix} found {len(new_df_comb)} models\")\n",
    "\n",
    "def only_stochastic_search(rank_only_client_traffic: bool = True, ds_only_client_traffic: bool = True):\n",
    "    ds = finetune_client if ds_only_client_traffic else finetune\n",
    "    rank_prefix = \"few_c\" if rank_only_client_traffic else \"all_c\"\n",
    "    traffic_prefix = \"few_c\" if ds_only_client_traffic else \"all_c\"\n",
    "    df_rank: pd.DataFrame = load(OUTPUT_DIR + f\"rank_{rank_prefix}.csv\", index_col=0)\n",
    "    rank = df_rank[\"importance\"].to_dict()\n",
    "\n",
    "    for subset_size_ratio in TARGET_SUBSET_RATIOS:\n",
    "        set_seed()\n",
    "        all_accepted = {i: v for i, v, j in TimeoutIterator(subset_search(\n",
    "            oracle, ds, subset_size_ratio, EXPLORED_PER_RATIO,\n",
    "            rank=rank, metric=accuracy_score, performance_drop_ratio=PERFORMANCE_DROP_ACCEPTED_RATIO), time_limit=60)\n",
    "            if j is True}\n",
    "        new_df_comb = pd.DataFrame(columns=[\"Accuracy\"] + df_rank.index.values.tolist())\n",
    "        for k, v in all_accepted.items():\n",
    "            copied = df_rank.T.loc[\"importance\"].copy()\n",
    "            copied[~copied.index.isin(k)] = np.nan\n",
    "            copied[copied.index.isin(k)] = 1\n",
    "            copied[\"Accuracy\"] = v\n",
    "            new_df_comb.loc[len(new_df_comb)] = copied\n",
    "        new_df_comb = new_df_comb.sort_values(by=\"Accuracy\", ascending=False)\n",
    "        dump(new_df_comb, OUTPUT_DIR + f\"rank_{rank_prefix}_traffic_{traffic_prefix}_subsets_features_for_subsetsize_{subset_size_ratio}.csv\")\n",
    "        print(f\"Only Stochastic with rank {rank_prefix} and traffic {traffic_prefix} and Subset size ratio {subset_size_ratio} found {len(new_df_comb)} models\")\n",
    "\n",
    "def stochastic_search_then_pruning(rank_only_client_traffic: bool = True, ds_only_client_traffic: bool = True):\n",
    "    ds = finetune_client if ds_only_client_traffic else finetune\n",
    "    rank_prefix = \"few_c\" if rank_only_client_traffic else \"all_c\"\n",
    "    traffic_prefix = \"few_c\" if ds_only_client_traffic else \"all_c\"\n",
    "    df_rank: pd.DataFrame = load(OUTPUT_DIR + f\"rank_{rank_prefix}.csv\", index_col=0)\n",
    "    rank = df_rank[\"importance\"].to_dict()\n",
    "\n",
    "    for subset_size_ratio in TARGET_SUBSET_RATIOS:\n",
    "        set_seed()\n",
    "        new_df_comb = pd.DataFrame(columns=[\"Accuracy\", \"Prune Ratio\"] + df_rank.index.values.tolist())\n",
    "        for k, v, prune_ratio in TimeoutIterator(subset_search_and_prune(\n",
    "                oracle,globally_unstructured_connections_l1, ds, PRUNE_RATIOS, subset_size_ratio, EXPLORED_PER_RATIO,\n",
    "                rank=rank, metric=accuracy_score, performance_drop_ratio=PERFORMANCE_DROP_ACCEPTED_RATIO), time_limit=60):\n",
    "            copied = df_rank.T.loc[\"importance\"].copy()\n",
    "            copied[~copied.index.isin(k)] = np.nan\n",
    "            copied[copied.index.isin(k)] = 1\n",
    "            copied[\"Prune Ratio\"] = prune_ratio\n",
    "            copied[\"Accuracy\"] = v\n",
    "            new_df_comb.loc[len(new_df_comb)] = copied\n",
    "        new_df_comb = new_df_comb.sort_values(by=\"Accuracy\", ascending=False)\n",
    "        dump(new_df_comb, OUTPUT_DIR + f\"rank_{rank_prefix}_traffic_{traffic_prefix}_combo_subsets_features_pruned_models_for_subsetsize_{subset_size_ratio}.csv\")\n",
    "        print(f\"Stochastic search and then Pruning with rank {rank_prefix} and traffic {traffic_prefix} and Subset Size {subset_size_ratio} found (%prune: #accepted models)\", new_df_comb[\"Prune Ratio\"].value_counts().sort_index().to_dict())\n",
    "\n",
    "def pruning_then_stochastic_search(rank_only_client_traffic: bool = True, ds_only_client_traffic: bool = True):\n",
    "    ds = finetune_client if ds_only_client_traffic else finetune\n",
    "    rank_prefix = \"few_c\" if rank_only_client_traffic else \"all_c\"\n",
    "    traffic_prefix = \"few_c\" if ds_only_client_traffic else \"all_c\"\n",
    "    df_rank: pd.DataFrame = load(OUTPUT_DIR + f\"rank_{rank_prefix}.csv\", index_col=0)\n",
    "    rank = df_rank[\"importance\"].to_dict()\n",
    "\n",
    "    for subset_size_ratio in TARGET_SUBSET_RATIOS:\n",
    "        set_seed()\n",
    "        all_accepted = {i: v for i, v in TimeoutIterator(prune_and_subset_search(\n",
    "            oracle,globally_unstructured_connections_l1, ds, PRUNE_RATIOS, subset_size_ratio, EXPLORED_PER_RATIO,\n",
    "            rank=rank, metric=accuracy_score, performance_drop_ratio=PERFORMANCE_DROP_ACCEPTED_RATIO), time_limit=60)}\n",
    "        new_df_comb = pd.DataFrame(columns=[\"Accuracy\", \"Prune Ratio\"] + df_rank.index.values.tolist())\n",
    "        for prune_ratio, per_prune_ratio_accepted in all_accepted.items():\n",
    "            for k, v in per_prune_ratio_accepted.items():\n",
    "                copied = df_rank.T.loc[\"importance\"].copy()\n",
    "                copied[~copied.index.isin(k)] = np.nan\n",
    "                copied[copied.index.isin(k)] = 1\n",
    "                copied[\"Prune Ratio\"] = prune_ratio\n",
    "                copied[\"Accuracy\"] = v\n",
    "                new_df_comb.loc[len(new_df_comb)] = copied\n",
    "        new_df_comb = new_df_comb.sort_values(by=\"Accuracy\", ascending=False)\n",
    "        dump(new_df_comb, OUTPUT_DIR + f\"rank_{rank_prefix}_traffic_{traffic_prefix}_combo_pruned_models_subsets_features_for_subsetsize_{subset_size_ratio}.csv\")\n",
    "        print(f\"Prune and the Stochastic search with rank {rank_prefix} and traffic {traffic_prefix} and Subset Size {subset_size_ratio} found  ->\", new_df_comb[\"Prune Ratio\"].value_counts().sort_index().to_dict())"
   ]
  },
  {
   "cell_type": "code",
   "execution_count": 12,
   "metadata": {},
   "outputs": [],
   "source": [
    "create_dir(OUTPUT_DIR)"
   ]
  },
  {
   "cell_type": "markdown",
   "metadata": {},
   "source": [
    "## Feature ranking"
   ]
  },
  {
   "cell_type": "markdown",
   "metadata": {},
   "source": [
    "Scenario in which the ranking process is performed only on the specific traffic categories of the organization."
   ]
  },
  {
   "cell_type": "code",
   "execution_count": 8,
   "metadata": {},
   "outputs": [
    {
     "data": {
      "text/html": [
       "<div>\n",
       "<style scoped>\n",
       "    .dataframe tbody tr th:only-of-type {\n",
       "        vertical-align: middle;\n",
       "    }\n",
       "\n",
       "    .dataframe tbody tr th {\n",
       "        vertical-align: top;\n",
       "    }\n",
       "\n",
       "    .dataframe thead th {\n",
       "        text-align: right;\n",
       "    }\n",
       "</style>\n",
       "<table border=\"1\" class=\"dataframe\">\n",
       "  <thead>\n",
       "    <tr style=\"text-align: right;\">\n",
       "      <th></th>\n",
       "      <th>Average Packet Size</th>\n",
       "      <th>Bwd Packet Length Std</th>\n",
       "      <th>Packet Length Variance</th>\n",
       "      <th>ACK Flag Count</th>\n",
       "      <th>Bwd Packet Length Min</th>\n",
       "      <th>PSH Flag Count</th>\n",
       "      <th>Avg Bwd Segment Size</th>\n",
       "      <th>Bwd Packet Length Mean</th>\n",
       "      <th>Packet Length Mean</th>\n",
       "      <th>Packet Length Std</th>\n",
       "      <th>Down/Up Ratio</th>\n",
       "      <th>Max Packet Length</th>\n",
       "      <th>Bwd Packet Length Max</th>\n",
       "      <th>Fwd IAT Max</th>\n",
       "      <th>Init_Win_bytes_forward</th>\n",
       "      <th>Bwd IAT Total</th>\n",
       "      <th>Idle Max</th>\n",
       "      <th>Idle Mean</th>\n",
       "      <th>Flow IAT Max</th>\n",
       "      <th>Flow IAT Std</th>\n",
       "      <th>Idle Min</th>\n",
       "      <th>Fwd IAT Total</th>\n",
       "      <th>Fwd Packet Length Std</th>\n",
       "      <th>URG Flag Count</th>\n",
       "      <th>Init_Win_bytes_backward</th>\n",
       "      <th>Fwd IAT Std</th>\n",
       "      <th>Idle Std</th>\n",
       "      <th>Fwd Packets/s</th>\n",
       "      <th>Fwd Packet Length Max</th>\n",
       "      <th>Fwd IAT Mean</th>\n",
       "      <th>Bwd IAT Max</th>\n",
       "      <th>SYN Flag Count</th>\n",
       "      <th>Bwd IAT Min</th>\n",
       "      <th>Fwd PSH Flags</th>\n",
       "      <th>Bwd Packets/s</th>\n",
       "      <th>Flow IAT Mean</th>\n",
       "      <th>Fwd Packet Length Min</th>\n",
       "      <th>Min Packet Length</th>\n",
       "      <th>Fwd IAT Min</th>\n",
       "      <th>Bwd IAT Std</th>\n",
       "      <th>Bwd IAT Mean</th>\n",
       "      <th>Fwd Packet Length Mean</th>\n",
       "      <th>FIN Flag Count</th>\n",
       "      <th>RST Flag Count</th>\n",
       "      <th>CWE Flag Count</th>\n",
       "      <th>Active Min</th>\n",
       "      <th>Active Max</th>\n",
       "      <th>Flow Packets/s</th>\n",
       "      <th>Flow Bytes/s</th>\n",
       "      <th>Active Std</th>\n",
       "      <th>Active Mean</th>\n",
       "      <th>Total Length of Bwd Packets</th>\n",
       "      <th>Total Length of Fwd Packets</th>\n",
       "      <th>min_seg_size_forward</th>\n",
       "      <th>ECE Flag Count</th>\n",
       "      <th>act_data_pkt_fwd</th>\n",
       "      <th>Subflow Bwd Bytes</th>\n",
       "      <th>Subflow Fwd Bytes</th>\n",
       "      <th>Fwd URG Flags</th>\n",
       "      <th>Flow IAT Min</th>\n",
       "      <th>Total Backward Packets</th>\n",
       "      <th>Bwd Header Length</th>\n",
       "      <th>Fwd Header Length</th>\n",
       "      <th>Total Fwd Packets</th>\n",
       "    </tr>\n",
       "  </thead>\n",
       "  <tbody>\n",
       "    <tr>\n",
       "      <th>importance</th>\n",
       "      <td>0.220721</td>\n",
       "      <td>0.184885</td>\n",
       "      <td>0.173073</td>\n",
       "      <td>0.102402</td>\n",
       "      <td>0.076577</td>\n",
       "      <td>0.072172</td>\n",
       "      <td>0.071672</td>\n",
       "      <td>0.071371</td>\n",
       "      <td>0.064364</td>\n",
       "      <td>0.06036</td>\n",
       "      <td>0.059459</td>\n",
       "      <td>0.058358</td>\n",
       "      <td>0.054254</td>\n",
       "      <td>0.036837</td>\n",
       "      <td>0.036336</td>\n",
       "      <td>0.032833</td>\n",
       "      <td>0.02963</td>\n",
       "      <td>0.025926</td>\n",
       "      <td>0.025826</td>\n",
       "      <td>0.024525</td>\n",
       "      <td>0.020621</td>\n",
       "      <td>0.019219</td>\n",
       "      <td>0.018819</td>\n",
       "      <td>0.018619</td>\n",
       "      <td>0.014715</td>\n",
       "      <td>0.011912</td>\n",
       "      <td>0.011011</td>\n",
       "      <td>0.008208</td>\n",
       "      <td>0.008208</td>\n",
       "      <td>0.007708</td>\n",
       "      <td>0.007307</td>\n",
       "      <td>0.006406</td>\n",
       "      <td>0.004004</td>\n",
       "      <td>0.003504</td>\n",
       "      <td>0.003203</td>\n",
       "      <td>0.002703</td>\n",
       "      <td>0.002402</td>\n",
       "      <td>0.002302</td>\n",
       "      <td>0.002102</td>\n",
       "      <td>0.002002</td>\n",
       "      <td>0.001702</td>\n",
       "      <td>0.001401</td>\n",
       "      <td>0.001301</td>\n",
       "      <td>0.000601</td>\n",
       "      <td>0.0003</td>\n",
       "      <td>0.0002</td>\n",
       "      <td>0.0001</td>\n",
       "      <td>0.0001</td>\n",
       "      <td>0.0001</td>\n",
       "      <td>0.0001</td>\n",
       "      <td>0.0001</td>\n",
       "      <td>0.0</td>\n",
       "      <td>0.0</td>\n",
       "      <td>0.0</td>\n",
       "      <td>0.0</td>\n",
       "      <td>0.0</td>\n",
       "      <td>0.0</td>\n",
       "      <td>0.0</td>\n",
       "      <td>0.0</td>\n",
       "      <td>0.0</td>\n",
       "      <td>0.0</td>\n",
       "      <td>0.0</td>\n",
       "      <td>0.0</td>\n",
       "      <td>0.0</td>\n",
       "    </tr>\n",
       "  </tbody>\n",
       "</table>\n",
       "</div>"
      ],
      "text/plain": [
       "            Average Packet Size  Bwd Packet Length Std  \\\n",
       "importance             0.220721               0.184885   \n",
       "\n",
       "            Packet Length Variance  ACK Flag Count  Bwd Packet Length Min  \\\n",
       "importance                0.173073        0.102402               0.076577   \n",
       "\n",
       "            PSH Flag Count  Avg Bwd Segment Size  Bwd Packet Length Mean  \\\n",
       "importance        0.072172              0.071672                0.071371   \n",
       "\n",
       "            Packet Length Mean  Packet Length Std  Down/Up Ratio  \\\n",
       "importance            0.064364            0.06036       0.059459   \n",
       "\n",
       "            Max Packet Length  Bwd Packet Length Max  Fwd IAT Max  \\\n",
       "importance           0.058358               0.054254     0.036837   \n",
       "\n",
       "            Init_Win_bytes_forward  Bwd IAT Total  Idle Max  Idle Mean  \\\n",
       "importance                0.036336       0.032833   0.02963   0.025926   \n",
       "\n",
       "            Flow IAT Max  Flow IAT Std  Idle Min  Fwd IAT Total  \\\n",
       "importance      0.025826      0.024525  0.020621       0.019219   \n",
       "\n",
       "            Fwd Packet Length Std  URG Flag Count  Init_Win_bytes_backward  \\\n",
       "importance               0.018819        0.018619                 0.014715   \n",
       "\n",
       "            Fwd IAT Std  Idle Std  Fwd Packets/s  Fwd Packet Length Max  \\\n",
       "importance     0.011912  0.011011       0.008208               0.008208   \n",
       "\n",
       "            Fwd IAT Mean  Bwd IAT Max  SYN Flag Count  Bwd IAT Min  \\\n",
       "importance      0.007708     0.007307        0.006406     0.004004   \n",
       "\n",
       "            Fwd PSH Flags  Bwd Packets/s  Flow IAT Mean  \\\n",
       "importance       0.003504       0.003203       0.002703   \n",
       "\n",
       "            Fwd Packet Length Min  Min Packet Length  Fwd IAT Min  \\\n",
       "importance               0.002402           0.002302     0.002102   \n",
       "\n",
       "            Bwd IAT Std  Bwd IAT Mean  Fwd Packet Length Mean  FIN Flag Count  \\\n",
       "importance     0.002002      0.001702                0.001401        0.001301   \n",
       "\n",
       "            RST Flag Count  CWE Flag Count  Active Min  Active Max  \\\n",
       "importance        0.000601          0.0003      0.0002      0.0001   \n",
       "\n",
       "            Flow Packets/s  Flow Bytes/s  Active Std  Active Mean  \\\n",
       "importance          0.0001        0.0001      0.0001       0.0001   \n",
       "\n",
       "            Total Length of Bwd Packets  Total Length of Fwd Packets  \\\n",
       "importance                          0.0                          0.0   \n",
       "\n",
       "            min_seg_size_forward  ECE Flag Count  act_data_pkt_fwd  \\\n",
       "importance                   0.0             0.0               0.0   \n",
       "\n",
       "            Subflow Bwd Bytes  Subflow Fwd Bytes  Fwd URG Flags  Flow IAT Min  \\\n",
       "importance                0.0                0.0            0.0           0.0   \n",
       "\n",
       "            Total Backward Packets  Bwd Header Length  Fwd Header Length  \\\n",
       "importance                     0.0                0.0                0.0   \n",
       "\n",
       "            Total Fwd Packets  \n",
       "importance                0.0  "
      ]
     },
     "execution_count": 8,
     "metadata": {},
     "output_type": "execute_result"
    }
   ],
   "source": [
    "set_seed()\n",
    "rank = rank_metric_permutation_sklearn(oracle, finetune_client)\n",
    "df = pd.DataFrame({\"importance\": rank.values()}, index=rank.keys()).sort_values(\"importance\", ascending=False)\n",
    "dump(df, OUTPUT_DIR + \"rank_few_c.csv\")\n",
    "df.transpose()"
   ]
  },
  {
   "cell_type": "markdown",
   "metadata": {},
   "source": [
    "Scenario in which the ranking process includes all the traffic from all possible organizations. In a real scenario, the Federated Learning service provider can potentially asks to each\n",
    "organization to compute the ranking on their traffic and then aggregate. Another alternative would be to ask for a small anonymized portion of data and compute it."
   ]
  },
  {
   "cell_type": "code",
   "execution_count": 9,
   "metadata": {},
   "outputs": [
    {
     "data": {
      "text/html": [
       "<div>\n",
       "<style scoped>\n",
       "    .dataframe tbody tr th:only-of-type {\n",
       "        vertical-align: middle;\n",
       "    }\n",
       "\n",
       "    .dataframe tbody tr th {\n",
       "        vertical-align: top;\n",
       "    }\n",
       "\n",
       "    .dataframe thead th {\n",
       "        text-align: right;\n",
       "    }\n",
       "</style>\n",
       "<table border=\"1\" class=\"dataframe\">\n",
       "  <thead>\n",
       "    <tr style=\"text-align: right;\">\n",
       "      <th></th>\n",
       "      <th>Average Packet Size</th>\n",
       "      <th>Init_Win_bytes_forward</th>\n",
       "      <th>PSH Flag Count</th>\n",
       "      <th>Bwd Packet Length Std</th>\n",
       "      <th>Min Packet Length</th>\n",
       "      <th>Bwd Packet Length Min</th>\n",
       "      <th>Fwd Packet Length Min</th>\n",
       "      <th>Bwd IAT Total</th>\n",
       "      <th>Down/Up Ratio</th>\n",
       "      <th>ACK Flag Count</th>\n",
       "      <th>URG Flag Count</th>\n",
       "      <th>Avg Bwd Segment Size</th>\n",
       "      <th>Bwd Packet Length Mean</th>\n",
       "      <th>Bwd IAT Max</th>\n",
       "      <th>Init_Win_bytes_backward</th>\n",
       "      <th>Fwd Packets/s</th>\n",
       "      <th>Packet Length Mean</th>\n",
       "      <th>Flow IAT Std</th>\n",
       "      <th>Packet Length Variance</th>\n",
       "      <th>Flow IAT Max</th>\n",
       "      <th>Idle Max</th>\n",
       "      <th>Fwd Packet Length Max</th>\n",
       "      <th>Fwd Packet Length Mean</th>\n",
       "      <th>Flow Bytes/s</th>\n",
       "      <th>Idle Min</th>\n",
       "      <th>Fwd IAT Min</th>\n",
       "      <th>Fwd Packet Length Std</th>\n",
       "      <th>Bwd IAT Std</th>\n",
       "      <th>Fwd IAT Max</th>\n",
       "      <th>Idle Mean</th>\n",
       "      <th>Packet Length Std</th>\n",
       "      <th>Fwd PSH Flags</th>\n",
       "      <th>Bwd IAT Mean</th>\n",
       "      <th>Fwd IAT Total</th>\n",
       "      <th>Fwd IAT Std</th>\n",
       "      <th>SYN Flag Count</th>\n",
       "      <th>Fwd IAT Mean</th>\n",
       "      <th>Max Packet Length</th>\n",
       "      <th>Flow IAT Mean</th>\n",
       "      <th>Bwd Packet Length Max</th>\n",
       "      <th>Flow IAT Min</th>\n",
       "      <th>Bwd IAT Min</th>\n",
       "      <th>FIN Flag Count</th>\n",
       "      <th>Bwd Packets/s</th>\n",
       "      <th>RST Flag Count</th>\n",
       "      <th>Idle Std</th>\n",
       "      <th>Flow Packets/s</th>\n",
       "      <th>CWE Flag Count</th>\n",
       "      <th>Subflow Fwd Bytes</th>\n",
       "      <th>Total Length of Fwd Packets</th>\n",
       "      <th>Active Std</th>\n",
       "      <th>Active Max</th>\n",
       "      <th>Active Min</th>\n",
       "      <th>Active Mean</th>\n",
       "      <th>ECE Flag Count</th>\n",
       "      <th>min_seg_size_forward</th>\n",
       "      <th>Total Backward Packets</th>\n",
       "      <th>Subflow Bwd Bytes</th>\n",
       "      <th>Total Length of Bwd Packets</th>\n",
       "      <th>act_data_pkt_fwd</th>\n",
       "      <th>Fwd URG Flags</th>\n",
       "      <th>Total Fwd Packets</th>\n",
       "      <th>Fwd Header Length</th>\n",
       "      <th>Bwd Header Length</th>\n",
       "    </tr>\n",
       "  </thead>\n",
       "  <tbody>\n",
       "    <tr>\n",
       "      <th>importance</th>\n",
       "      <td>0.240292</td>\n",
       "      <td>0.094748</td>\n",
       "      <td>0.0728</td>\n",
       "      <td>0.064027</td>\n",
       "      <td>0.05811</td>\n",
       "      <td>0.05589</td>\n",
       "      <td>0.051099</td>\n",
       "      <td>0.047475</td>\n",
       "      <td>0.037221</td>\n",
       "      <td>0.033666</td>\n",
       "      <td>0.032582</td>\n",
       "      <td>0.026962</td>\n",
       "      <td>0.026699</td>\n",
       "      <td>0.023088</td>\n",
       "      <td>0.021692</td>\n",
       "      <td>0.020889</td>\n",
       "      <td>0.020263</td>\n",
       "      <td>0.01844</td>\n",
       "      <td>0.018064</td>\n",
       "      <td>0.017045</td>\n",
       "      <td>0.016794</td>\n",
       "      <td>0.015338</td>\n",
       "      <td>0.014911</td>\n",
       "      <td>0.014695</td>\n",
       "      <td>0.013688</td>\n",
       "      <td>0.012868</td>\n",
       "      <td>0.012747</td>\n",
       "      <td>0.012578</td>\n",
       "      <td>0.012181</td>\n",
       "      <td>0.011943</td>\n",
       "      <td>0.009658</td>\n",
       "      <td>0.009196</td>\n",
       "      <td>0.007848</td>\n",
       "      <td>0.007753</td>\n",
       "      <td>0.007676</td>\n",
       "      <td>0.007658</td>\n",
       "      <td>0.007594</td>\n",
       "      <td>0.007002</td>\n",
       "      <td>0.006579</td>\n",
       "      <td>0.005991</td>\n",
       "      <td>0.005754</td>\n",
       "      <td>0.005261</td>\n",
       "      <td>0.004522</td>\n",
       "      <td>0.002739</td>\n",
       "      <td>0.00146</td>\n",
       "      <td>0.000713</td>\n",
       "      <td>0.000691</td>\n",
       "      <td>0.000657</td>\n",
       "      <td>0.000397</td>\n",
       "      <td>0.000397</td>\n",
       "      <td>0.000393</td>\n",
       "      <td>0.000289</td>\n",
       "      <td>0.000276</td>\n",
       "      <td>0.000095</td>\n",
       "      <td>0.000073</td>\n",
       "      <td>0.000069</td>\n",
       "      <td>0.00003</td>\n",
       "      <td>0.000017</td>\n",
       "      <td>0.000017</td>\n",
       "      <td>0.000013</td>\n",
       "      <td>0.000009</td>\n",
       "      <td>0.000004</td>\n",
       "      <td>0.0</td>\n",
       "      <td>0.0</td>\n",
       "    </tr>\n",
       "  </tbody>\n",
       "</table>\n",
       "</div>"
      ],
      "text/plain": [
       "            Average Packet Size  Init_Win_bytes_forward  PSH Flag Count  \\\n",
       "importance             0.240292                0.094748          0.0728   \n",
       "\n",
       "            Bwd Packet Length Std  Min Packet Length  Bwd Packet Length Min  \\\n",
       "importance               0.064027            0.05811                0.05589   \n",
       "\n",
       "            Fwd Packet Length Min  Bwd IAT Total  Down/Up Ratio  \\\n",
       "importance               0.051099       0.047475       0.037221   \n",
       "\n",
       "            ACK Flag Count  URG Flag Count  Avg Bwd Segment Size  \\\n",
       "importance        0.033666        0.032582              0.026962   \n",
       "\n",
       "            Bwd Packet Length Mean  Bwd IAT Max  Init_Win_bytes_backward  \\\n",
       "importance                0.026699     0.023088                 0.021692   \n",
       "\n",
       "            Fwd Packets/s  Packet Length Mean  Flow IAT Std  \\\n",
       "importance       0.020889            0.020263       0.01844   \n",
       "\n",
       "            Packet Length Variance  Flow IAT Max  Idle Max  \\\n",
       "importance                0.018064      0.017045  0.016794   \n",
       "\n",
       "            Fwd Packet Length Max  Fwd Packet Length Mean  Flow Bytes/s  \\\n",
       "importance               0.015338                0.014911      0.014695   \n",
       "\n",
       "            Idle Min  Fwd IAT Min  Fwd Packet Length Std  Bwd IAT Std  \\\n",
       "importance  0.013688     0.012868               0.012747     0.012578   \n",
       "\n",
       "            Fwd IAT Max  Idle Mean  Packet Length Std  Fwd PSH Flags  \\\n",
       "importance     0.012181   0.011943           0.009658       0.009196   \n",
       "\n",
       "            Bwd IAT Mean  Fwd IAT Total  Fwd IAT Std  SYN Flag Count  \\\n",
       "importance      0.007848       0.007753     0.007676        0.007658   \n",
       "\n",
       "            Fwd IAT Mean  Max Packet Length  Flow IAT Mean  \\\n",
       "importance      0.007594           0.007002       0.006579   \n",
       "\n",
       "            Bwd Packet Length Max  Flow IAT Min  Bwd IAT Min  FIN Flag Count  \\\n",
       "importance               0.005991      0.005754     0.005261        0.004522   \n",
       "\n",
       "            Bwd Packets/s  RST Flag Count  Idle Std  Flow Packets/s  \\\n",
       "importance       0.002739         0.00146  0.000713        0.000691   \n",
       "\n",
       "            CWE Flag Count  Subflow Fwd Bytes  Total Length of Fwd Packets  \\\n",
       "importance        0.000657           0.000397                     0.000397   \n",
       "\n",
       "            Active Std  Active Max  Active Min  Active Mean  ECE Flag Count  \\\n",
       "importance    0.000393    0.000289    0.000276     0.000095        0.000073   \n",
       "\n",
       "            min_seg_size_forward  Total Backward Packets  Subflow Bwd Bytes  \\\n",
       "importance              0.000069                 0.00003           0.000017   \n",
       "\n",
       "            Total Length of Bwd Packets  act_data_pkt_fwd  Fwd URG Flags  \\\n",
       "importance                     0.000017          0.000013       0.000009   \n",
       "\n",
       "            Total Fwd Packets  Fwd Header Length  Bwd Header Length  \n",
       "importance           0.000004                0.0                0.0  "
      ]
     },
     "execution_count": 9,
     "metadata": {},
     "output_type": "execute_result"
    }
   ],
   "source": [
    "set_seed()\n",
    "rank = rank_metric_permutation_sklearn(oracle, finetune)\n",
    "df = pd.DataFrame({\"importance\": rank.values()}, index=rank.keys()).sort_values(\"importance\", ascending=False)\n",
    "dump(df, OUTPUT_DIR + \"rank_all_c.csv\")\n",
    "df.transpose()"
   ]
  },
  {
   "cell_type": "markdown",
   "metadata": {},
   "source": [
    "We notice that the feature importance changes significantly, as in the first case the importance refers to only the BENIGN and DDoS traffic, while in the latter all the categories are kept in the loop."
   ]
  },
  {
   "cell_type": "markdown",
   "metadata": {},
   "source": [
    "## Stochastic Subset Search on Client Categories with ranking computed on **Client Categories**"
   ]
  },
  {
   "cell_type": "markdown",
   "metadata": {},
   "source": [
    "First prune then stochastic search."
   ]
  },
  {
   "cell_type": "code",
   "execution_count": 23,
   "metadata": {},
   "outputs": [
    {
     "name": "stdout",
     "output_type": "stream",
     "text": [
      "Prune and the Stochastic search with rank few_c and traffic few_c and Subset Size 0.1 found  -> {0.05: 18, 0.1: 22, 0.15: 21, 0.2: 18, 0.25: 22, 0.3: 11, 0.35: 11, 0.4: 23, 0.45: 20, 0.5: 31, 0.55: 33, 0.6: 28, 0.65: 38, 0.7: 46, 0.75: 47, 0.8: 31}\n",
      "Prune and the Stochastic search with rank few_c and traffic few_c and Subset Size 0.3 found  -> {0.05: 100, 0.1: 96, 0.15: 97, 0.2: 84, 0.25: 88, 0.3: 83, 0.35: 69, 0.4: 90, 0.45: 91, 0.5: 96, 0.55: 99, 0.6: 96, 0.65: 96, 0.7: 99, 0.75: 91, 0.8: 92}\n",
      "Prune and the Stochastic search with rank few_c and traffic few_c and Subset Size 0.5 found  -> {0.05: 100, 0.1: 100, 0.15: 100, 0.2: 100, 0.25: 100, 0.3: 100, 0.35: 100, 0.4: 100, 0.45: 100, 0.5: 100, 0.55: 100, 0.6: 100, 0.65: 100, 0.7: 100, 0.75: 100, 0.8: 100}\n",
      "Prune and the Stochastic search with rank few_c and traffic few_c and Subset Size 0.8 found  -> {0.05: 100, 0.1: 100, 0.15: 100, 0.2: 100, 0.25: 100, 0.3: 100, 0.35: 100, 0.4: 100, 0.45: 100, 0.5: 100, 0.55: 100, 0.6: 100, 0.65: 100, 0.7: 100, 0.75: 100, 0.8: 100}\n"
     ]
    }
   ],
   "source": [
    "pruning_then_stochastic_search(rank_only_client_traffic=True, ds_only_client_traffic=True)"
   ]
  },
  {
   "cell_type": "markdown",
   "metadata": {},
   "source": [
    "First stochastic search then pruning."
   ]
  },
  {
   "cell_type": "code",
   "execution_count": 7,
   "metadata": {},
   "outputs": [
    {
     "name": "stdout",
     "output_type": "stream",
     "text": [
      "Stochastic search and then Pruning with rank few_c and traffic few_c and Subset Size 0.1 found (%prune: #accepted models) {0.05: 18, 0.1: 18, 0.15: 18, 0.2: 18, 0.25: 18, 0.3: 18, 0.35: 18, 0.4: 18, 0.45: 18, 0.5: 18, 0.55: 18, 0.6: 18, 0.65: 18, 0.7: 18, 0.75: 18, 0.8: 18}\n",
      "Stochastic search and then Pruning with rank few_c and traffic few_c and Subset Size 0.3 found (%prune: #accepted models) {0.05: 100, 0.1: 100, 0.15: 100, 0.2: 100, 0.25: 100, 0.3: 100, 0.35: 100, 0.4: 100, 0.45: 100, 0.5: 100, 0.55: 100, 0.6: 100, 0.65: 100, 0.7: 100, 0.75: 100, 0.8: 100}\n",
      "Stochastic search and then Pruning with rank few_c and traffic few_c and Subset Size 0.5 found (%prune: #accepted models) {0.05: 100, 0.1: 100, 0.15: 100, 0.2: 100, 0.25: 100, 0.3: 100, 0.35: 100, 0.4: 100, 0.45: 100, 0.5: 100, 0.55: 100, 0.6: 100, 0.65: 100, 0.7: 100, 0.75: 100, 0.8: 100}\n",
      "Stochastic search and then Pruning with rank few_c and traffic few_c and Subset Size 0.8 found (%prune: #accepted models) {0.05: 100, 0.1: 100, 0.15: 100, 0.2: 100, 0.25: 100, 0.3: 100, 0.35: 100, 0.4: 100, 0.45: 100, 0.5: 100, 0.55: 100, 0.6: 100, 0.65: 100, 0.7: 100, 0.75: 100, 0.8: 100}\n"
     ]
    }
   ],
   "source": [
    "stochastic_search_then_pruning(rank_only_client_traffic=True, ds_only_client_traffic=True)"
   ]
  },
  {
   "cell_type": "markdown",
   "metadata": {},
   "source": [
    "Only stochastic search."
   ]
  },
  {
   "cell_type": "code",
   "execution_count": 8,
   "metadata": {},
   "outputs": [
    {
     "name": "stdout",
     "output_type": "stream",
     "text": [
      "Only Stochastic with rank few_c and traffic few_c and Subset size ratio 0.1 found 18 models\n",
      "Only Stochastic with rank few_c and traffic few_c and Subset size ratio 0.3 found 100 models\n",
      "Only Stochastic with rank few_c and traffic few_c and Subset size ratio 0.5 found 100 models\n",
      "Only Stochastic with rank few_c and traffic few_c and Subset size ratio 0.8 found 100 models\n"
     ]
    }
   ],
   "source": [
    "only_stochastic_search(rank_only_client_traffic=True, ds_only_client_traffic=True)"
   ]
  },
  {
   "cell_type": "markdown",
   "metadata": {},
   "source": [
    "Only pruning."
   ]
  },
  {
   "cell_type": "code",
   "execution_count": 25,
   "metadata": {},
   "outputs": [
    {
     "name": "stdout",
     "output_type": "stream",
     "text": [
      "Only Pruning for traffic few_c found 16 models\n"
     ]
    }
   ],
   "source": [
    "only_pruning(ds_only_client_traffic=True)"
   ]
  },
  {
   "cell_type": "markdown",
   "metadata": {},
   "source": [
    "## Stochastic Subset Search on Client Categories with ranking computed on All Traffic Categories"
   ]
  },
  {
   "cell_type": "markdown",
   "metadata": {},
   "source": [
    "First prune then stochastic search."
   ]
  },
  {
   "cell_type": "code",
   "execution_count": 12,
   "metadata": {},
   "outputs": [
    {
     "name": "stdout",
     "output_type": "stream",
     "text": [
      "Prune and the Stochastic search with rank all_c and traffic few_c and Subset Size 0.1 found  -> {0.05: 12, 0.1: 13, 0.15: 13, 0.2: 5, 0.25: 11, 0.3: 9, 0.35: 7, 0.4: 11, 0.45: 12, 0.5: 9, 0.55: 11, 0.6: 15, 0.65: 12, 0.7: 13, 0.75: 23, 0.8: 17}\n",
      "Prune and the Stochastic search with rank all_c and traffic few_c and Subset Size 0.3 found  -> {0.05: 80, 0.1: 84, 0.15: 84, 0.2: 80, 0.25: 76, 0.3: 81, 0.35: 61, 0.4: 70, 0.45: 77, 0.5: 73, 0.55: 85, 0.6: 79, 0.65: 73, 0.7: 81, 0.75: 78, 0.8: 67}\n",
      "Prune and the Stochastic search with rank all_c and traffic few_c and Subset Size 0.5 found  -> {0.05: 100, 0.1: 100, 0.15: 100, 0.2: 100, 0.25: 99, 0.3: 99, 0.35: 99, 0.4: 99, 0.45: 98, 0.5: 100, 0.55: 100, 0.6: 99, 0.65: 100, 0.7: 98, 0.75: 93, 0.8: 92}\n",
      "Prune and the Stochastic search with rank all_c and traffic few_c and Subset Size 0.8 found  -> {0.05: 100, 0.1: 100, 0.15: 100, 0.2: 100, 0.25: 100, 0.3: 100, 0.35: 100, 0.4: 100, 0.45: 100, 0.5: 100, 0.55: 100, 0.6: 100, 0.65: 100, 0.7: 100, 0.75: 100, 0.8: 100}\n"
     ]
    }
   ],
   "source": [
    "pruning_then_stochastic_search(rank_only_client_traffic=False, ds_only_client_traffic=True)"
   ]
  },
  {
   "cell_type": "markdown",
   "metadata": {},
   "source": [
    "First stochastic search then pruning."
   ]
  },
  {
   "cell_type": "code",
   "execution_count": 11,
   "metadata": {},
   "outputs": [
    {
     "name": "stdout",
     "output_type": "stream",
     "text": [
      "Stochastic search and then Pruning with rank all_c and traffic few_c and Subset Size 0.1 found (%prune: #accepted models) {0.05: 12, 0.1: 12, 0.15: 12, 0.2: 12, 0.25: 12, 0.3: 12, 0.35: 12, 0.4: 12, 0.45: 12, 0.5: 12, 0.55: 12, 0.6: 12, 0.65: 12, 0.7: 12, 0.75: 12, 0.8: 12}\n",
      "Stochastic search and then Pruning with rank all_c and traffic few_c and Subset Size 0.3 found (%prune: #accepted models) {0.05: 80, 0.1: 80, 0.15: 80, 0.2: 80, 0.25: 80, 0.3: 80, 0.35: 80, 0.4: 80, 0.45: 80, 0.5: 80, 0.55: 80, 0.6: 80, 0.65: 80, 0.7: 80, 0.75: 80, 0.8: 80}\n",
      "Stochastic search and then Pruning with rank all_c and traffic few_c and Subset Size 0.5 found (%prune: #accepted models) {0.05: 100, 0.1: 100, 0.15: 100, 0.2: 100, 0.25: 100, 0.3: 100, 0.35: 100, 0.4: 100, 0.45: 100, 0.5: 100, 0.55: 100, 0.6: 100, 0.65: 100, 0.7: 100, 0.75: 100, 0.8: 100}\n",
      "Stochastic search and then Pruning with rank all_c and traffic few_c and Subset Size 0.8 found (%prune: #accepted models) {0.05: 100, 0.1: 100, 0.15: 100, 0.2: 100, 0.25: 100, 0.3: 100, 0.35: 100, 0.4: 100, 0.45: 100, 0.5: 100, 0.55: 100, 0.6: 100, 0.65: 100, 0.7: 100, 0.75: 100, 0.8: 100}\n"
     ]
    }
   ],
   "source": [
    "stochastic_search_then_pruning(rank_only_client_traffic=False, ds_only_client_traffic=True)"
   ]
  },
  {
   "cell_type": "markdown",
   "metadata": {},
   "source": [
    "Only stochastic search."
   ]
  },
  {
   "cell_type": "code",
   "execution_count": 10,
   "metadata": {},
   "outputs": [
    {
     "name": "stdout",
     "output_type": "stream",
     "text": [
      "Only Stochastic with rank all_c and traffic few_c and Subset size ratio 0.1 found 12 models\n",
      "Only Stochastic with rank all_c and traffic few_c and Subset size ratio 0.3 found 80 models\n",
      "Only Stochastic with rank all_c and traffic few_c and Subset size ratio 0.5 found 100 models\n",
      "Only Stochastic with rank all_c and traffic few_c and Subset size ratio 0.8 found 100 models\n"
     ]
    }
   ],
   "source": [
    "only_stochastic_search(rank_only_client_traffic=False, ds_only_client_traffic=True)"
   ]
  },
  {
   "cell_type": "markdown",
   "metadata": {},
   "source": [
    "Only pruning."
   ]
  },
  {
   "cell_type": "code",
   "execution_count": 9,
   "metadata": {},
   "outputs": [
    {
     "name": "stdout",
     "output_type": "stream",
     "text": [
      "Only Pruning for traffic few_c found 16 models\n"
     ]
    }
   ],
   "source": [
    "only_pruning(ds_only_client_traffic=True)"
   ]
  },
  {
   "cell_type": "markdown",
   "metadata": {},
   "source": [
    "In case you want to test a scenario in which the organization has access to all the traffic, just repeat the whole notebook setting **ds_only_client_traffic=False**.\n",
    "\n",
    "Right now, for our scenario it is not needed."
   ]
  }
 ],
 "metadata": {
  "kernelspec": {
   "display_name": ".venv",
   "language": "python",
   "name": "python3"
  },
  "language_info": {
   "codemirror_mode": {
    "name": "ipython",
    "version": 3
   },
   "file_extension": ".py",
   "mimetype": "text/x-python",
   "name": "python",
   "nbconvert_exporter": "python",
   "pygments_lexer": "ipython3",
   "version": "3.10.12"
  }
 },
 "nbformat": 4,
 "nbformat_minor": 2
}
