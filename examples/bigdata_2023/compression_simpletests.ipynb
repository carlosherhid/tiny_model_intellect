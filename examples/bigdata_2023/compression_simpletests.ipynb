{
 "cells": [
  {
   "cell_type": "markdown",
   "metadata": {},
   "source": [
    "Simple PyTorch Neural Network on \"train.csv\" Dataset\n",
    "\n",
    "This notebook will load the dataset \"train.csv\", preprocess the data, and train a simple PyTorch neural network on the dataset."
   ]
  },
  {
   "cell_type": "markdown",
   "metadata": {},
   "source": [
    "The goal was mainly to understand what didn't work in the quantization of the autogluon model. We decided to traina simple pytorch model and test quantization and qat to test that quantization works properly.\n"
   ]
  },
  {
   "cell_type": "markdown",
   "metadata": {},
   "source": [
    "Import necessary libraries"
   ]
  },
  {
   "cell_type": "code",
   "execution_count": 1,
   "metadata": {},
   "outputs": [],
   "source": [
    "import pandas as pd\n",
    "import numpy as np\n",
    "import torch\n",
    "import torch.nn as nn\n",
    "import torch.optim as optim\n",
    "from sklearn.model_selection import train_test_split\n",
    "from sklearn.preprocessing import StandardScaler, LabelEncoder\n",
    "from sklearn.metrics import accuracy_score\n"
   ]
  },
  {
   "cell_type": "markdown",
   "metadata": {},
   "source": [
    "Load and preprocess the dataset"
   ]
  },
  {
   "cell_type": "code",
   "execution_count": 2,
   "metadata": {},
   "outputs": [
    {
     "data": {
      "text/html": [
       "<div>\n",
       "<style scoped>\n",
       "    .dataframe tbody tr th:only-of-type {\n",
       "        vertical-align: middle;\n",
       "    }\n",
       "\n",
       "    .dataframe tbody tr th {\n",
       "        vertical-align: top;\n",
       "    }\n",
       "\n",
       "    .dataframe thead th {\n",
       "        text-align: right;\n",
       "    }\n",
       "</style>\n",
       "<table border=\"1\" class=\"dataframe\">\n",
       "  <thead>\n",
       "    <tr style=\"text-align: right;\">\n",
       "      <th></th>\n",
       "      <th>ID</th>\n",
       "      <th>Destination Port</th>\n",
       "      <th>Flow Duration</th>\n",
       "      <th>Total Fwd Packets</th>\n",
       "      <th>Total Backward Packets</th>\n",
       "      <th>Total Length of Fwd Packets</th>\n",
       "      <th>Total Length of Bwd Packets</th>\n",
       "      <th>Fwd Packet Length Max</th>\n",
       "      <th>Fwd Packet Length Min</th>\n",
       "      <th>Fwd Packet Length Mean</th>\n",
       "      <th>...</th>\n",
       "      <th>min_seg_size_forward</th>\n",
       "      <th>Active Mean</th>\n",
       "      <th>Active Std</th>\n",
       "      <th>Active Max</th>\n",
       "      <th>Active Min</th>\n",
       "      <th>Idle Mean</th>\n",
       "      <th>Idle Std</th>\n",
       "      <th>Idle Max</th>\n",
       "      <th>Idle Min</th>\n",
       "      <th>Label</th>\n",
       "    </tr>\n",
       "  </thead>\n",
       "  <tbody>\n",
       "    <tr>\n",
       "      <th>0</th>\n",
       "      <td>521918</td>\n",
       "      <td>0.000809</td>\n",
       "      <td>2.816666e-06</td>\n",
       "      <td>0.000005</td>\n",
       "      <td>0.000007</td>\n",
       "      <td>0.000007</td>\n",
       "      <td>3.142864e-07</td>\n",
       "      <td>0.001813</td>\n",
       "      <td>0.019355</td>\n",
       "      <td>0.007575</td>\n",
       "      <td>...</td>\n",
       "      <td>1.0</td>\n",
       "      <td>0.0</td>\n",
       "      <td>0.0</td>\n",
       "      <td>0.0</td>\n",
       "      <td>0.0</td>\n",
       "      <td>0.0</td>\n",
       "      <td>0.0</td>\n",
       "      <td>0.0</td>\n",
       "      <td>0.0</td>\n",
       "      <td>0</td>\n",
       "    </tr>\n",
       "    <tr>\n",
       "      <th>1</th>\n",
       "      <td>1002403</td>\n",
       "      <td>0.001221</td>\n",
       "      <td>1.416667e-07</td>\n",
       "      <td>0.000005</td>\n",
       "      <td>0.000000</td>\n",
       "      <td>0.000000</td>\n",
       "      <td>0.000000e+00</td>\n",
       "      <td>0.000000</td>\n",
       "      <td>0.000000</td>\n",
       "      <td>0.000000</td>\n",
       "      <td>...</td>\n",
       "      <td>1.0</td>\n",
       "      <td>0.0</td>\n",
       "      <td>0.0</td>\n",
       "      <td>0.0</td>\n",
       "      <td>0.0</td>\n",
       "      <td>0.0</td>\n",
       "      <td>0.0</td>\n",
       "      <td>0.0</td>\n",
       "      <td>0.0</td>\n",
       "      <td>1</td>\n",
       "    </tr>\n",
       "    <tr>\n",
       "      <th>2</th>\n",
       "      <td>1052395</td>\n",
       "      <td>0.076356</td>\n",
       "      <td>2.250000e-07</td>\n",
       "      <td>0.000000</td>\n",
       "      <td>0.000003</td>\n",
       "      <td>0.000000</td>\n",
       "      <td>9.153974e-09</td>\n",
       "      <td>0.000000</td>\n",
       "      <td>0.000000</td>\n",
       "      <td>0.000000</td>\n",
       "      <td>...</td>\n",
       "      <td>1.0</td>\n",
       "      <td>0.0</td>\n",
       "      <td>0.0</td>\n",
       "      <td>0.0</td>\n",
       "      <td>0.0</td>\n",
       "      <td>0.0</td>\n",
       "      <td>0.0</td>\n",
       "      <td>0.0</td>\n",
       "      <td>0.0</td>\n",
       "      <td>1</td>\n",
       "    </tr>\n",
       "    <tr>\n",
       "      <th>3</th>\n",
       "      <td>1032054</td>\n",
       "      <td>0.001221</td>\n",
       "      <td>2.405916e-04</td>\n",
       "      <td>0.000009</td>\n",
       "      <td>0.000014</td>\n",
       "      <td>0.000002</td>\n",
       "      <td>1.769921e-05</td>\n",
       "      <td>0.000806</td>\n",
       "      <td>0.000000</td>\n",
       "      <td>0.001459</td>\n",
       "      <td>...</td>\n",
       "      <td>1.0</td>\n",
       "      <td>0.0</td>\n",
       "      <td>0.0</td>\n",
       "      <td>0.0</td>\n",
       "      <td>0.0</td>\n",
       "      <td>0.0</td>\n",
       "      <td>0.0</td>\n",
       "      <td>0.0</td>\n",
       "      <td>0.0</td>\n",
       "      <td>1</td>\n",
       "    </tr>\n",
       "    <tr>\n",
       "      <th>4</th>\n",
       "      <td>869943</td>\n",
       "      <td>0.001221</td>\n",
       "      <td>4.679666e-04</td>\n",
       "      <td>0.000009</td>\n",
       "      <td>0.000017</td>\n",
       "      <td>0.000002</td>\n",
       "      <td>1.770836e-05</td>\n",
       "      <td>0.000806</td>\n",
       "      <td>0.000000</td>\n",
       "      <td>0.001459</td>\n",
       "      <td>...</td>\n",
       "      <td>1.0</td>\n",
       "      <td>0.0</td>\n",
       "      <td>0.0</td>\n",
       "      <td>0.0</td>\n",
       "      <td>0.0</td>\n",
       "      <td>0.0</td>\n",
       "      <td>0.0</td>\n",
       "      <td>0.0</td>\n",
       "      <td>0.0</td>\n",
       "      <td>1</td>\n",
       "    </tr>\n",
       "  </tbody>\n",
       "</table>\n",
       "<p>5 rows × 63 columns</p>\n",
       "</div>"
      ],
      "text/plain": [
       "        ID  Destination Port  Flow Duration  Total Fwd Packets  \\\n",
       "0   521918          0.000809   2.816666e-06           0.000005   \n",
       "1  1002403          0.001221   1.416667e-07           0.000005   \n",
       "2  1052395          0.076356   2.250000e-07           0.000000   \n",
       "3  1032054          0.001221   2.405916e-04           0.000009   \n",
       "4   869943          0.001221   4.679666e-04           0.000009   \n",
       "\n",
       "   Total Backward Packets  Total Length of Fwd Packets  \\\n",
       "0                0.000007                     0.000007   \n",
       "1                0.000000                     0.000000   \n",
       "2                0.000003                     0.000000   \n",
       "3                0.000014                     0.000002   \n",
       "4                0.000017                     0.000002   \n",
       "\n",
       "   Total Length of Bwd Packets  Fwd Packet Length Max  Fwd Packet Length Min  \\\n",
       "0                 3.142864e-07               0.001813               0.019355   \n",
       "1                 0.000000e+00               0.000000               0.000000   \n",
       "2                 9.153974e-09               0.000000               0.000000   \n",
       "3                 1.769921e-05               0.000806               0.000000   \n",
       "4                 1.770836e-05               0.000806               0.000000   \n",
       "\n",
       "   Fwd Packet Length Mean  ...  min_seg_size_forward  Active Mean  Active Std  \\\n",
       "0                0.007575  ...                   1.0          0.0         0.0   \n",
       "1                0.000000  ...                   1.0          0.0         0.0   \n",
       "2                0.000000  ...                   1.0          0.0         0.0   \n",
       "3                0.001459  ...                   1.0          0.0         0.0   \n",
       "4                0.001459  ...                   1.0          0.0         0.0   \n",
       "\n",
       "   Active Max  Active Min  Idle Mean  Idle Std  Idle Max  Idle Min  Label  \n",
       "0         0.0         0.0        0.0       0.0       0.0       0.0      0  \n",
       "1         0.0         0.0        0.0       0.0       0.0       0.0      1  \n",
       "2         0.0         0.0        0.0       0.0       0.0       0.0      1  \n",
       "3         0.0         0.0        0.0       0.0       0.0       0.0      1  \n",
       "4         0.0         0.0        0.0       0.0       0.0       0.0      1  \n",
       "\n",
       "[5 rows x 63 columns]"
      ]
     },
     "execution_count": 2,
     "metadata": {},
     "output_type": "execute_result"
    }
   ],
   "source": [
    "# Load the dataset\n",
    "data = pd.read_csv('./datasets/CICIDS2017/balanced_binary/train.csv')\n",
    "\n",
    "# Display the first few rows of the dataset\n",
    "data.head()\n"
   ]
  },
  {
   "cell_type": "markdown",
   "metadata": {},
   "source": [
    "Data preprocessing\n"
   ]
  },
  {
   "cell_type": "code",
   "execution_count": 3,
   "metadata": {},
   "outputs": [],
   "source": [
    "# Drop the ID column\n",
    "data = data.drop(columns=['ID'])\n",
    "\n",
    "# Separate features and labels\n",
    "X = data.drop(columns=['Label'])\n",
    "y = data['Label']\n",
    "\n",
    "# Encode labels\n",
    "label_encoder = LabelEncoder()\n",
    "y = label_encoder.fit_transform(y)\n",
    "\n",
    "# Split the dataset into training and testing sets\n",
    "X_train, X_test, y_train, y_test = train_test_split(X, y, test_size=0.2, random_state=42)\n",
    "\n",
    "# Standardize the features\n",
    "scaler = StandardScaler()\n",
    "X_train = scaler.fit_transform(X_train)\n",
    "X_test = scaler.transform(X_test)\n",
    "\n",
    "# Convert to PyTorch tensors\n",
    "X_train_tensor = torch.tensor(X_train, dtype=torch.float32)\n",
    "X_test_tensor = torch.tensor(X_test, dtype=torch.float32)\n",
    "y_train_tensor = torch.tensor(y_train, dtype=torch.long)\n",
    "y_test_tensor = torch.tensor(y_test, dtype=torch.long)\n"
   ]
  },
  {
   "cell_type": "markdown",
   "metadata": {},
   "source": [
    "Defininig the neural network model\n"
   ]
  },
  {
   "cell_type": "code",
   "execution_count": 4,
   "metadata": {},
   "outputs": [],
   "source": [
    "class SimpleNN(nn.Module):\n",
    "    def __init__(self, input_size, num_classes):\n",
    "        super(SimpleNN, self).__init__()\n",
    "        self.fc1 = nn.Linear(input_size, 128)\n",
    "        self.relu = nn.ReLU()\n",
    "        self.fc2 = nn.Linear(128, num_classes)\n",
    "    \n",
    "    def forward(self, x):\n",
    "        out = self.fc1(x)\n",
    "        out = self.relu(out)\n",
    "        out = self.fc2(out)\n",
    "        return out\n",
    "\n",
    "input_size = X_train.shape[1]\n",
    "num_classes = len(np.unique(y))\n",
    "\n",
    "model = SimpleNN(input_size, num_classes)\n"
   ]
  },
  {
   "cell_type": "markdown",
   "metadata": {},
   "source": [
    "Training"
   ]
  },
  {
   "cell_type": "code",
   "execution_count": 5,
   "metadata": {},
   "outputs": [
    {
     "name": "stdout",
     "output_type": "stream",
     "text": [
      "Epoch [1/20], Loss: 0.0546\n",
      "Epoch [2/20], Loss: 0.1482\n",
      "Epoch [3/20], Loss: 0.0364\n",
      "Epoch [4/20], Loss: 0.0194\n",
      "Epoch [5/20], Loss: 0.0559\n",
      "Epoch [6/20], Loss: 0.0790\n",
      "Epoch [7/20], Loss: 0.0086\n",
      "Epoch [8/20], Loss: 0.0209\n",
      "Epoch [9/20], Loss: 0.0433\n",
      "Epoch [10/20], Loss: 0.0508\n",
      "Epoch [11/20], Loss: 0.0777\n",
      "Epoch [12/20], Loss: 0.0173\n",
      "Epoch [13/20], Loss: 0.0573\n",
      "Epoch [14/20], Loss: 0.0219\n",
      "Epoch [15/20], Loss: 0.0753\n",
      "Epoch [16/20], Loss: 0.0080\n",
      "Epoch [17/20], Loss: 0.0124\n",
      "Epoch [18/20], Loss: 0.0192\n",
      "Epoch [19/20], Loss: 0.0309\n",
      "Epoch [20/20], Loss: 0.0236\n"
     ]
    }
   ],
   "source": [
    "# Define loss and optimizer\n",
    "criterion = nn.CrossEntropyLoss()\n",
    "optimizer = optim.Adam(model.parameters(), lr=0.001)\n",
    "\n",
    "# Training the model\n",
    "num_epochs = 20\n",
    "batch_size = 64\n",
    "\n",
    "for epoch in range(num_epochs):\n",
    "    permutation = torch.randperm(X_train_tensor.size()[0])\n",
    "    for i in range(0, X_train_tensor.size()[0], batch_size):\n",
    "        indices = permutation[i:i+batch_size]\n",
    "        batch_X, batch_y = X_train_tensor[indices], y_train_tensor[indices]\n",
    "        \n",
    "        # Forward pass\n",
    "        outputs = model(batch_X)\n",
    "        loss = criterion(outputs, batch_y)\n",
    "        \n",
    "        # Backward pass and optimization\n",
    "        optimizer.zero_grad()\n",
    "        loss.backward()\n",
    "        optimizer.step()\n",
    "    \n",
    "    print(f'Epoch [{epoch+1}/{num_epochs}], Loss: {loss.item():.4f}')\n"
   ]
  },
  {
   "cell_type": "markdown",
   "metadata": {},
   "source": [
    "Evaluate and save the model"
   ]
  },
  {
   "cell_type": "code",
   "execution_count": 6,
   "metadata": {},
   "outputs": [
    {
     "name": "stdout",
     "output_type": "stream",
     "text": [
      "Accuracy on the test set: 0.9863\n",
      "Model saved as simple_nn.pth\n"
     ]
    }
   ],
   "source": [
    "# Evaluate the model on the test set\n",
    "model.eval()\n",
    "with torch.no_grad():\n",
    "    outputs = model(X_test_tensor)\n",
    "    _, predicted = torch.max(outputs.data, 1)\n",
    "    accuracy = accuracy_score(y_test_tensor, predicted)\n",
    "    print(f'Accuracy on the test set: {accuracy:.4f}')\n",
    "torch.save(model.state_dict(), 'simple_nn.pth')\n",
    "print('Model saved as simple_nn.pth')\n"
   ]
  },
  {
   "cell_type": "markdown",
   "metadata": {},
   "source": [
    "Apply dynamic quantization and evaluate"
   ]
  },
  {
   "cell_type": "code",
   "execution_count": 12,
   "metadata": {},
   "outputs": [
    {
     "name": "stdout",
     "output_type": "stream",
     "text": [
      "Accuracy on the test set after quantization: 0.5673\n"
     ]
    }
   ],
   "source": [
    "import torch.quantization as quant\n",
    "# Set the quantized engine\n",
    "torch.backends.quantized.engine = 'qnnpack' if torch.backends.quantized.engine == 'none' else torch.backends.quantized.engine\n",
    "\n",
    "# Apply dynamic quantization\n",
    "quantized_model = quant.quantize_dynamic(\n",
    "    model, {nn.Linear}, dtype=torch.qint8\n",
    ")\n",
    "\n",
    "# Evaluate the quantized model on the test set\n",
    "quantized_model.eval()\n",
    "with torch.no_grad():\n",
    "    outputs = quantized_model(X_test_tensor)\n",
    "    _, predicted = torch.max(outputs.data, 1)\n",
    "    quantized_accuracy = accuracy_score(y_test_tensor, predicted)\n",
    "    print(f'Accuracy on the test set after quantization: {quantized_accuracy:.4f}')\n"
   ]
  },
  {
   "cell_type": "markdown",
   "metadata": {},
   "source": [
    "Because the results of the quantization were bad, I will follow some steps to improve it"
   ]
  },
  {
   "cell_type": "markdown",
   "metadata": {},
   "source": [
    "1. Ensuring the preprocessing steps are correctly implemented and appropriate for the model"
   ]
  },
  {
   "cell_type": "code",
   "execution_count": 13,
   "metadata": {},
   "outputs": [
    {
     "name": "stdout",
     "output_type": "stream",
     "text": [
      "Data Preprocessing Steps:\n",
      "Missing values in each column:\n",
      "Destination Port               0\n",
      "Flow Duration                  0\n",
      "Total Fwd Packets              0\n",
      "Total Backward Packets         0\n",
      "Total Length of Fwd Packets    0\n",
      "                              ..\n",
      "Idle Mean                      0\n",
      "Idle Std                       0\n",
      "Idle Max                       0\n",
      "Idle Min                       0\n",
      "Label                          0\n",
      "Length: 62, dtype: int64\n",
      "Data types of each column:\n",
      "Destination Port               float64\n",
      "Flow Duration                  float64\n",
      "Total Fwd Packets              float64\n",
      "Total Backward Packets         float64\n",
      "Total Length of Fwd Packets    float64\n",
      "                                ...   \n",
      "Idle Mean                      float64\n",
      "Idle Std                       float64\n",
      "Idle Max                       float64\n",
      "Idle Min                       float64\n",
      "Label                            int64\n",
      "Length: 62, dtype: object\n",
      "Means of each feature (should be close to 0):\n",
      "tensor([-1.3219e-08,  2.4479e-10,  5.6608e-10, -2.2949e-10,  1.2240e-10,\n",
      "        -1.5299e-10,  1.1322e-09, -5.9974e-09,  1.6829e-09,  1.0985e-08,\n",
      "         4.4674e-09,  5.0794e-09,  7.8333e-09, -2.1297e-08, -1.2240e-10,\n",
      "        -9.7916e-10, -5.5078e-10,  3.5495e-09,  1.2851e-09,  6.7317e-10,\n",
      "         1.0082e-08, -2.8916e-09,  1.1383e-08, -1.2362e-08,  1.4381e-09,\n",
      "        -3.9778e-09,  5.4466e-09, -1.6401e-08, -5.4466e-09, -7.5120e-09,\n",
      "        -3.4485e-08,  6.1198e-10,  6.1198e-11,  1.8359e-10, -3.6719e-10,\n",
      "         4.8958e-10, -2.2949e-09, -8.3841e-09,  6.1198e-09,  2.6315e-09,\n",
      "         5.8903e-09, -3.0048e-08, -2.9834e-10, -1.9553e-08, -3.4271e-09,\n",
      "         6.5749e-09,  2.4479e-10,  7.8333e-09,  1.2240e-10,  7.9251e-09,\n",
      "         7.4049e-09,  3.0599e-11, -1.5299e-10, -1.8604e-08,  1.3555e-08,\n",
      "        -8.4912e-09,  5.5078e-10, -3.2129e-09,  1.2851e-09, -1.8053e-09,\n",
      "         1.9583e-08])\n",
      "Standard deviations of each feature (should be close to 1):\n",
      "tensor([1.0000, 1.0000, 1.0000, 1.0000, 1.0000, 1.0000, 1.0000, 1.0000, 1.0000,\n",
      "        1.0000, 1.0000, 1.0000, 1.0000, 1.0000, 1.0000, 1.0000, 1.0000, 1.0000,\n",
      "        1.0000, 1.0000, 1.0000, 1.0000, 1.0000, 1.0000, 1.0000, 1.0000, 1.0000,\n",
      "        1.0000, 1.0000, 1.0000, 1.0000, 1.0000, 1.0000, 1.0000, 1.0000, 1.0000,\n",
      "        1.0000, 1.0000, 1.0000, 1.0000, 1.0000, 1.0000, 1.0000, 1.0000, 1.0000,\n",
      "        1.0000, 1.0000, 1.0000, 1.0000, 1.0000, 1.0000, 1.0000, 1.0000, 1.0000,\n",
      "        1.0000, 1.0000, 1.0000, 1.0000, 1.0000, 1.0000, 1.0000])\n"
     ]
    }
   ],
   "source": [
    "# Recheck Preprocessing\n",
    "print(\"Data Preprocessing Steps:\")\n",
    "\n",
    "# Check for missing values\n",
    "missing_values = data.isnull().sum()\n",
    "print(f\"Missing values in each column:\\n{missing_values}\")\n",
    "\n",
    "# Check the data types\n",
    "data_types = data.dtypes\n",
    "print(f\"Data types of each column:\\n{data_types}\")\n",
    "\n",
    "# Ensure the data is standardized properly\n",
    "print(f\"Means of each feature (should be close to 0):\\n{X_train_tensor.mean(dim=0)}\")\n",
    "print(f\"Standard deviations of each feature (should be close to 1):\\n{X_train_tensor.std(dim=0)}\")\n"
   ]
  },
  {
   "cell_type": "markdown",
   "metadata": {},
   "source": [
    "2. Revisiting the model architecture to ensure it is suitable for quantization and Redefining and Training the Model with Improved Architecture"
   ]
  },
  {
   "cell_type": "code",
   "execution_count": 14,
   "metadata": {},
   "outputs": [
    {
     "name": "stdout",
     "output_type": "stream",
     "text": [
      "Epoch [1/20], Loss: 0.0599\n",
      "Epoch [2/20], Loss: 0.1105\n",
      "Epoch [3/20], Loss: 0.0191\n",
      "Epoch [4/20], Loss: 0.0246\n",
      "Epoch [5/20], Loss: 0.0541\n",
      "Epoch [6/20], Loss: 0.0036\n",
      "Epoch [7/20], Loss: 0.0388\n",
      "Epoch [8/20], Loss: 0.0142\n",
      "Epoch [9/20], Loss: 0.0069\n",
      "Epoch [10/20], Loss: 0.0410\n",
      "Epoch [11/20], Loss: 0.0514\n",
      "Epoch [12/20], Loss: 0.0696\n",
      "Epoch [13/20], Loss: 0.0613\n",
      "Epoch [14/20], Loss: 0.1696\n",
      "Epoch [15/20], Loss: 0.0044\n",
      "Epoch [16/20], Loss: 0.0060\n",
      "Epoch [17/20], Loss: 0.0192\n",
      "Epoch [18/20], Loss: 0.0457\n",
      "Epoch [19/20], Loss: 0.0193\n",
      "Epoch [20/20], Loss: 0.0128\n"
     ]
    }
   ],
   "source": [
    "# Define an improved neural network model\n",
    "class ImprovedNN(nn.Module):\n",
    "    def __init__(self, input_size, num_classes):\n",
    "        super(ImprovedNN, self).__init__()\n",
    "        self.fc1 = nn.Linear(input_size, 256)\n",
    "        self.relu1 = nn.ReLU()\n",
    "        self.fc2 = nn.Linear(256, 128)\n",
    "        self.relu2 = nn.ReLU()\n",
    "        self.fc3 = nn.Linear(128, num_classes)\n",
    "    \n",
    "    def forward(self, x):\n",
    "        out = self.fc1(x)\n",
    "        out = self.relu1(out)\n",
    "        out = self.fc2(out)\n",
    "        out = self.relu2(out)\n",
    "        out = self.fc3(out)\n",
    "        return out\n",
    "\n",
    "input_size = X_train.shape[1]\n",
    "num_classes = len(np.unique(y))\n",
    "\n",
    "improved_model = ImprovedNN(input_size, num_classes)\n",
    "\n",
    "# Define loss and optimizer\n",
    "criterion = nn.CrossEntropyLoss()\n",
    "optimizer = optim.Adam(improved_model.parameters(), lr=0.001)\n",
    "\n",
    "# Training the improved model\n",
    "num_epochs = 20\n",
    "batch_size = 64\n",
    "\n",
    "for epoch in range(num_epochs):\n",
    "    permutation = torch.randperm(X_train_tensor.size()[0])\n",
    "    for i in range(0, X_train_tensor.size()[0], batch_size):\n",
    "        indices = permutation[i:i+batch_size]\n",
    "        batch_X, batch_y = X_train_tensor[indices], y_train_tensor[indices]\n",
    "        \n",
    "        # Forward pass\n",
    "        outputs = improved_model(batch_X)\n",
    "        loss = criterion(outputs, batch_y)\n",
    "        \n",
    "        # Backward pass and optimization\n",
    "        optimizer.zero_grad()\n",
    "        loss.backward()\n",
    "        optimizer.step()\n",
    "    \n",
    "    print(f'Epoch [{epoch+1}/{num_epochs}], Loss: {loss.item():.4f}')\n"
   ]
  },
  {
   "cell_type": "markdown",
   "metadata": {},
   "source": [
    "Evaluate the improved model"
   ]
  },
  {
   "cell_type": "code",
   "execution_count": 21,
   "metadata": {},
   "outputs": [
    {
     "name": "stdout",
     "output_type": "stream",
     "text": [
      "Accuracy on the test set (Improved Model): 0.9897\n"
     ]
    }
   ],
   "source": [
    "# Evaluate the improved model on the test set\n",
    "improved_model.eval()\n",
    "with torch.no_grad():\n",
    "    outputs = improved_model(X_test_tensor)\n",
    "    _, predicted = torch.max(outputs.data, 1)\n",
    "    improved_accuracy = accuracy_score(y_test_tensor, predicted)\n",
    "    print(f'Accuracy on the test set (Improved Model): {improved_accuracy:.4f}')\n"
   ]
  },
  {
   "cell_type": "markdown",
   "metadata": {},
   "source": [
    "Apply dynamic quantization to the improved model and evaluate"
   ]
  },
  {
   "cell_type": "code",
   "execution_count": 16,
   "metadata": {},
   "outputs": [
    {
     "name": "stdout",
     "output_type": "stream",
     "text": [
      "Accuracy on the test set after quantization (Improved Model): 0.5885\n"
     ]
    }
   ],
   "source": [
    "# Set the quantized engine\n",
    "torch.backends.quantized.engine = 'qnnpack' if torch.backends.quantized.engine == 'none' else torch.backends.quantized.engine\n",
    "\n",
    "# Ensure the improved model is in evaluation mode before quantizing\n",
    "improved_model.eval()\n",
    "\n",
    "# Apply dynamic quantization to the improved model\n",
    "quantized_improved_model = quant.quantize_dynamic(\n",
    "    improved_model, {nn.Linear}, dtype=torch.qint8\n",
    ")\n",
    "\n",
    "# Ensure the quantized improved model is in evaluation mode\n",
    "quantized_improved_model.eval()\n",
    "\n",
    "# Evaluate the quantized improved model on the test set\n",
    "with torch.no_grad():\n",
    "    outputs = quantized_improved_model(X_test_tensor)\n",
    "    _, predicted = torch.max(outputs.data, 1)\n",
    "    quantized_improved_accuracy = accuracy_score(y_test_tensor, predicted)\n",
    "    print(f'Accuracy on the test set after quantization (Improved Model): {quantized_improved_accuracy:.4f}')\n",
    "    \n"
   ]
  },
  {
   "cell_type": "markdown",
   "metadata": {},
   "source": [
    "Comparing the results"
   ]
  },
  {
   "cell_type": "code",
   "execution_count": 17,
   "metadata": {},
   "outputs": [
    {
     "name": "stdout",
     "output_type": "stream",
     "text": [
      "Accuracy on the test set (Original Model): 0.9863\n",
      "Accuracy on the test set (Improved Model): 0.9897\n",
      "Accuracy on the test set after quantization (Improved Model): 0.5885\n"
     ]
    }
   ],
   "source": [
    "print(f'Accuracy on the test set (Original Model): {accuracy:.4f}')\n",
    "print(f'Accuracy on the test set (Improved Model): {improved_accuracy:.4f}')\n",
    "print(f'Accuracy on the test set after quantization (Improved Model): {quantized_improved_accuracy:.4f}')\n"
   ]
  },
  {
   "cell_type": "markdown",
   "metadata": {},
   "source": [
    "3. Integrate quantization into the training process for potentially better results, using Quantization-Aware Training"
   ]
  },
  {
   "cell_type": "code",
   "execution_count": 22,
   "metadata": {},
   "outputs": [
    {
     "name": "stdout",
     "output_type": "stream",
     "text": [
      "Epoch [1/20], Loss: 0.0456\n",
      "Epoch [2/20], Loss: 0.0119\n",
      "Epoch [3/20], Loss: 0.0334\n",
      "Epoch [4/20], Loss: 0.0680\n",
      "Epoch [5/20], Loss: 0.0347\n",
      "Epoch [6/20], Loss: 0.0154\n",
      "Epoch [7/20], Loss: 0.0105\n",
      "Epoch [8/20], Loss: 0.1116\n",
      "Epoch [9/20], Loss: 0.1383\n",
      "Epoch [10/20], Loss: 0.0114\n",
      "Epoch [11/20], Loss: 0.0223\n",
      "Epoch [12/20], Loss: 0.1291\n",
      "Epoch [13/20], Loss: 0.0182\n",
      "Epoch [14/20], Loss: 0.0229\n",
      "Epoch [15/20], Loss: 0.0468\n",
      "Epoch [16/20], Loss: 0.0318\n",
      "Epoch [17/20], Loss: 0.0142\n",
      "Epoch [18/20], Loss: 0.1159\n",
      "Epoch [19/20], Loss: 0.1244\n",
      "Epoch [20/20], Loss: 0.0498\n",
      "Accuracy on the test set after quantization-aware training: 0.9816\n"
     ]
    }
   ],
   "source": [
    "from torch.quantization import QuantStub, DeQuantStub\n",
    "\n",
    "class QuantAwareNN(nn.Module):\n",
    "    def __init__(self, input_size, num_classes):\n",
    "        super(QuantAwareNN, self).__init__()\n",
    "        self.fc1 = nn.Linear(input_size, 256)\n",
    "        self.relu1 = nn.ReLU()\n",
    "        self.fc2 = nn.Linear(256, 128)\n",
    "        self.relu2 = nn.ReLU()\n",
    "        self.fc3 = nn.Linear(128, num_classes)\n",
    "        self.quant = QuantStub()\n",
    "        self.dequant = DeQuantStub()\n",
    "    \n",
    "    def forward(self, x):\n",
    "        x = self.quant(x)\n",
    "        x = self.fc1(x)\n",
    "        x = self.relu1(x)\n",
    "        x = self.fc2(x)\n",
    "        x = self.relu2(x)\n",
    "        x = self.fc3(x)\n",
    "        x = self.dequant(x)\n",
    "        return x\n",
    "\n",
    "# Initialize the model\n",
    "quant_aware_model = QuantAwareNN(input_size, num_classes)\n",
    "\n",
    "# Prepare for quantization-aware training\n",
    "quant_aware_model.qconfig = torch.quantization.get_default_qat_qconfig('qnnpack')\n",
    "torch.quantization.prepare_qat(quant_aware_model, inplace=True)\n",
    "\n",
    "# Fine-tune the model with quantization-aware training\n",
    "criterion = nn.CrossEntropyLoss()\n",
    "optimizer = optim.Adam(quant_aware_model.parameters(), lr=0.001)\n",
    "\n",
    "num_epochs = 20\n",
    "batch_size = 64\n",
    "\n",
    "for epoch in range(num_epochs):\n",
    "    permutation = torch.randperm(X_train_tensor.size()[0])\n",
    "    for i in range(0, X_train_tensor.size()[0], batch_size):\n",
    "        indices = permutation[i:i+batch_size]\n",
    "        batch_X, batch_y = X_train_tensor[indices], y_train_tensor[indices]\n",
    "        \n",
    "        # Forward pass\n",
    "        outputs = quant_aware_model(batch_X)\n",
    "        loss = criterion(outputs, batch_y)\n",
    "        \n",
    "        # Backward pass and optimization\n",
    "        optimizer.zero_grad()\n",
    "        loss.backward()\n",
    "        optimizer.step()\n",
    "    \n",
    "    print(f'Epoch [{epoch+1}/{num_epochs}], Loss: {loss.item():.4f}')\n",
    "\n",
    "# Convert to quantized model\n",
    "quantized_model_qat = torch.quantization.convert(quant_aware_model.eval(), inplace=False)\n",
    "\n",
    "# Evaluate the quantized model on the test set\n",
    "with torch.no_grad():\n",
    "    outputs = quantized_model_qat(X_test_tensor)\n",
    "    _, predicted = torch.max(outputs.data, 1)\n",
    "    quantized_qat_accuracy = accuracy_score(y_test_tensor, predicted)\n",
    "    print(f'Accuracy on the test set after quantization-aware training: {quantized_qat_accuracy:.4f}')\n"
   ]
  },
  {
   "cell_type": "markdown",
   "metadata": {},
   "source": [
    "Compare the results"
   ]
  },
  {
   "cell_type": "code",
   "execution_count": 23,
   "metadata": {},
   "outputs": [
    {
     "name": "stdout",
     "output_type": "stream",
     "text": [
      "Accuracy on the test set (Original Model): 0.9863\n",
      "Accuracy on the test set after quantization (Original Model): 0.5673\n",
      "Accuracy on the test set (Improved Model): 0.9897\n",
      "Accuracy on the test set after quantization (Improved Model): 0.5885\n",
      "Accuracy on the test set after quantization-aware training: 0.9816\n"
     ]
    }
   ],
   "source": [
    "print(f'Accuracy on the test set (Original Model): {accuracy:.4f}')\n",
    "print(f'Accuracy on the test set after quantization (Original Model): {quantized_accuracy:.4f}')\n",
    "print(f'Accuracy on the test set (Improved Model): {improved_accuracy:.4f}')\n",
    "print(f'Accuracy on the test set after quantization (Improved Model): {quantized_improved_accuracy:.4f}')\n",
    "print(f'Accuracy on the test set after quantization-aware training: {quantized_qat_accuracy:.4f}')\n"
   ]
  },
  {
   "cell_type": "markdown",
   "metadata": {},
   "source": [
    "Plot results"
   ]
  },
  {
   "cell_type": "code",
   "execution_count": 24,
   "metadata": {},
   "outputs": [
    {
     "data": {
      "image/png": "[encoded data removed]",
      "text/plain": [
       "<Figure size 1000x600 with 1 Axes>"
      ]
     },
     "metadata": {},
     "output_type": "display_data"
    }
   ],
   "source": [
    "import matplotlib.pyplot as plt\n",
    "# Prepare data for plotting\n",
    "models = ['Original Model', 'Quantized Original Model', 'Improved Model', 'Quantized Improved Model', 'QAT Model']\n",
    "accuracies = [accuracy, quantized_accuracy, improved_accuracy, quantized_improved_accuracy, quantized_qat_accuracy]\n",
    "\n",
    "# Plot the results\n",
    "plt.figure(figsize=(10, 6))\n",
    "plt.bar(models, accuracies, color=['blue', 'green', 'blue', 'green', 'red'])\n",
    "plt.ylim(0, 1)\n",
    "plt.xlabel('Models')\n",
    "plt.ylabel('Accuracy')\n",
    "plt.title('Accuracy Comparison of Different Models')\n",
    "plt.xticks(rotation=45)\n",
    "plt.grid(True)\n",
    "plt.show()\n"
   ]
  },
  {
   "cell_type": "code",
   "execution_count": null,
   "metadata": {},
   "outputs": [],
   "source": []
  }
 ],
 "metadata": {
  "kernelspec": {
   "display_name": ".venv",
   "language": "python",
   "name": "python3"
  },
  "language_info": {
   "codemirror_mode": {
    "name": "ipython",
    "version": 3
   },
   "file_extension": ".py",
   "mimetype": "text/x-python",
   "name": "python",
   "nbconvert_exporter": "python",
   "pygments_lexer": "ipython3",
   "version": "3.10.14"
  }
 },
 "nbformat": 4,
 "nbformat_minor": 2
}
