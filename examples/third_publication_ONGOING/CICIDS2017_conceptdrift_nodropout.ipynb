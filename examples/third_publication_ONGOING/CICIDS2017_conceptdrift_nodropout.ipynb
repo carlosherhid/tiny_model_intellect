{
 "cells": [
  {
   "cell_type": "markdown",
   "metadata": {},
   "source": [
    "# Concept Drift and Online Learning"
   ]
  },
  {
   "cell_type": "markdown",
   "metadata": {},
   "source": [
    "We are using the following acronyms:\n",
    "\n",
    "1. **Original Model OM**: . It refers to a model trained and not pruned.\n",
    "1. **Pruned Model PM**: . It refers to a pruned version of the **OM**.\n",
    "1. **Online Learning OL**: mechanism to train a model iteratively considering 1 sample at a time, calling the *model.learn_one(...)* function for each sample.\n",
    "1. **Typical Learning TL**: mechanism to train a model in the typical way, dividing the train set in batches and shuffling it at each epoch of the training."
   ]
  },
  {
   "cell_type": "code",
   "execution_count": 4,
   "metadata": {},
   "outputs": [],
   "source": [
    "%reload_ext autoreload\n",
    "%autoreload 2\n",
    "import warnings\n",
    "import numpy as np\n",
    "import pandas as pd\n",
    "import threadpoolctl\n",
    "import matplotlib as mpl\n",
    "import matplotlib.pyplot as plt\n",
    "from IPython import get_ipython\n",
    "import os\n",
    "\n",
    "from river import drift, ensemble\n",
    "from sklearn.model_selection import train_test_split\n",
    "from sklearn.metrics import accuracy_score, precision_score, recall_score, f1_score, get_scorer\n",
    "from intellect.model.ensembles import WrapRiverEnsemble\n",
    "from intellect.model.sklearn.model import EnhancedMlpClassifier\n",
    "from intellect.model.sklearn.pruning import globally_unstructured_connections_l1\n",
    "from intellect.ranking import prune_search\n",
    "from intellect.dataset import Dataset\n",
    "from intellect.io import create_dir, dump, load\n",
    "from intellect.scoring import compute_metric_incremental\n",
    "from intellect.inspect import set_seed\n",
    "\n",
    "#threadpoolctl.threadpool_limits(limits=2);\n",
    "mpl.rcParams['figure.dpi']= 70\n",
    "pd.set_option(\"display.max_columns\", 100)"
   ]
  },
  {
   "cell_type": "markdown",
   "metadata": {},
   "source": [
    "Define prameters and neural network architecture."
   ]
  },
  {
   "cell_type": "code",
   "execution_count": 8,
   "metadata": {
    "tags": [
     "parameters"
    ]
   },
   "outputs": [],
   "source": [
    "# Parameters\n",
    "\n",
    "# training\n",
    "TRAIN_SIZE = 0.1\n",
    "TRAIN_EPOCHS = 100\n",
    "EPOCS_WO_IMPROVE = TRAIN_EPOCHS\n",
    "\n",
    "# neural network architecture\n",
    "HIDDEN_UNITS = 32\n",
    "HIDDEN_LAYERS = 5\n",
    "DROPOUT_HIDDEN = 0.\n",
    "\n",
    "BATCH_SIZE = 64\n",
    "PRUNING_AMOUNTS = (0.1, 0.35, 0.6, 0.85)\n",
    "\n",
    "# eval metrics\n",
    "METRIC_NAME = \"accuracy\"\n",
    "INCREMENTAL_METRIC_NAME = \"Accuracy\"\n",
    "\n",
    "#dataset\n",
    "LABEL = \"Labelb\"\n",
    "DATASET=\"../../datasets/CICIDS2017-drifts/dataset.csv\""
   ]
  },
  {
   "cell_type": "markdown",
   "metadata": {},
   "source": [
    "Generate the output directory name from the name of the notebook."
   ]
  },
  {
   "cell_type": "code",
   "execution_count": 5,
   "metadata": {},
   "outputs": [],
   "source": [
    "ip = get_ipython()\n",
    "path = None\n",
    "if '__vsc_ipynb_file__' in ip.user_ns:\n",
    "    path = ip.user_ns['__vsc_ipynb_file__']\n",
    "\n",
    "OUTPUT_DIR = os.path.basename(path).split(\".\")[0] + \"_output/\""
   ]
  },
  {
   "cell_type": "markdown",
   "metadata": {},
   "source": [
    "Load sklearn scorer to later compute feature importance."
   ]
  },
  {
   "cell_type": "code",
   "execution_count": 9,
   "metadata": {},
   "outputs": [],
   "source": [
    "ORIG_SCORER = get_scorer(METRIC_NAME)"
   ]
  },
  {
   "cell_type": "markdown",
   "metadata": {},
   "source": [
    "Load dataset and normalize data within 0-1."
   ]
  },
  {
   "cell_type": "code",
   "execution_count": 10,
   "metadata": {},
   "outputs": [],
   "source": [
    "def load_ds():\n",
    "    set_seed()\n",
    "    df = pd.read_csv(DATASET, index_col=None)\n",
    "    label = df.pop(LABEL)\n",
    "    X_normalized = df.apply(\n",
    "        lambda x: (x - x.min()) / (x.max() - x.min()))\n",
    "    X_normalized[LABEL] = label\n",
    "\n",
    "    X_train_normalized, X_test_normalized = train_test_split(X_normalized, train_size = TRAIN_SIZE, shuffle=False)\n",
    "    train_labels = X_train_normalized.pop(LABEL)\n",
    "    test_labels = X_test_normalized.pop(LABEL)\n",
    "    return Dataset(data=X_train_normalized, label=train_labels, label_type=train_labels, shuffle=False), Dataset(data=X_test_normalized, label=test_labels, label_type=test_labels, shuffle=False)\n",
    "\n",
    "train_ds, test_ds = load_ds()"
   ]
  },
  {
   "cell_type": "markdown",
   "metadata": {},
   "source": [
    "Define utility functions to: \n",
    "\n",
    "1. Train a model from scratch using **OL**, taking 1 sample at a time\n",
    "1. Train a model from scratch using **TL**, in a traditional fashion\n",
    "1. Test a trained model **with** and **without** continuous learning\n",
    "1. Prune a model with the given ratios and test each of the obtained model **with** and **without** continuous learning\n",
    "1. Plot functions for trained and tested models"
   ]
  },
  {
   "cell_type": "code",
   "execution_count": 11,
   "metadata": {},
   "outputs": [],
   "source": [
    "# train with online learning\n",
    "def wrap_train(model: EnhancedMlpClassifier, save_path: str, ds: Dataset=train_ds):\n",
    "    set_seed()\n",
    "    ypred, ytrue, ylabels, drifts = model.continuous_learning(ds, epochs=1, batch_size=1)\n",
    "    model.save(f\"{save_path}_train\")\n",
    "    with warnings.catch_warnings():\n",
    "        warnings.simplefilter(\"ignore\")\n",
    "        df = pd.DataFrame({\"Accuracy\": accuracy_score(ytrue, ypred), \"Recall\": recall_score(ytrue, ypred),\n",
    "                           \"Precision\": precision_score(ytrue, ypred), \"F1\": f1_score(ytrue, ypred), \"Drifts\": str(drifts)}, index=[\"During OL Train\"])\n",
    "    df2 = pd.DataFrame({\"Labels\": ytrue, \"Predictions\": ypred, \"Type\": ylabels})\n",
    "    dump(df, f\"{save_path}_train_incremental.csv\")\n",
    "    dump(df2, f\"{save_path}_train_incremental_raw.csv\")\n",
    "    return df, df2\n",
    "\n",
    "# plot trained or tested model incremental metric\n",
    "def wrap_plot(path: str, path_raw: str, save_path: str):\n",
    "    df = load(path, index_col=0)\n",
    "    df2 = load(path_raw, index_col=0)\n",
    "    m_incremental_with = m_incremental_without = None\n",
    "    if \"Predictions\" in df2:\n",
    "        m_incremental_with = compute_metric_incremental(df2[\"Labels\"], df2[\"Predictions\"], metric=INCREMENTAL_METRIC_NAME)\n",
    "    else:\n",
    "        m_incremental_with = compute_metric_incremental(df2[\"Labels\"], df2[\"Predictions With OL\"], metric=INCREMENTAL_METRIC_NAME)\n",
    "        m_incremental_without = compute_metric_incremental(df2[\"Labels\"], df2[\"Predictions Without OL\"], metric=INCREMENTAL_METRIC_NAME)\n",
    "\n",
    "    ax = pd.DataFrame(m_incremental_with).plot(legend=False, ylabel=INCREMENTAL_METRIC_NAME, xlabel=\"# Samples\")\n",
    "    if m_incremental_without is not None:\n",
    "        pd.DataFrame(m_incremental_without).plot(ax=ax, legend=False)\n",
    "        cd = np.array(df.loc[\"With OL\", \"Drifts\"].split()[1:-1], dtype=float).astype(\"int\")\n",
    "        ax.scatter(x=cd, y=[m_incremental_with[i] for i in cd], c=\"r\")\n",
    "        ax.legend([\"With OL\", \"Without OL\"])\n",
    "    else:\n",
    "        ax.legend([\"With OL\"])\n",
    "    ax.minorticks_on()\n",
    "    plt.savefig(save_path)\n",
    "    display(df)\n",
    "    plt.show()\n",
    "\n",
    "# train with traditional learning\n",
    "def wrap_train_normal(prune_amount=None):\n",
    "    set_seed()\n",
    "    save_path = f\"om_tl_train_{BATCH_SIZE}\"\n",
    "    if prune_amount is not None:\n",
    "        om = globally_unstructured_connections_l1(EnhancedMlpClassifier.load(OUTPUT_DIR + save_path), prune_amount).clone(init=True)\n",
    "        save_path = f\"pm_tl_retrained_{BATCH_SIZE}_{prune_amount}\"\n",
    "    else:\n",
    "        om = EnhancedMlpClassifier(train_ds.classes, hidden_layer_sizes=(HIDDEN_UNITS,)*HIDDEN_LAYERS, dropout=DROPOUT_HIDDEN, drift_detector=drift.ADWIN(),\n",
    "                                                       batch_size=BATCH_SIZE, max_iter=TRAIN_EPOCHS, validation_fraction=0.)\n",
    "\n",
    "    om.fit(train_ds.X, train_ds.y)\n",
    "    om.save(OUTPUT_DIR + save_path)\n",
    "    dump(pd.DataFrame({\"loss_train\": om.loss_curve_}), OUTPUT_DIR + f\"{save_path}_history.csv\")\n",
    "\n",
    "# plot trained model with traditional learning\n",
    "def wrap_train_normal_plot(save_name:str):\n",
    "    df = load(f\"{save_name}_history.csv\")\n",
    "    ax = df[f\"loss_train\"].plot(legend=False, ylabel=\"Score\", xlabel=\"# Epochs\")\n",
    "    ax.minorticks_on()\n",
    "    ax.legend([\"Loss\"])\n",
    "    plt.savefig(f\"{save_name}_histories_diff.pdf\")\n",
    "    plt.show()\n",
    "\n",
    "# test a model with and without online learning\n",
    "def wrap_test(model: EnhancedMlpClassifier, save_path: str, ds: Dataset=test_ds, dump_csv=True):\n",
    "    set_seed()\n",
    "    yp_normal = model.predict(ds.X)\n",
    "    \n",
    "    ypred, ytrue, ylabels, drifts  = model.continuous_learning(ds, epochs=1, batch_size=1)\n",
    "    model.save(f\"{save_path}_test\")\n",
    "\n",
    "    with warnings.catch_warnings():\n",
    "        warnings.simplefilter(\"ignore\")\n",
    "        df = pd.DataFrame({\"Accuracy\": [accuracy_score(ytrue, ypred), accuracy_score(ytrue, yp_normal)], \"Recall\": [recall_score(ytrue, ypred), recall_score(ytrue, yp_normal)],\n",
    "                           \"Precision\": [precision_score(ytrue, ypred), precision_score(ytrue, yp_normal)], \"F1\": [f1_score(ytrue, ypred), f1_score(ytrue, yp_normal)], \"Drifts\": [str(drifts), \"\"]},\n",
    "                           index=[\"With OL\", \"Without OL\"])\n",
    "    df2 = pd.DataFrame({\"Labels\": ytrue, \"Predictions Without OL\": yp_normal, \"Predictions With OL\": ypred, \"Type\": ylabels})\n",
    "    if dump_csv:\n",
    "        dump(df, f\"{save_path}_test_incremental.csv\")\n",
    "        dump(df2, f\"{save_path}_test_incremental_raw.csv\")\n",
    "    return df, df2\n",
    "\n",
    "# test model pruned with different ratios, with and without online learning\n",
    "def wrap_prune_ratios_test(save_name: str, ds=test_ds):\n",
    "    dff, dff2 = pd.DataFrame(), pd.DataFrame()\n",
    "    for amount in PRUNING_AMOUNTS:\n",
    "        x = EnhancedMlpClassifier.load(save_name)\n",
    "        x = globally_unstructured_connections_l1(x, amount)\n",
    "        df, df2  = wrap_test(x, f\"{save_name}_{amount}\", ds=ds, dump_csv=False)\n",
    "        df[\"Prune Ratio\"] = df2[\"Prune Ratio\"] = amount\n",
    "        dff, dff2 = pd.concat((dff, df)), pd.concat((dff2, df2))\n",
    "    dump(dff, f\"{save_name}_diff.csv\")\n",
    "    dump(dff2, f\"{save_name}_diff_raw.csv\")\n",
    "\n",
    "# plot results of the pruning\n",
    "def wrap_prune_ratios_plot(save_name: str):\n",
    "    df: pd.DataFrame = load(f\"{save_name}_diff.csv\", index_col=0)\n",
    "    df2: pd.DataFrame = load(f\"{save_name}_diff_raw.csv\", index_col=0)\n",
    "    amounts = df[\"Prune Ratio\"].unique()\n",
    "    _, axes = plt.subplots(nrows=1, ncols=len(amounts), figsize=(20,5), sharex=True, sharey=True)\n",
    "    for ax, amount in zip(axes, amounts):\n",
    "        m_incremental_without = compute_metric_incremental(df2[df2[\"Prune Ratio\"] == amount][\"Labels\"], df2[df2[\"Prune Ratio\"] == amount][\"Predictions Without OL\"], metric=INCREMENTAL_METRIC_NAME)\n",
    "        m_incremental_with = compute_metric_incremental(df2[df2[\"Prune Ratio\"] == amount][\"Labels\"], df2[df2[\"Prune Ratio\"] == amount][\"Predictions With OL\"], metric=INCREMENTAL_METRIC_NAME)\n",
    "        pd.DataFrame(m_incremental_without).plot(ax=ax, legend=False, ylabel=INCREMENTAL_METRIC_NAME, xlabel=\"# Samples\")\n",
    "        pd.DataFrame(m_incremental_with).plot(ax=ax, legend=False)\n",
    "        cd = np.array(df[df[\"Prune Ratio\"] == amount].loc[\"With OL\", \"Drifts\"].split()[1:-1], dtype=float).astype(\"int\")\n",
    "        ax.scatter(x=cd, y=[m_incremental_with[i] for i in cd], c=\"r\")\n",
    "        ax.minorticks_on()\n",
    "        ax.legend([\"Without OL\", \"With OL\"])\n",
    "    plt.savefig(f\"{save_name}_diff.pdf\")\n",
    "    display(df)\n",
    "    plt.show()"
   ]
  },
  {
   "cell_type": "code",
   "execution_count": 12,
   "metadata": {},
   "outputs": [],
   "source": [
    "create_dir(OUTPUT_DIR)"
   ]
  },
  {
   "cell_type": "markdown",
   "metadata": {},
   "source": [
    "## Train using Online learning and TEST in both cases\n",
    "\n",
    "### Original Model Training\n",
    "\n",
    "We leverage the **OL** algorithm for training the model against the train portion of the dataset. Each sample is learned individually and only once."
   ]
  },
  {
   "cell_type": "code",
   "execution_count": 13,
   "metadata": {},
   "outputs": [
    {
     "name": "stderr",
     "output_type": "stream",
     "text": [
      "  8%|▊         | 224/2830 [00:00<00:04, 582.06it/s]"
     ]
    },
    {
     "name": "stderr",
     "output_type": "stream",
     "text": [
      "100%|██████████| 2830/2830 [00:04<00:00, 615.54it/s]\n"
     ]
    }
   ],
   "source": [
    "set_seed()\n",
    "om = EnhancedMlpClassifier(train_ds.classes, hidden_layer_sizes=(HIDDEN_UNITS,)*HIDDEN_LAYERS,\n",
    "                            dropout=DROPOUT_HIDDEN, drift_detector=drift.ADWIN(), max_iter=TRAIN_EPOCHS, validation_fraction=0.)\n",
    "wrap_train(om, OUTPUT_DIR + \"om_ol\", ds=train_ds);"
   ]
  },
  {
   "cell_type": "markdown",
   "metadata": {},
   "source": [
    "### Original Model Train Plot\n",
    "And we visualize the resulting data for the training process."
   ]
  },
  {
   "cell_type": "code",
   "execution_count": 14,
   "metadata": {},
   "outputs": [
    {
     "data": {
      "text/html": [
       "<div>\n",
       "<style scoped>\n",
       "    .dataframe tbody tr th:only-of-type {\n",
       "        vertical-align: middle;\n",
       "    }\n",
       "\n",
       "    .dataframe tbody tr th {\n",
       "        vertical-align: top;\n",
       "    }\n",
       "\n",
       "    .dataframe thead th {\n",
       "        text-align: right;\n",
       "    }\n",
       "</style>\n",
       "<table border=\"1\" class=\"dataframe\">\n",
       "  <thead>\n",
       "    <tr style=\"text-align: right;\">\n",
       "      <th></th>\n",
       "      <th>Accuracy</th>\n",
       "      <th>Recall</th>\n",
       "      <th>Precision</th>\n",
       "      <th>F1</th>\n",
       "      <th>Drifts</th>\n",
       "    </tr>\n",
       "  </thead>\n",
       "  <tbody>\n",
       "    <tr>\n",
       "      <th>During OL Train</th>\n",
       "      <td>0.925442</td>\n",
       "      <td>0.935127</td>\n",
       "      <td>0.901602</td>\n",
       "      <td>0.918058</td>\n",
       "      <td>[ 224. 1120.]</td>\n",
       "    </tr>\n",
       "  </tbody>\n",
       "</table>\n",
       "</div>"
      ],
      "text/plain": [
       "                 Accuracy    Recall  Precision        F1         Drifts\n",
       "During OL Train  0.925442  0.935127   0.901602  0.918058  [ 224. 1120.]"
      ]
     },
     "metadata": {},
     "output_type": "display_data"
    },
    {
     "data": {
      "image/png": "[encoded data removed]",
      "text/plain": [
       "<Figure size 448x336 with 1 Axes>"
      ]
     },
     "metadata": {},
     "output_type": "display_data"
    }
   ],
   "source": [
    "wrap_plot(OUTPUT_DIR + \"om_ol_train_incremental.csv\",\n",
    "          OUTPUT_DIR + \"om_ol_train_incremental_raw.csv\",\n",
    "          OUTPUT_DIR + \"om_ol_train_diff.pdf\")"
   ]
  },
  {
   "cell_type": "markdown",
   "metadata": {},
   "source": [
    "### Original Model Testing\n",
    "Now we proceed with testing the obtained model against the test set **with** and **without** using online learning for the test."
   ]
  },
  {
   "cell_type": "code",
   "execution_count": 15,
   "metadata": {},
   "outputs": [
    {
     "name": "stderr",
     "output_type": "stream",
     "text": [
      "  1%|          | 155/25473 [00:00<00:46, 544.14it/s]"
     ]
    },
    {
     "name": "stderr",
     "output_type": "stream",
     "text": [
      "100%|██████████| 25473/25473 [00:46<00:00, 544.99it/s]\n"
     ]
    }
   ],
   "source": [
    "wrap_test(EnhancedMlpClassifier.load(OUTPUT_DIR + \"om_ol_train\"), OUTPUT_DIR + \"om_ol\", ds=test_ds);"
   ]
  },
  {
   "cell_type": "markdown",
   "metadata": {},
   "source": [
    "### Original Model Testing Plot\n",
    "And we visualize the resulting data for the test."
   ]
  },
  {
   "cell_type": "code",
   "execution_count": 16,
   "metadata": {},
   "outputs": [
    {
     "data": {
      "text/html": [
       "<div>\n",
       "<style scoped>\n",
       "    .dataframe tbody tr th:only-of-type {\n",
       "        vertical-align: middle;\n",
       "    }\n",
       "\n",
       "    .dataframe tbody tr th {\n",
       "        vertical-align: top;\n",
       "    }\n",
       "\n",
       "    .dataframe thead th {\n",
       "        text-align: right;\n",
       "    }\n",
       "</style>\n",
       "<table border=\"1\" class=\"dataframe\">\n",
       "  <thead>\n",
       "    <tr style=\"text-align: right;\">\n",
       "      <th></th>\n",
       "      <th>Accuracy</th>\n",
       "      <th>Recall</th>\n",
       "      <th>Precision</th>\n",
       "      <th>F1</th>\n",
       "      <th>Drifts</th>\n",
       "    </tr>\n",
       "  </thead>\n",
       "  <tbody>\n",
       "    <tr>\n",
       "      <th>With OL</th>\n",
       "      <td>0.974404</td>\n",
       "      <td>0.915239</td>\n",
       "      <td>0.934453</td>\n",
       "      <td>0.924746</td>\n",
       "      <td>[ 1362.  1874.  2642. 13170. 14290. 15154. 177...</td>\n",
       "    </tr>\n",
       "    <tr>\n",
       "      <th>Without OL</th>\n",
       "      <td>0.835983</td>\n",
       "      <td>0.045465</td>\n",
       "      <td>1.000000</td>\n",
       "      <td>0.086976</td>\n",
       "      <td>NaN</td>\n",
       "    </tr>\n",
       "  </tbody>\n",
       "</table>\n",
       "</div>"
      ],
      "text/plain": [
       "            Accuracy    Recall  Precision        F1  \\\n",
       "With OL     0.974404  0.915239   0.934453  0.924746   \n",
       "Without OL  0.835983  0.045465   1.000000  0.086976   \n",
       "\n",
       "                                                       Drifts  \n",
       "With OL     [ 1362.  1874.  2642. 13170. 14290. 15154. 177...  \n",
       "Without OL                                                NaN  "
      ]
     },
     "metadata": {},
     "output_type": "display_data"
    },
    {
     "data": {
      "image/png": "[encoded data removed]",
      "text/plain": [
       "<Figure size 448x336 with 1 Axes>"
      ]
     },
     "metadata": {},
     "output_type": "display_data"
    }
   ],
   "source": [
    "wrap_plot(OUTPUT_DIR + \"om_ol_test_incremental.csv\",\n",
    "          OUTPUT_DIR + \"om_ol_test_incremental_raw.csv\",\n",
    "          OUTPUT_DIR + \"om_ol_test_diff.pdf\")"
   ]
  },
  {
   "cell_type": "markdown",
   "metadata": {},
   "source": [
    "### Pruning Original Model\n",
    "We now take one step back in the process. Suppose we're at the end of the training phase and we decide that somehow our model's architecture is too big. Hence we decide to prune it, to see the effects in concept drifts and see il pruning helps or not the model, which might be overfit to data."
   ]
  },
  {
   "cell_type": "code",
   "execution_count": 17,
   "metadata": {},
   "outputs": [
    {
     "name": "stdout",
     "output_type": "stream",
     "text": [
      "Prune amount 0.1 accuracy Score 0.7017667844522968\n",
      "Prune amount 0.35 accuracy Score 0.7017667844522968\n",
      "Prune amount 0.6 accuracy Score 0.7024734982332156\n",
      "Prune amount 0.85 accuracy Score 0.6830388692579505\n"
     ]
    }
   ],
   "source": [
    "for prune_amount, score, _ in prune_search(EnhancedMlpClassifier.load(OUTPUT_DIR + \"om_ol_train\"), train_ds,\n",
    "                                                            globally_unstructured_connections_l1, PRUNING_AMOUNTS, metric=ORIG_SCORER._score_func):\n",
    "    print(\"Prune amount\", prune_amount, METRIC_NAME, \"Score\", score)"
   ]
  },
  {
   "cell_type": "markdown",
   "metadata": {},
   "source": [
    "We notice that the train set is usable to validate the pruned models, as the performance of the pruned models decreases while increasing the pruning ratio. Not using the dropout rate helped.\n",
    "\n",
    "### Testing of the Pruned Models\n",
    "We proceed by testing the pruned models to check for both differences with the previous original model and between themselves."
   ]
  },
  {
   "cell_type": "code",
   "execution_count": 18,
   "metadata": {},
   "outputs": [
    {
     "name": "stderr",
     "output_type": "stream",
     "text": [
      "  1%|          | 150/25473 [00:00<00:48, 525.33it/s]"
     ]
    },
    {
     "name": "stderr",
     "output_type": "stream",
     "text": [
      "100%|██████████| 25473/25473 [00:48<00:00, 523.19it/s]\n",
      "100%|██████████| 25473/25473 [00:46<00:00, 546.80it/s]\n",
      "100%|██████████| 25473/25473 [00:45<00:00, 564.24it/s]\n",
      "100%|██████████| 25473/25473 [00:44<00:00, 566.17it/s]\n"
     ]
    }
   ],
   "source": [
    "wrap_prune_ratios_test(OUTPUT_DIR + \"om_ol_train\")"
   ]
  },
  {
   "cell_type": "markdown",
   "metadata": {},
   "source": [
    "### Pruned Models Plots\n",
    "Visualize the obtained output data from the test."
   ]
  },
  {
   "cell_type": "code",
   "execution_count": 31,
   "metadata": {},
   "outputs": [
    {
     "data": {
      "text/html": [
       "<div>\n",
       "<style scoped>\n",
       "    .dataframe tbody tr th:only-of-type {\n",
       "        vertical-align: middle;\n",
       "    }\n",
       "\n",
       "    .dataframe tbody tr th {\n",
       "        vertical-align: top;\n",
       "    }\n",
       "\n",
       "    .dataframe thead th {\n",
       "        text-align: right;\n",
       "    }\n",
       "</style>\n",
       "<table border=\"1\" class=\"dataframe\">\n",
       "  <thead>\n",
       "    <tr style=\"text-align: right;\">\n",
       "      <th></th>\n",
       "      <th>Accuracy</th>\n",
       "      <th>Recall</th>\n",
       "      <th>Precision</th>\n",
       "      <th>F1</th>\n",
       "      <th>Drifts</th>\n",
       "      <th>Prune Ratio</th>\n",
       "    </tr>\n",
       "  </thead>\n",
       "  <tbody>\n",
       "    <tr>\n",
       "      <th>With OL</th>\n",
       "      <td>0.974601</td>\n",
       "      <td>0.916381</td>\n",
       "      <td>0.934529</td>\n",
       "      <td>0.925366</td>\n",
       "      <td>[ 1362.  1874.  2642. 13170. 14290. 15122. 176...</td>\n",
       "      <td>0.10</td>\n",
       "    </tr>\n",
       "    <tr>\n",
       "      <th>Without OL</th>\n",
       "      <td>0.835983</td>\n",
       "      <td>0.045465</td>\n",
       "      <td>1.000000</td>\n",
       "      <td>0.086976</td>\n",
       "      <td>NaN</td>\n",
       "      <td>0.10</td>\n",
       "    </tr>\n",
       "    <tr>\n",
       "      <th>With OL</th>\n",
       "      <td>0.972010</td>\n",
       "      <td>0.906557</td>\n",
       "      <td>0.928839</td>\n",
       "      <td>0.917563</td>\n",
       "      <td>[ 1362.  1778.  1906.  2098.  2354. 13138. 142...</td>\n",
       "      <td>0.35</td>\n",
       "    </tr>\n",
       "    <tr>\n",
       "      <th>Without OL</th>\n",
       "      <td>0.835983</td>\n",
       "      <td>0.045465</td>\n",
       "      <td>1.000000</td>\n",
       "      <td>0.086976</td>\n",
       "      <td>NaN</td>\n",
       "      <td>0.35</td>\n",
       "    </tr>\n",
       "    <tr>\n",
       "      <th>With OL</th>\n",
       "      <td>0.973305</td>\n",
       "      <td>0.908613</td>\n",
       "      <td>0.934226</td>\n",
       "      <td>0.921242</td>\n",
       "      <td>[ 1362.  1778.  1906.  2354. 13138. 14290. 151...</td>\n",
       "      <td>0.60</td>\n",
       "    </tr>\n",
       "    <tr>\n",
       "      <th>Without OL</th>\n",
       "      <td>0.836337</td>\n",
       "      <td>0.047521</td>\n",
       "      <td>1.000000</td>\n",
       "      <td>0.090731</td>\n",
       "      <td>NaN</td>\n",
       "      <td>0.60</td>\n",
       "    </tr>\n",
       "    <tr>\n",
       "      <th>With OL</th>\n",
       "      <td>0.972716</td>\n",
       "      <td>0.901988</td>\n",
       "      <td>0.936877</td>\n",
       "      <td>0.919101</td>\n",
       "      <td>[  306.  1906.  2162.  2354. 13138. 14290. 151...</td>\n",
       "      <td>0.85</td>\n",
       "    </tr>\n",
       "    <tr>\n",
       "      <th>Without OL</th>\n",
       "      <td>0.837750</td>\n",
       "      <td>0.055746</td>\n",
       "      <td>1.000000</td>\n",
       "      <td>0.105605</td>\n",
       "      <td>NaN</td>\n",
       "      <td>0.85</td>\n",
       "    </tr>\n",
       "  </tbody>\n",
       "</table>\n",
       "</div>"
      ],
      "text/plain": [
       "            Accuracy    Recall  Precision        F1  \\\n",
       "With OL     0.974601  0.916381   0.934529  0.925366   \n",
       "Without OL  0.835983  0.045465   1.000000  0.086976   \n",
       "With OL     0.972010  0.906557   0.928839  0.917563   \n",
       "Without OL  0.835983  0.045465   1.000000  0.086976   \n",
       "With OL     0.973305  0.908613   0.934226  0.921242   \n",
       "Without OL  0.836337  0.047521   1.000000  0.090731   \n",
       "With OL     0.972716  0.901988   0.936877  0.919101   \n",
       "Without OL  0.837750  0.055746   1.000000  0.105605   \n",
       "\n",
       "                                                       Drifts  Prune Ratio  \n",
       "With OL     [ 1362.  1874.  2642. 13170. 14290. 15122. 176...         0.10  \n",
       "Without OL                                                NaN         0.10  \n",
       "With OL     [ 1362.  1778.  1906.  2098.  2354. 13138. 142...         0.35  \n",
       "Without OL                                                NaN         0.35  \n",
       "With OL     [ 1362.  1778.  1906.  2354. 13138. 14290. 151...         0.60  \n",
       "Without OL                                                NaN         0.60  \n",
       "With OL     [  306.  1906.  2162.  2354. 13138. 14290. 151...         0.85  \n",
       "Without OL                                                NaN         0.85  "
      ]
     },
     "metadata": {},
     "output_type": "display_data"
    },
    {
     "data": {
      "image/png": "[encoded data removed]",
      "text/plain": [
       "<Figure size 1400x350 with 4 Axes>"
      ]
     },
     "metadata": {},
     "output_type": "display_data"
    }
   ],
   "source": [
    "wrap_prune_ratios_plot(OUTPUT_DIR + \"om_ol_train\")"
   ]
  },
  {
   "cell_type": "markdown",
   "metadata": {},
   "source": [
    "Interestingly, all the pruned model were able to achieve an acceptable level of f1-score while enabling online learning during the test phase. Moreover, the model with a pruning ratio of **0.1** achieved a higher f1-score with respect to the parent model (0.925 vs 0.924 in [here](#original-model-testing-plot)). This means that, potentially, pruning redundant and least important connections can bring benefits for concept drifts."
   ]
  },
  {
   "cell_type": "markdown",
   "metadata": {},
   "source": [
    "### Training from scratch of a pruned model with chosen ratio\n",
    "\n",
    "Lastly but not least, let's simulate the training and testing phase from scratch using a model with the pruning ratio of **0.35** also during the training phase, and record the differences."
   ]
  },
  {
   "cell_type": "code",
   "execution_count": 20,
   "metadata": {},
   "outputs": [],
   "source": [
    "best_prune_amount = 0.6"
   ]
  },
  {
   "cell_type": "markdown",
   "metadata": {},
   "source": [
    "### Best Pruned Model Training\n",
    "Retake the training phase with a pruned model from scratch."
   ]
  },
  {
   "cell_type": "code",
   "execution_count": 21,
   "metadata": {},
   "outputs": [
    {
     "name": "stderr",
     "output_type": "stream",
     "text": [
      "  5%|▌         | 155/2830 [00:00<00:04, 537.09it/s]"
     ]
    },
    {
     "name": "stderr",
     "output_type": "stream",
     "text": [
      "100%|██████████| 2830/2830 [00:04<00:00, 588.13it/s]\n"
     ]
    }
   ],
   "source": [
    "wrap_train(globally_unstructured_connections_l1(EnhancedMlpClassifier.load(OUTPUT_DIR + \"om_ol_train\"), best_prune_amount).clone(init=True),\n",
    "           OUTPUT_DIR + f\"pm_ol_retrained_{best_prune_amount}\", ds=train_ds);"
   ]
  },
  {
   "cell_type": "markdown",
   "metadata": {},
   "source": [
    "### Best Pruned Model Training Plot\n",
    "Let's see the result of the training."
   ]
  },
  {
   "cell_type": "code",
   "execution_count": 32,
   "metadata": {},
   "outputs": [
    {
     "data": {
      "text/html": [
       "<div>\n",
       "<style scoped>\n",
       "    .dataframe tbody tr th:only-of-type {\n",
       "        vertical-align: middle;\n",
       "    }\n",
       "\n",
       "    .dataframe tbody tr th {\n",
       "        vertical-align: top;\n",
       "    }\n",
       "\n",
       "    .dataframe thead th {\n",
       "        text-align: right;\n",
       "    }\n",
       "</style>\n",
       "<table border=\"1\" class=\"dataframe\">\n",
       "  <thead>\n",
       "    <tr style=\"text-align: right;\">\n",
       "      <th></th>\n",
       "      <th>Accuracy</th>\n",
       "      <th>Recall</th>\n",
       "      <th>Precision</th>\n",
       "      <th>F1</th>\n",
       "      <th>Drifts</th>\n",
       "    </tr>\n",
       "  </thead>\n",
       "  <tbody>\n",
       "    <tr>\n",
       "      <th>During OL Train</th>\n",
       "      <td>0.932862</td>\n",
       "      <td>0.939873</td>\n",
       "      <td>0.912442</td>\n",
       "      <td>0.925955</td>\n",
       "      <td>[210. 402. 754.]</td>\n",
       "    </tr>\n",
       "  </tbody>\n",
       "</table>\n",
       "</div>"
      ],
      "text/plain": [
       "                 Accuracy    Recall  Precision        F1            Drifts\n",
       "During OL Train  0.932862  0.939873   0.912442  0.925955  [210. 402. 754.]"
      ]
     },
     "metadata": {},
     "output_type": "display_data"
    },
    {
     "data": {
      "image/png": "[encoded data removed]",
      "text/plain": [
       "<Figure size 448x336 with 1 Axes>"
      ]
     },
     "metadata": {},
     "output_type": "display_data"
    }
   ],
   "source": [
    "wrap_plot(OUTPUT_DIR + f\"pm_ol_retrained_{best_prune_amount}_train_incremental.csv\",\n",
    "          OUTPUT_DIR + f\"pm_ol_retrained_{best_prune_amount}_train_incremental_raw.csv\",\n",
    "          OUTPUT_DIR + f\"pm_ol_retrained_{best_prune_amount}_train_diff.pdf\")"
   ]
  },
  {
   "cell_type": "markdown",
   "metadata": {},
   "source": [
    "The pruned model from scratch was able to significantly overtake the original model during the mere train phase with online learning. The final f1-score is 0.833 with respect to 0.789 (see [here](#original-model-train-plot))"
   ]
  },
  {
   "cell_type": "markdown",
   "metadata": {},
   "source": [
    "### Retrained Pruned Model Test\n",
    "Let's continue with the testing phase with and without online learning."
   ]
  },
  {
   "cell_type": "code",
   "execution_count": 23,
   "metadata": {},
   "outputs": [
    {
     "name": "stderr",
     "output_type": "stream",
     "text": [
      "  1%|          | 206/25473 [00:00<00:45, 549.56it/s]"
     ]
    },
    {
     "name": "stderr",
     "output_type": "stream",
     "text": [
      "100%|██████████| 25473/25473 [00:44<00:00, 574.83it/s]\n"
     ]
    }
   ],
   "source": [
    "wrap_test(EnhancedMlpClassifier.load(OUTPUT_DIR + f\"pm_ol_retrained_{best_prune_amount}_train\"),\n",
    "          OUTPUT_DIR + f\"pm_ol_retrained_{best_prune_amount}\", ds=test_ds);"
   ]
  },
  {
   "cell_type": "markdown",
   "metadata": {},
   "source": [
    "### Retrained Pruned Model Test Plot\n",
    "\n",
    "Visualize the output   data."
   ]
  },
  {
   "cell_type": "code",
   "execution_count": 33,
   "metadata": {},
   "outputs": [
    {
     "data": {
      "text/html": [
       "<div>\n",
       "<style scoped>\n",
       "    .dataframe tbody tr th:only-of-type {\n",
       "        vertical-align: middle;\n",
       "    }\n",
       "\n",
       "    .dataframe tbody tr th {\n",
       "        vertical-align: top;\n",
       "    }\n",
       "\n",
       "    .dataframe thead th {\n",
       "        text-align: right;\n",
       "    }\n",
       "</style>\n",
       "<table border=\"1\" class=\"dataframe\">\n",
       "  <thead>\n",
       "    <tr style=\"text-align: right;\">\n",
       "      <th></th>\n",
       "      <th>Accuracy</th>\n",
       "      <th>Recall</th>\n",
       "      <th>Precision</th>\n",
       "      <th>F1</th>\n",
       "      <th>Drifts</th>\n",
       "    </tr>\n",
       "  </thead>\n",
       "  <tbody>\n",
       "    <tr>\n",
       "      <th>With OL</th>\n",
       "      <td>0.976132</td>\n",
       "      <td>0.926891</td>\n",
       "      <td>0.933717</td>\n",
       "      <td>0.930291</td>\n",
       "      <td>[  356.  2148.  9316. 14276. 15108. 19716. 218...</td>\n",
       "    </tr>\n",
       "    <tr>\n",
       "      <th>Without OL</th>\n",
       "      <td>0.830801</td>\n",
       "      <td>0.015307</td>\n",
       "      <td>1.000000</td>\n",
       "      <td>0.030153</td>\n",
       "      <td>NaN</td>\n",
       "    </tr>\n",
       "  </tbody>\n",
       "</table>\n",
       "</div>"
      ],
      "text/plain": [
       "            Accuracy    Recall  Precision        F1  \\\n",
       "With OL     0.976132  0.926891   0.933717  0.930291   \n",
       "Without OL  0.830801  0.015307   1.000000  0.030153   \n",
       "\n",
       "                                                       Drifts  \n",
       "With OL     [  356.  2148.  9316. 14276. 15108. 19716. 218...  \n",
       "Without OL                                                NaN  "
      ]
     },
     "metadata": {},
     "output_type": "display_data"
    },
    {
     "data": {
      "image/png": "[encoded data removed]",
      "text/plain": [
       "<Figure size 448x336 with 1 Axes>"
      ]
     },
     "metadata": {},
     "output_type": "display_data"
    }
   ],
   "source": [
    "wrap_plot(OUTPUT_DIR + f\"pm_ol_retrained_{best_prune_amount}_test_incremental.csv\",\n",
    "          OUTPUT_DIR + f\"pm_ol_retrained_{best_prune_amount}_test_incremental_raw.csv\",\n",
    "          OUTPUT_DIR + f\"pm_ol_retrained_{best_prune_amount}_test_diff.pdf\")"
   ]
  },
  {
   "cell_type": "markdown",
   "metadata": {},
   "source": [
    "Interestingly, the model pruned from scratch achieves very high performance anyway. However, we recall that in the previous case the model pruned after the training phase was able to achieve 0.921 of f1-score ([here](#pruned-models-plots)), while here it achieves 0.930. This suggests that pruning can be useful from scratch."
   ]
  },
  {
   "cell_type": "markdown",
   "metadata": {},
   "source": [
    "## Training an Original Model in the Traditional Fashion and Testing in both cases\n",
    "\n",
    "In this section, we leverage MLP models trained in the traditional way, meaning using the test set for multiple epochs of training using as an early stopping condition. Note that there is no validation set here, to be coherent with data presented in the PWPAE paper. The idea is to check whether also using a traditionally-obtained model is susceptible to concept drifts, and if also in this case the pruning can help."
   ]
  },
  {
   "cell_type": "markdown",
   "metadata": {},
   "source": [
    "### Traditional Model Train\n",
    "\n",
    "We now train the original model."
   ]
  },
  {
   "cell_type": "code",
   "execution_count": 25,
   "metadata": {},
   "outputs": [],
   "source": [
    "wrap_train_normal()"
   ]
  },
  {
   "cell_type": "markdown",
   "metadata": {},
   "source": [
    "### Traditional Model Train Plot\n",
    "\n",
    "We visualize the history of the training process, from the loss functions perspective."
   ]
  },
  {
   "cell_type": "code",
   "execution_count": 26,
   "metadata": {},
   "outputs": [
    {
     "data": {
      "image/png": "[encoded data removed]",
      "text/plain": [
       "<Figure size 448x336 with 1 Axes>"
      ]
     },
     "metadata": {},
     "output_type": "display_data"
    }
   ],
   "source": [
    "wrap_train_normal_plot(OUTPUT_DIR + f\"om_tl_train_{BATCH_SIZE}\")"
   ]
  },
  {
   "cell_type": "markdown",
   "metadata": {},
   "source": [
    "### Traditional Model Test\n",
    "\n",
    "Let's test this obtained traditional model with and without online learning, and compare."
   ]
  },
  {
   "cell_type": "code",
   "execution_count": 27,
   "metadata": {},
   "outputs": [
    {
     "name": "stderr",
     "output_type": "stream",
     "text": [
      "  1%|          | 219/25473 [00:00<00:43, 577.83it/s]"
     ]
    },
    {
     "name": "stderr",
     "output_type": "stream",
     "text": [
      "100%|██████████| 25473/25473 [00:45<00:00, 559.01it/s]\n"
     ]
    }
   ],
   "source": [
    "wrap_test(EnhancedMlpClassifier.load(OUTPUT_DIR + f\"om_tl_train_{BATCH_SIZE}\"), OUTPUT_DIR + f\"om_tl_train_{BATCH_SIZE}\");"
   ]
  },
  {
   "cell_type": "markdown",
   "metadata": {},
   "source": [
    "### Traditional Model Test Plot\n",
    "\n",
    "Visualize the outcome."
   ]
  },
  {
   "cell_type": "code",
   "execution_count": 34,
   "metadata": {},
   "outputs": [
    {
     "data": {
      "text/html": [
       "<div>\n",
       "<style scoped>\n",
       "    .dataframe tbody tr th:only-of-type {\n",
       "        vertical-align: middle;\n",
       "    }\n",
       "\n",
       "    .dataframe tbody tr th {\n",
       "        vertical-align: top;\n",
       "    }\n",
       "\n",
       "    .dataframe thead th {\n",
       "        text-align: right;\n",
       "    }\n",
       "</style>\n",
       "<table border=\"1\" class=\"dataframe\">\n",
       "  <thead>\n",
       "    <tr style=\"text-align: right;\">\n",
       "      <th></th>\n",
       "      <th>Accuracy</th>\n",
       "      <th>Recall</th>\n",
       "      <th>Precision</th>\n",
       "      <th>F1</th>\n",
       "      <th>Drifts</th>\n",
       "    </tr>\n",
       "  </thead>\n",
       "  <tbody>\n",
       "    <tr>\n",
       "      <th>With OL</th>\n",
       "      <td>0.980803</td>\n",
       "      <td>0.934658</td>\n",
       "      <td>0.952725</td>\n",
       "      <td>0.943605</td>\n",
       "      <td>[ 2048.  4256. 14240. 15072. 19680. 21888. 222...</td>\n",
       "    </tr>\n",
       "    <tr>\n",
       "      <th>Without OL</th>\n",
       "      <td>0.895890</td>\n",
       "      <td>0.425406</td>\n",
       "      <td>0.931466</td>\n",
       "      <td>0.584065</td>\n",
       "      <td>NaN</td>\n",
       "    </tr>\n",
       "  </tbody>\n",
       "</table>\n",
       "</div>"
      ],
      "text/plain": [
       "            Accuracy    Recall  Precision        F1  \\\n",
       "With OL     0.980803  0.934658   0.952725  0.943605   \n",
       "Without OL  0.895890  0.425406   0.931466  0.584065   \n",
       "\n",
       "                                                       Drifts  \n",
       "With OL     [ 2048.  4256. 14240. 15072. 19680. 21888. 222...  \n",
       "Without OL                                                NaN  "
      ]
     },
     "metadata": {},
     "output_type": "display_data"
    },
    {
     "data": {
      "image/png": "[encoded data removed]",
      "text/plain": [
       "<Figure size 448x336 with 1 Axes>"
      ]
     },
     "metadata": {},
     "output_type": "display_data"
    }
   ],
   "source": [
    "wrap_plot(OUTPUT_DIR + f\"om_tl_train_{BATCH_SIZE}_test_incremental.csv\",\n",
    "          OUTPUT_DIR + f\"om_tl_train_{BATCH_SIZE}_test_incremental_raw.csv\",\n",
    "          OUTPUT_DIR + \"om_tl_test_diff.pdf\")"
   ]
  },
  {
   "cell_type": "markdown",
   "metadata": {},
   "source": [
    "We demonstrated that also in this case it is needed to adopt online learning to react to concept drifts. However, the originally trained model is slightly more robust than the one obtained in the previous section ([here](#original-model-train-plot)): this might be because of the traditional train process, which takes multiple steps using the same data, so the model can better adapt to intrinsic connections."
   ]
  },
  {
   "cell_type": "markdown",
   "metadata": {},
   "source": [
    "### Traditional Model Pruning\n",
    "\n",
    "We proceed as in the previous section, with pruning the training model and re-testing it."
   ]
  },
  {
   "cell_type": "code",
   "execution_count": 29,
   "metadata": {},
   "outputs": [
    {
     "name": "stdout",
     "output_type": "stream",
     "text": [
      "Prune amount 0.1 accuracy Score 0.9918727915194346\n",
      "Prune amount 0.35 accuracy Score 0.9918727915194346\n",
      "Prune amount 0.6 accuracy Score 0.9784452296819788\n",
      "Prune amount 0.85 accuracy Score 0.8148409893992933\n"
     ]
    }
   ],
   "source": [
    "for prune_amount, score, _ in prune_search(EnhancedMlpClassifier.load(OUTPUT_DIR + f\"om_tl_train_{BATCH_SIZE}\"), train_ds, globally_unstructured_connections_l1, PRUNING_AMOUNTS, metric=ORIG_SCORER._score_func):\n",
    "    print(\"Prune amount\", prune_amount, METRIC_NAME, \"Score\", score)"
   ]
  },
  {
   "cell_type": "markdown",
   "metadata": {},
   "source": [
    "Differently than in the previous case ([here](#pruning-original-model)), here we can see that it is possible to have an overall idea of what happens during the pruning process. The higher the pruning ratio, the more degraded would be the performance of the model against the previously learned train set."
   ]
  },
  {
   "cell_type": "markdown",
   "metadata": {},
   "source": [
    "### Traditional Pruned Models Test\n",
    "\n",
    "Proceed with the testing phase, with and without online learning."
   ]
  },
  {
   "cell_type": "code",
   "execution_count": 30,
   "metadata": {},
   "outputs": [
    {
     "name": "stderr",
     "output_type": "stream",
     "text": [
      "  1%|          | 213/25473 [00:00<00:45, 561.17it/s]"
     ]
    },
    {
     "name": "stderr",
     "output_type": "stream",
     "text": [
      "100%|██████████| 25473/25473 [00:47<00:00, 536.08it/s]\n",
      "100%|██████████| 25473/25473 [00:45<00:00, 557.56it/s]\n",
      "100%|██████████| 25473/25473 [00:45<00:00, 563.72it/s]\n",
      "100%|██████████| 25473/25473 [00:44<00:00, 577.54it/s]\n"
     ]
    }
   ],
   "source": [
    "wrap_prune_ratios_test(OUTPUT_DIR + f\"om_tl_train_{BATCH_SIZE}\")"
   ]
  },
  {
   "cell_type": "markdown",
   "metadata": {},
   "source": [
    "### Traditional Pruned Models Test Plots\n",
    "\n",
    "Visualize the outcome, comparing the metrics."
   ]
  },
  {
   "cell_type": "code",
   "execution_count": 35,
   "metadata": {},
   "outputs": [
    {
     "data": {
      "text/html": [
       "<div>\n",
       "<style scoped>\n",
       "    .dataframe tbody tr th:only-of-type {\n",
       "        vertical-align: middle;\n",
       "    }\n",
       "\n",
       "    .dataframe tbody tr th {\n",
       "        vertical-align: top;\n",
       "    }\n",
       "\n",
       "    .dataframe thead th {\n",
       "        text-align: right;\n",
       "    }\n",
       "</style>\n",
       "<table border=\"1\" class=\"dataframe\">\n",
       "  <thead>\n",
       "    <tr style=\"text-align: right;\">\n",
       "      <th></th>\n",
       "      <th>Accuracy</th>\n",
       "      <th>Recall</th>\n",
       "      <th>Precision</th>\n",
       "      <th>F1</th>\n",
       "      <th>Drifts</th>\n",
       "      <th>Prune Ratio</th>\n",
       "    </tr>\n",
       "  </thead>\n",
       "  <tbody>\n",
       "    <tr>\n",
       "      <th>With OL</th>\n",
       "      <td>0.980882</td>\n",
       "      <td>0.933973</td>\n",
       "      <td>0.953803</td>\n",
       "      <td>0.943784</td>\n",
       "      <td>[ 2048.  4256. 14240. 15168. 17728. 20032. 218...</td>\n",
       "      <td>0.10</td>\n",
       "    </tr>\n",
       "    <tr>\n",
       "      <th>Without OL</th>\n",
       "      <td>0.895890</td>\n",
       "      <td>0.425406</td>\n",
       "      <td>0.931466</td>\n",
       "      <td>0.584065</td>\n",
       "      <td>NaN</td>\n",
       "      <td>0.10</td>\n",
       "    </tr>\n",
       "    <tr>\n",
       "      <th>With OL</th>\n",
       "      <td>0.980136</td>\n",
       "      <td>0.937629</td>\n",
       "      <td>0.946276</td>\n",
       "      <td>0.941933</td>\n",
       "      <td>[ 2048.  4256. 14240. 15072. 19680. 21888. 221...</td>\n",
       "      <td>0.35</td>\n",
       "    </tr>\n",
       "    <tr>\n",
       "      <th>Without OL</th>\n",
       "      <td>0.895890</td>\n",
       "      <td>0.425406</td>\n",
       "      <td>0.931466</td>\n",
       "      <td>0.584065</td>\n",
       "      <td>NaN</td>\n",
       "      <td>0.35</td>\n",
       "    </tr>\n",
       "    <tr>\n",
       "      <th>With OL</th>\n",
       "      <td>0.980960</td>\n",
       "      <td>0.933745</td>\n",
       "      <td>0.954461</td>\n",
       "      <td>0.943989</td>\n",
       "      <td>[ 2048.  7072. 14304. 15328. 19424. 21760. 221...</td>\n",
       "      <td>0.60</td>\n",
       "    </tr>\n",
       "    <tr>\n",
       "      <th>Without OL</th>\n",
       "      <td>0.883642</td>\n",
       "      <td>0.326479</td>\n",
       "      <td>0.988927</td>\n",
       "      <td>0.490897</td>\n",
       "      <td>NaN</td>\n",
       "      <td>0.60</td>\n",
       "    </tr>\n",
       "    <tr>\n",
       "      <th>With OL</th>\n",
       "      <td>0.976720</td>\n",
       "      <td>0.910212</td>\n",
       "      <td>0.952199</td>\n",
       "      <td>0.930732</td>\n",
       "      <td>[  416.  1952.  2592. 13184. 14272. 15104. 192...</td>\n",
       "      <td>0.85</td>\n",
       "    </tr>\n",
       "    <tr>\n",
       "      <th>Without OL</th>\n",
       "      <td>0.878420</td>\n",
       "      <td>0.312086</td>\n",
       "      <td>0.940771</td>\n",
       "      <td>0.468691</td>\n",
       "      <td>NaN</td>\n",
       "      <td>0.85</td>\n",
       "    </tr>\n",
       "  </tbody>\n",
       "</table>\n",
       "</div>"
      ],
      "text/plain": [
       "            Accuracy    Recall  Precision        F1  \\\n",
       "With OL     0.980882  0.933973   0.953803  0.943784   \n",
       "Without OL  0.895890  0.425406   0.931466  0.584065   \n",
       "With OL     0.980136  0.937629   0.946276  0.941933   \n",
       "Without OL  0.895890  0.425406   0.931466  0.584065   \n",
       "With OL     0.980960  0.933745   0.954461  0.943989   \n",
       "Without OL  0.883642  0.326479   0.988927  0.490897   \n",
       "With OL     0.976720  0.910212   0.952199  0.930732   \n",
       "Without OL  0.878420  0.312086   0.940771  0.468691   \n",
       "\n",
       "                                                       Drifts  Prune Ratio  \n",
       "With OL     [ 2048.  4256. 14240. 15168. 17728. 20032. 218...         0.10  \n",
       "Without OL                                                NaN         0.10  \n",
       "With OL     [ 2048.  4256. 14240. 15072. 19680. 21888. 221...         0.35  \n",
       "Without OL                                                NaN         0.35  \n",
       "With OL     [ 2048.  7072. 14304. 15328. 19424. 21760. 221...         0.60  \n",
       "Without OL                                                NaN         0.60  \n",
       "With OL     [  416.  1952.  2592. 13184. 14272. 15104. 192...         0.85  \n",
       "Without OL                                                NaN         0.85  "
      ]
     },
     "metadata": {},
     "output_type": "display_data"
    },
    {
     "data": {
      "image/png": "[encoded data removed]",
      "text/plain": [
       "<Figure size 1400x350 with 4 Axes>"
      ]
     },
     "metadata": {},
     "output_type": "display_data"
    }
   ],
   "source": [
    "wrap_prune_ratios_plot(OUTPUT_DIR + f\"om_tl_train_{BATCH_SIZE}\")"
   ]
  },
  {
   "cell_type": "markdown",
   "metadata": {},
   "source": [
    "Differently than in the previous case ([here](#pruned-models-plots)), here the most performant models are those with a pruning ratio of 0.1 and 0.6 with a score of 0.943, which is still slightly lower than the previous case, but also slightly above the original model."
   ]
  },
  {
   "cell_type": "markdown",
   "metadata": {},
   "source": [
    "### Best Traditional Pruned Model Retraining\n",
    "\n",
    "As in the previous case, now we suppose to use that pruning ratio since the beginning, training a pruned model and then testing it."
   ]
  },
  {
   "cell_type": "code",
   "execution_count": 36,
   "metadata": {},
   "outputs": [],
   "source": [
    "best_prune_amount = 0.6"
   ]
  },
  {
   "cell_type": "code",
   "execution_count": 38,
   "metadata": {},
   "outputs": [
    {
     "name": "stderr",
     "output_type": "stream",
     "text": [
      "/home/ubuntu/magnani_simone/intellect_private/.venv/lib/python3.10/site-packages/sklearn/neural_network/_multilayer_perceptron.py:686: ConvergenceWarning: Stochastic Optimizer: Maximum iterations (100) reached and the optimization hasn't converged yet.\n",
      "  warnings.warn(\n"
     ]
    }
   ],
   "source": [
    "wrap_train_normal(prune_amount=best_prune_amount)"
   ]
  },
  {
   "cell_type": "markdown",
   "metadata": {},
   "source": [
    "### Best Traditional Pruned Model Retraining Plot\n",
    "\n",
    "And visualize the training result."
   ]
  },
  {
   "cell_type": "code",
   "execution_count": 39,
   "metadata": {},
   "outputs": [
    {
     "data": {
      "image/png": "[encoded data removed]",
      "text/plain": [
       "<Figure size 448x336 with 1 Axes>"
      ]
     },
     "metadata": {},
     "output_type": "display_data"
    }
   ],
   "source": [
    "wrap_train_normal_plot(OUTPUT_DIR + f\"pm_tl_retrained_{BATCH_SIZE}_{best_prune_amount}\")"
   ]
  },
  {
   "cell_type": "markdown",
   "metadata": {},
   "source": [
    "### Best Traditional Pruned Model Test\n",
    "\n",
    "Proceed with the testing phase."
   ]
  },
  {
   "cell_type": "code",
   "execution_count": 41,
   "metadata": {},
   "outputs": [
    {
     "name": "stderr",
     "output_type": "stream",
     "text": [
      "  1%|          | 218/25473 [00:00<00:43, 577.27it/s]"
     ]
    },
    {
     "name": "stderr",
     "output_type": "stream",
     "text": [
      "100%|██████████| 25473/25473 [00:42<00:00, 594.51it/s]\n"
     ]
    }
   ],
   "source": [
    "wrap_test(EnhancedMlpClassifier.load(OUTPUT_DIR + f\"pm_tl_retrained_{BATCH_SIZE}_{best_prune_amount}\"),\n",
    "          OUTPUT_DIR + f\"pm_tl_retrained_{BATCH_SIZE}_{best_prune_amount}\", ds=test_ds);"
   ]
  },
  {
   "cell_type": "markdown",
   "metadata": {},
   "source": [
    "### Best Traditional Pruned Model Test Plot\n",
    "\n",
    "Let's see the outcome of the testing phase."
   ]
  },
  {
   "cell_type": "code",
   "execution_count": 42,
   "metadata": {},
   "outputs": [
    {
     "data": {
      "text/html": [
       "<div>\n",
       "<style scoped>\n",
       "    .dataframe tbody tr th:only-of-type {\n",
       "        vertical-align: middle;\n",
       "    }\n",
       "\n",
       "    .dataframe tbody tr th {\n",
       "        vertical-align: top;\n",
       "    }\n",
       "\n",
       "    .dataframe thead th {\n",
       "        text-align: right;\n",
       "    }\n",
       "</style>\n",
       "<table border=\"1\" class=\"dataframe\">\n",
       "  <thead>\n",
       "    <tr style=\"text-align: right;\">\n",
       "      <th></th>\n",
       "      <th>Accuracy</th>\n",
       "      <th>Recall</th>\n",
       "      <th>Precision</th>\n",
       "      <th>F1</th>\n",
       "      <th>Drifts</th>\n",
       "    </tr>\n",
       "  </thead>\n",
       "  <tbody>\n",
       "    <tr>\n",
       "      <th>With OL</th>\n",
       "      <td>0.979115</td>\n",
       "      <td>0.926662</td>\n",
       "      <td>0.950551</td>\n",
       "      <td>0.938454</td>\n",
       "      <td>[ 1888.  2784. 13184. 14304. 15328. 19776. 218...</td>\n",
       "    </tr>\n",
       "    <tr>\n",
       "      <th>Without OL</th>\n",
       "      <td>0.897853</td>\n",
       "      <td>0.451222</td>\n",
       "      <td>0.908046</td>\n",
       "      <td>0.602869</td>\n",
       "      <td>NaN</td>\n",
       "    </tr>\n",
       "  </tbody>\n",
       "</table>\n",
       "</div>"
      ],
      "text/plain": [
       "            Accuracy    Recall  Precision        F1  \\\n",
       "With OL     0.979115  0.926662   0.950551  0.938454   \n",
       "Without OL  0.897853  0.451222   0.908046  0.602869   \n",
       "\n",
       "                                                       Drifts  \n",
       "With OL     [ 1888.  2784. 13184. 14304. 15328. 19776. 218...  \n",
       "Without OL                                                NaN  "
      ]
     },
     "metadata": {},
     "output_type": "display_data"
    },
    {
     "data": {
      "image/png": "[encoded data removed]",
      "text/plain": [
       "<Figure size 448x336 with 1 Axes>"
      ]
     },
     "metadata": {},
     "output_type": "display_data"
    }
   ],
   "source": [
    "wrap_plot(OUTPUT_DIR + f\"pm_tl_retrained_{BATCH_SIZE}_{best_prune_amount}_test_incremental.csv\",\n",
    "          OUTPUT_DIR + f\"pm_tl_retrained_{BATCH_SIZE}_{best_prune_amount}_test_incremental_raw.csv\",\n",
    "          OUTPUT_DIR + f\"pm_tl_retrained_{BATCH_SIZE}_{best_prune_amount}_test_diff.pdf\")"
   ]
  },
  {
   "cell_type": "markdown",
   "metadata": {},
   "source": [
    "Here we notice the very high f1-score of 0.938, similar to the one obtained in the previous steps. This score is above those obtained by the original model trained in the traditional fashion, pointing out the importance of pruning."
   ]
  },
  {
   "cell_type": "markdown",
   "metadata": {},
   "source": [
    "### Ensemble with Online Learning and both Original Model and Pruned Ones\n",
    "\n",
    "Now, run the online learning of a **LeverageBagging**. This classifier leverages multiple underlying copies of the model for the training and inference of the samples."
   ]
  },
  {
   "cell_type": "markdown",
   "metadata": {},
   "source": [
    "Start with a new untrained Mlp and create and ensemble of 3 models. Train using OL and then test in both ways."
   ]
  },
  {
   "cell_type": "code",
   "execution_count": 43,
   "metadata": {},
   "outputs": [
    {
     "name": "stderr",
     "output_type": "stream",
     "text": [
      "  1%|          | 19/2830 [00:00<01:03, 44.22it/s]"
     ]
    },
    {
     "name": "stderr",
     "output_type": "stream",
     "text": [
      "100%|██████████| 2830/2830 [01:05<00:00, 43.11it/s]\n"
     ]
    }
   ],
   "source": [
    "set_seed()\n",
    "\n",
    "x = EnhancedMlpClassifier(train_ds.classes, hidden_layer_sizes=(HIDDEN_UNITS,)*HIDDEN_LAYERS, dropout=DROPOUT_HIDDEN, drift_detector=drift.ADWIN(),\n",
    "                                                       max_iter=TRAIN_EPOCHS, validation_fraction=0., batch_size=1)\n",
    "bag = WrapRiverEnsemble(ensemble.LeveragingBaggingClassifier, model=x, n_models=3)\n",
    "wrap_train(bag, OUTPUT_DIR + \"bagging_om\", ds=train_ds);"
   ]
  },
  {
   "cell_type": "code",
   "execution_count": 44,
   "metadata": {},
   "outputs": [
    {
     "name": "stderr",
     "output_type": "stream",
     "text": [
      "100%|██████████| 25473/25473 [11:11<00:00, 37.96it/s]\n"
     ]
    }
   ],
   "source": [
    "wrap_test(load(OUTPUT_DIR + \"bagging_om_train\"), OUTPUT_DIR + \"bagging_om\", ds=test_ds);"
   ]
  },
  {
   "cell_type": "code",
   "execution_count": 46,
   "metadata": {},
   "outputs": [
    {
     "data": {
      "text/html": [
       "<div>\n",
       "<style scoped>\n",
       "    .dataframe tbody tr th:only-of-type {\n",
       "        vertical-align: middle;\n",
       "    }\n",
       "\n",
       "    .dataframe tbody tr th {\n",
       "        vertical-align: top;\n",
       "    }\n",
       "\n",
       "    .dataframe thead th {\n",
       "        text-align: right;\n",
       "    }\n",
       "</style>\n",
       "<table border=\"1\" class=\"dataframe\">\n",
       "  <thead>\n",
       "    <tr style=\"text-align: right;\">\n",
       "      <th></th>\n",
       "      <th>Accuracy</th>\n",
       "      <th>Recall</th>\n",
       "      <th>Precision</th>\n",
       "      <th>F1</th>\n",
       "      <th>Drifts</th>\n",
       "    </tr>\n",
       "  </thead>\n",
       "  <tbody>\n",
       "    <tr>\n",
       "      <th>With OL</th>\n",
       "      <td>0.980842</td>\n",
       "      <td>0.936486</td>\n",
       "      <td>0.951265</td>\n",
       "      <td>0.943818</td>\n",
       "      <td>[0. 0. 0. 0. 0. 0. 0. 0. 0.]</td>\n",
       "    </tr>\n",
       "    <tr>\n",
       "      <th>Without OL</th>\n",
       "      <td>0.828171</td>\n",
       "      <td>0.000000</td>\n",
       "      <td>0.000000</td>\n",
       "      <td>0.000000</td>\n",
       "      <td>NaN</td>\n",
       "    </tr>\n",
       "  </tbody>\n",
       "</table>\n",
       "</div>"
      ],
      "text/plain": [
       "            Accuracy    Recall  Precision        F1  \\\n",
       "With OL     0.980842  0.936486   0.951265  0.943818   \n",
       "Without OL  0.828171  0.000000   0.000000  0.000000   \n",
       "\n",
       "                                  Drifts  \n",
       "With OL     [0. 0. 0. 0. 0. 0. 0. 0. 0.]  \n",
       "Without OL                           NaN  "
      ]
     },
     "metadata": {},
     "output_type": "display_data"
    },
    {
     "data": {
      "image/png": "[encoded data removed]",
      "text/plain": [
       "<Figure size 448x336 with 1 Axes>"
      ]
     },
     "metadata": {},
     "output_type": "display_data"
    }
   ],
   "source": [
    "wrap_plot(OUTPUT_DIR + \"bagging_om_test_incremental.csv\",\n",
    "          OUTPUT_DIR + \"bagging_om_test_incremental_raw.csv\",\n",
    "          OUTPUT_DIR + \"bagging_om_test_test_diff.pdf\")"
   ]
  },
  {
   "cell_type": "markdown",
   "metadata": {},
   "source": [
    "Now, try with a new **PM** with the same pruned parameters of the best one previously obtained."
   ]
  },
  {
   "cell_type": "code",
   "execution_count": 49,
   "metadata": {},
   "outputs": [
    {
     "name": "stderr",
     "output_type": "stream",
     "text": [
      "100%|██████████| 2830/2830 [01:05<00:00, 43.07it/s]\n"
     ]
    }
   ],
   "source": [
    "set_seed()\n",
    "\n",
    "x = globally_unstructured_connections_l1(EnhancedMlpClassifier.load(OUTPUT_DIR + f\"om_tl_train_{BATCH_SIZE}\"), best_prune_amount).clone(init=True)\n",
    "bag = WrapRiverEnsemble(ensemble.LeveragingBaggingClassifier, model=x, n_models=3)\n",
    "wrap_train(bag, OUTPUT_DIR + \"bagging_pm\", ds=train_ds);"
   ]
  },
  {
   "cell_type": "code",
   "execution_count": 51,
   "metadata": {},
   "outputs": [
    {
     "name": "stderr",
     "output_type": "stream",
     "text": [
      "100%|██████████| 25473/25473 [10:56<00:00, 38.82it/s]\n"
     ]
    }
   ],
   "source": [
    "wrap_test(load(OUTPUT_DIR + \"bagging_pm_train\"), OUTPUT_DIR + \"bagging_pm\", ds=test_ds);"
   ]
  },
  {
   "cell_type": "code",
   "execution_count": 52,
   "metadata": {},
   "outputs": [
    {
     "data": {
      "text/html": [
       "<div>\n",
       "<style scoped>\n",
       "    .dataframe tbody tr th:only-of-type {\n",
       "        vertical-align: middle;\n",
       "    }\n",
       "\n",
       "    .dataframe tbody tr th {\n",
       "        vertical-align: top;\n",
       "    }\n",
       "\n",
       "    .dataframe thead th {\n",
       "        text-align: right;\n",
       "    }\n",
       "</style>\n",
       "<table border=\"1\" class=\"dataframe\">\n",
       "  <thead>\n",
       "    <tr style=\"text-align: right;\">\n",
       "      <th></th>\n",
       "      <th>Accuracy</th>\n",
       "      <th>Recall</th>\n",
       "      <th>Precision</th>\n",
       "      <th>F1</th>\n",
       "      <th>Drifts</th>\n",
       "    </tr>\n",
       "  </thead>\n",
       "  <tbody>\n",
       "    <tr>\n",
       "      <th>With OL</th>\n",
       "      <td>0.980607</td>\n",
       "      <td>0.932602</td>\n",
       "      <td>0.953516</td>\n",
       "      <td>0.942943</td>\n",
       "      <td>[0. 0. 0. 0. 0. 0. 0. 0.]</td>\n",
       "    </tr>\n",
       "    <tr>\n",
       "      <th>Without OL</th>\n",
       "      <td>0.828171</td>\n",
       "      <td>0.000000</td>\n",
       "      <td>0.000000</td>\n",
       "      <td>0.000000</td>\n",
       "      <td>NaN</td>\n",
       "    </tr>\n",
       "  </tbody>\n",
       "</table>\n",
       "</div>"
      ],
      "text/plain": [
       "            Accuracy    Recall  Precision        F1                     Drifts\n",
       "With OL     0.980607  0.932602   0.953516  0.942943  [0. 0. 0. 0. 0. 0. 0. 0.]\n",
       "Without OL  0.828171  0.000000   0.000000  0.000000                        NaN"
      ]
     },
     "metadata": {},
     "output_type": "display_data"
    },
    {
     "data": {
      "image/png": "[encoded data removed]",
      "text/plain": [
       "<Figure size 448x336 with 1 Axes>"
      ]
     },
     "metadata": {},
     "output_type": "display_data"
    }
   ],
   "source": [
    "wrap_plot(OUTPUT_DIR + \"bagging_pm_test_incremental.csv\",\n",
    "          OUTPUT_DIR + \"bagging_pm_test_incremental_raw.csv\",\n",
    "          OUTPUT_DIR + \"bagging_pm_diff.pdf\")"
   ]
  }
 ],
 "metadata": {
  "kernelspec": {
   "display_name": ".venv",
   "language": "python",
   "name": "python3"
  },
  "language_info": {
   "codemirror_mode": {
    "name": "ipython",
    "version": 3
   },
   "file_extension": ".py",
   "mimetype": "text/x-python",
   "name": "python",
   "nbconvert_exporter": "python",
   "pygments_lexer": "ipython3",
   "version": "3.10.12"
  },
  "orig_nbformat": 4
 },
 "nbformat": 4,
 "nbformat_minor": 2
}
