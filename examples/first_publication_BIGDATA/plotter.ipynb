{
 "cells": [
  {
   "cell_type": "markdown",
   "metadata": {},
   "source": [
    "Import all the needed libraries."
   ]
  },
  {
   "cell_type": "code",
   "execution_count": null,
   "metadata": {},
   "outputs": [],
   "source": [
    "import pandas as pd\n",
    "import matplotlib.pyplot as plt\n",
    "from matplotlib import cm\n",
    "import json\n",
    "plt.style.use('../presentation.mplstyle')"
   ]
  },
  {
   "cell_type": "markdown",
   "metadata": {},
   "source": [
    "Variables for running the notebook."
   ]
  },
  {
   "cell_type": "code",
   "execution_count": null,
   "metadata": {},
   "outputs": [],
   "source": [
    "METRIC=\"accuracy\"\n",
    "DATASET=\"ICS-D1\"\n",
    "GREEDY_STRATEGY=\"sequential_backward_elimination\"\n",
    "EVALUATION_ALGORITHM=\"custom\"\n",
    "REMAINING_APPROACH=\"random\"\n",
    "PRUNING_ALGORITHM=\"locally_neurons_l1\"\n",
    "PRUNE_AMOUNT=[]\n",
    "\n",
    "SUBSETS_SIZE_AMOUNTS=[0.05, 0.10, 0.15, 0.20, 0.25, 0.30, 0.35, 0.40, 0.45, 0.50, 0.55, 0.60, 0.65, 0.70, 0.75, 0.80, 0.85, 0.90, 0.95]\n",
    "BEST_FEATURES_FOR_SUBSET_AMOUNTS=[0.00, 0.05, 0.10, 0.15, 0.20, 0.25, 0.30, 0.35, 0.40, 0.45, 0.50, 0.55, 0.60, 0.65, 0.70, 0.75, 0.80, 0.85, 0.90, 0.95, 1.00]\n",
    "MODEL_PRUNING_AMOUNTS=[0.00, 0.05, 0.10, 0.15, 0.20, 0.25, 0.30, 0.35, 0.40, 0.45, 0.50, 0.55, 0.60, 0.65, 0.70, 0.75, 0.80, 0.85, 0.90, 0.95, 1.00]\n",
    "\n",
    "AUTOML_DIRECTORY=f\"../datasets/{DATASET}/balanced/automl_search\"\n",
    "BEST_MODEL_DIRECTORY=f\"{AUTOML_DIRECTORY}/models/best_model\"\n",
    "GREEDY_RANK_DIRECTORY=f\"{BEST_MODEL_DIRECTORY}/feature_ranking_{GREEDY_STRATEGY}_{EVALUATION_ALGORITHM}\"\n",
    "FEATURE_SUBSETS_DIRECTORY=f\"{GREEDY_RANK_DIRECTORY}/feature_subset_stochastic_search_{REMAINING_APPROACH}\"\n",
    "PRUNED_MODELS_DIRECTORY=f\"{BEST_MODEL_DIRECTORY}/prune_search/{PRUNING_ALGORITHM}\""
   ]
  },
  {
   "cell_type": "code",
   "execution_count": null,
   "metadata": {},
   "outputs": [],
   "source": [
    "\"\"\"\n",
    "final = pd.DataFrame()\n",
    "for dataset in [\"EDGE2022\", \"CICIDS2017\", \"ICS-D1\"]:\n",
    "    for pruning in [\"locally_neurons_l1\", \"locally_connections_l1\", \"globally_connections_l1\", \"globally_connections_random\"]:\n",
    "        df = pd.DataFrame()\n",
    "        for x in SUBSETS_SIZE_AMOUNTS:\n",
    "            tmp = pd.read_csv(f\"../datasets/{dataset}/balanced/automl_search/models/best_model/feature_ranking_{GREEDY_STRATEGY}_{EVALUATION_ALGORITHM}/feature_subset_stochastic_search_{REMAINING_APPROACH}/feature_subsets_{x:.2f}s/leaderboard_{pruning}.csv\", index_col=\"ID\")\n",
    "            tmp = tmp.iloc[:1]\n",
    "            tmp['kind'] = f\"{x:.2f}\"\n",
    "            tmp['dataset'] = dataset\n",
    "            tmp['algorithm'] = \"\".join([x[0] if len(x) > 2 else x for x in pruning.split(\"_\")]).upper()\n",
    "            df = pd.concat((df, tmp))\n",
    "        df.sort_values('kind', inplace=True, ascending=False)\n",
    "        models_stats = pd.read_csv(f\"../datasets/{dataset}/balanced/automl_search/models/best_model/prune_search/{pruning}/models_stats.csv\", index_col=\"ID\")\n",
    "        score_with_pruning_amounts = df.join(models_stats, on=\"model_ID\", how='left')\n",
    "        if \"locally_\" in pruning:\n",
    "            import ast\n",
    "            score_with_pruning_amounts[\"amount\"] = score_with_pruning_amounts[\"amount\"].apply(lambda x: round(sum(x for x in ast.literal_eval(x))/len(ast.literal_eval(x)), 2))\n",
    "        \n",
    "        final = pd.concat((final, score_with_pruning_amounts))\n",
    "minimums_baseline = final.groupby([\"dataset\", \"kind\", \"algorithm\"]).agg({'degradation_full_baseline':'first', \"degradation_at_rank\": \"first\", \"degradation_at_subset\": \"first\", \"amount\": \"first\"})\n",
    "minimums_baseline.rename(columns={\"degradation_full_baseline\": \"D Baseline\", \"degradation_at_subset\": \"D SS\", \"degradation_at_rank\": \"D RFE\", \"amount\": \"Pruning ratio\"}, inplace=True)\n",
    "with open(\"asd.txt\", \"w\") as fp:\n",
    "    fp.write(minimums_baseline.to_latex())\n",
    "\"\"\""
   ]
  },
  {
   "cell_type": "code",
   "execution_count": null,
   "metadata": {},
   "outputs": [],
   "source": [
    "\n",
    "\"\"\"\n",
    "DATASETS_IN_TABULAR = [\"EDGE2022\", \"ICS-D1\", \"CICIDS2017\"]\n",
    "\n",
    "df = pd.DataFrame(columns=[\"Val Accuracy\", \"Finetune Accuracy\", \"Samples per second\", \"Model size\", \"# Features\", \"# Layers\", \"# Neurons\", \"Dropout\", \"Activation\", \"Batch norm\"], index=pd.Index([], name=\"Dataset\"))\n",
    "for x in DATASETS_IN_TABULAR:\n",
    "    samples = len(pd.read_csv(f\"../datasets/{x}/balanced/validation.csv\"))\n",
    "    \n",
    "    with open(f\"../datasets/{x}/balanced/automl_search/models/best_model/info.json\") as fp:\n",
    "        tmp = json.load(fp)\n",
    "    res_test = pd.read_csv(f\"../datasets/{x}/balanced/automl_search/models/best_model/leaderboard.csv\", index_col=\"ID\").loc[\"finetune\"][METRIC]\n",
    "\n",
    "    df.loc[x] = [round(tmp[\"val_score\"], 4), round(res_test, 4), round(samples/tmp[\"predict_time\"]), tmp[\"memory_size\"], tmp[\"num_features\"],\n",
    "                       tmp[\"hyperparameters\"][\"num_layers\"], tmp[\"hyperparameters\"][\"hidden_size\"],\n",
    "                       round(tmp[\"hyperparameters\"][\"dropout_prob\"], 4), tmp[\"hyperparameters\"][\"activation\"],\n",
    "                       tmp[\"hyperparameters\"][\"use_batchnorm\"]]\n",
    "print(df.to_latex())\n",
    "\"\"\""
   ]
  },
  {
   "cell_type": "code",
   "execution_count": null,
   "metadata": {},
   "outputs": [],
   "source": [
    "baseline = pd.read_csv(f\"{BEST_MODEL_DIRECTORY}/leaderboard.csv\", index_col=\"ID\")\n",
    "baseline_general = baseline.loc[\"finetune\"][METRIC]\n",
    "greedy = pd.read_csv(f\"{GREEDY_RANK_DIRECTORY}/leaderboard.csv\", index_col=\"ID\")\n",
    "max_features = greedy.index.values[0]\n",
    "baselines_at_ranks = [greedy.loc[round(k*max_features) or 1][METRIC] for k in SUBSETS_SIZE_AMOUNTS]"
   ]
  },
  {
   "cell_type": "markdown",
   "metadata": {},
   "source": [
    "Chart #1: creating the feature ranking chart obtained via the RFE (Greedy) approach."
   ]
  },
  {
   "cell_type": "code",
   "execution_count": null,
   "metadata": {},
   "outputs": [],
   "source": [
    "df = pd.read_csv(\n",
    "    f\"{GREEDY_RANK_DIRECTORY}/leaderboard.csv\",\n",
    "    index_col=\"ID\")\n",
    "df[\"ID\"] = df.index.values\n",
    "fig, ax = plt.subplots(figsize=(3.8, 2.3))\n",
    "df.plot.scatter(x=\"ID\",y=METRIC, ax=ax, alpha=0.7, s=5)\n",
    "ax.invert_xaxis()\n",
    "ax.set_ylim(0, 1.05)\n",
    "ax.hlines(y = baseline_general, xmin=df.ID.min(), xmax=df.ID.max(), color = 'r', linestyle = '--', label=\"Baseline\")\n",
    "ax.set_ylabel(METRIC.capitalize())\n",
    "ax.set_xlabel('# Active features')\n",
    "ax.grid(axis=\"y\")\n",
    "ax.legend(loc=\"lower left\")\n",
    "fig.tight_layout()\n",
    "fig.savefig(f\"{GREEDY_RANK_DIRECTORY}/leaderboard_{METRIC}.pdf\")"
   ]
  },
  {
   "cell_type": "markdown",
   "metadata": {},
   "source": [
    "Chart #2: Creating the leaderboard of the subsets measured on the baseline model (no pruning yet)"
   ]
  },
  {
   "cell_type": "code",
   "execution_count": null,
   "metadata": {},
   "outputs": [],
   "source": [
    "df = pd.DataFrame()\n",
    "for x in SUBSETS_SIZE_AMOUNTS:\n",
    "    tmp = pd.read_csv(f\"{FEATURE_SUBSETS_DIRECTORY}/feature_subsets_{x:.2f}s/leaderboard.csv\", index_col=\"ID\")\n",
    "    tmp.loc[len(tmp)] = greedy.loc[round(x*max_features) or 1]\n",
    "    tmp['kind'] = f\"{x:.2f}\"\n",
    "    df = pd.concat((df, tmp))\n",
    "\n",
    "df.sort_values('kind', inplace=True, ascending=False)\n",
    "\n",
    "cmap = cm.get_cmap('rainbow', len(df.kind.unique()))\n",
    "fig, ax = plt.subplots()\n",
    "\n",
    "ax.plot(range(1, 1+ len(df.kind.unique())), baselines_at_ranks, color='g', linestyle = '-.', label=\"Baseline RFE\")\n",
    "\n",
    "bp = df.plot.box(column=METRIC, by=\"kind\", patch_artist=True, notch=True, ax=ax, return_type='both',\n",
    "                 whiskerprops={\"color\": \"black\"}, capprops={\"color\": \"black\"}, medianprops={\"color\": \"blue\"})\n",
    "\n",
    "[box.set(color=\"black\", facecolor = cmap(i), alpha=0.8) for _, (__,row) in bp.items() for i, box in enumerate(row['boxes'])]\n",
    "\n",
    "ax.invert_xaxis()\n",
    "ax.set_ylim(0, 1.05)\n",
    "ax.set_ylabel(METRIC.capitalize())\n",
    "ax.set_xlabel('Subset size ratio')\n",
    "ax.set_xticklabels(ax.get_xticklabels(), rotation = 45)\n",
    "ax.grid(axis=\"y\")\n",
    "ax.hlines(y = baseline_general, xmin=1, xmax=len(df.kind.unique()), color = 'r', linestyle = '--', label=\"Baseline\")\n",
    "ax.legend(loc=\"lower left\")\n",
    "ax.set_title(\"\")\n",
    "fig.tight_layout()\n",
    "fig.savefig(f\"{FEATURE_SUBSETS_DIRECTORY}/leaderboard_{METRIC}.pdf\")"
   ]
  },
  {
   "cell_type": "markdown",
   "metadata": {},
   "source": [
    "## Leaderboard per pruning algorithm nel subset"
   ]
  },
  {
   "cell_type": "code",
   "execution_count": null,
   "metadata": {},
   "outputs": [],
   "source": [
    "ALL_PRUNE_ALG = [\"globally_connections_l1\", \"globally_connections_random\", \"locally_connections_l1\", \"locally_neurons_l1\"]\n",
    "df = pd.DataFrame()\n",
    "for x in ALL_PRUNE_ALG:\n",
    "    tmp = pd.read_csv(f\"{BEST_MODEL_DIRECTORY}/prune_search/{x}/leaderboard.csv\", index_col=\"ID\")\n",
    "    tmp['kind'] = \"\".join([x[0] if len(x) > 2 else x for x in x.split(\"_\")]).upper()\n",
    "    df = pd.concat((df, tmp))\n",
    "df.sort_values('kind', inplace=True, ascending=False)\n",
    "kinds = df.kind.unique()\n",
    "cmap = cm.get_cmap('rainbow', len(df.kind.unique()))\n",
    "\n",
    "fig, ax = plt.subplots()\n",
    "bp = df.plot.box(column=METRIC, by=\"kind\", patch_artist=True, ax=ax, return_type='both',\n",
    "                 whiskerprops={\"color\": \"black\"}, capprops={\"color\": \"black\"}, medianprops={\"color\": \"blue\"})\n",
    "[box.set(color='black', facecolor = cmap(i), alpha=0.8) for _, (__,row) in bp.items() for i, box in enumerate(row['boxes'])]\n",
    "\n",
    "ax.set_ylim(0, 1.05)\n",
    "ax.set_ylabel(METRIC.capitalize())\n",
    "ax.set_xlabel('Pruning algorithm')\n",
    "ax.grid(axis=\"y\")\n",
    "ax.hlines(y = baseline_general, xmin=1, xmax=len(df.kind.unique()), color = 'r', linestyle = '--', label=\"Baseline\")\n",
    "ax.legend(loc=\"lower left\")\n",
    "ax.set_title(\"\")\n",
    "fig.tight_layout()\n",
    "fig.savefig(f\"{BEST_MODEL_DIRECTORY}/prune_search/pruning_algorithms.pdf\")\n"
   ]
  },
  {
   "cell_type": "code",
   "execution_count": null,
   "metadata": {},
   "outputs": [],
   "source": [
    "df = pd.DataFrame()\n",
    "for x in SUBSETS_SIZE_AMOUNTS:\n",
    "    tmp = pd.read_csv(f\"{FEATURE_SUBSETS_DIRECTORY}/feature_subsets_{x:.2f}s/leaderboard_{PRUNING_ALGORITHM}.csv\", index_col=\"ID\")\n",
    "    tmp['kind'] = f\"{x:.2f}\"\n",
    "    df = pd.concat((df, tmp))\n",
    "df.sort_values('kind', inplace=True, ascending=False)\n",
    "kinds = df.kind.unique()\n",
    "\n",
    "models_stats = pd.read_csv(f\"{PRUNED_MODELS_DIRECTORY}/models_stats.csv\", index_col=\"ID\")\n",
    "score_with_pruning_amounts = df.join(models_stats, on=\"model_ID\", how='left')\n",
    "if \"locally_\" in PRUNING_ALGORITHM:\n",
    "    import ast\n",
    "    score_with_pruning_amounts[\"amount\"] = score_with_pruning_amounts[\"amount\"].apply(lambda x: round(sum(x for x in ast.literal_eval(x))/len(ast.literal_eval(x)), 2))"
   ]
  },
  {
   "cell_type": "code",
   "execution_count": null,
   "metadata": {},
   "outputs": [],
   "source": [
    "cmap = cm.get_cmap('rainbow', len(df.kind.unique()))\n",
    "fig, ax = plt.subplots()\n",
    "\n",
    "ax.plot(range(1, 1+ len(df.kind.unique())), baselines_at_ranks, color='g', linestyle = '-.', label=\"Baseline RFE\")\n",
    "\n",
    "bp = df.plot.box(column=METRIC, by=\"kind\", patch_artist=True, notch=True, ax=ax, return_type='both',\n",
    "                 whiskerprops={\"color\": \"black\"}, capprops={\"color\": \"black\"}, medianprops={\"color\": \"blue\"})\n",
    "[box.set(color='black', facecolor = cmap(i), alpha=0.8) for _, (__,row) in bp.items() for i, box in enumerate(row['boxes'])]\n",
    "\n",
    "ax.invert_xaxis()\n",
    "ax.set_ylim(0, 1.05)\n",
    "ax.set_ylabel(METRIC.capitalize())\n",
    "ax.set_xlabel('Subset size ratio')\n",
    "ax.set_xticklabels(ax.get_xticklabels(), rotation = 45)\n",
    "ax.grid(axis=\"y\")\n",
    "ax.set_title(\"\")\n",
    "ax.hlines(y = baseline_general, xmin=1, xmax=len(df.kind.unique()), color = 'r', linestyle = '--', label=\"Baseline\")\n",
    "ax.legend(loc=\"lower left\")\n",
    "fig.tight_layout()\n",
    "fig.savefig(f\"{FEATURE_SUBSETS_DIRECTORY}/leaderboard_{METRIC}_{PRUNING_ALGORITHM}.pdf\")"
   ]
  },
  {
   "cell_type": "code",
   "execution_count": null,
   "metadata": {},
   "outputs": [],
   "source": [
    "\"\"\"\n",
    "dff = score_with_pruning_amounts.copy(deep=True)\n",
    "minimums_baseline = dff[dff[\"degradation_full_baseline\"] <= 0.10].groupby(\"kind\").agg({'degradation_full_baseline':'min', \"amount\":'max'})[['degradation_full_baseline',\"amount\"]]\n",
    "minimums_baseline.rename(columns={\"degradation_full_baseline\": \"D baseline\", \"amount\": \"Pruning ratio\"}, inplace=True)\n",
    "minimums_rank = dff[dff[\"degradation_at_rank\"] <= 0.10].groupby(\"kind\").agg({'degradation_at_rank':'min', \"amount\":'max'})[['degradation_at_rank',\"amount\"]]\n",
    "minimums_rank.rename(columns={\"degradation_at_rank\": \"D RFE\", \"amount\": \"Pruning ratio \"}, inplace=True)\n",
    "tmp = pd.concat((minimums_baseline, minimums_rank), axis=1).sort_index(ascending=False)\n",
    "print(tmp.to_latex())\n",
    "\"\"\""
   ]
  },
  {
   "cell_type": "code",
   "execution_count": null,
   "metadata": {},
   "outputs": [],
   "source": [
    "dff = score_with_pruning_amounts.copy(deep=True)\n",
    "dff.loc[dff[\"degradation_full_baseline\"] > 0.10, \"amount\"] = None\n",
    "fig, ax = plt.subplots()\n",
    "bp = dff.plot.box(column=\"amount\", by=\"kind\", patch_artist=True, notch=True, ax=ax, return_type='both',\n",
    "                  whiskerprops={\"color\": \"black\"}, capprops={\"color\": \"black\"}, medianprops={\"color\": \"blue\"})\n",
    "cmap = cm.get_cmap('rainbow', len(dff.kind.unique()))\n",
    "[box.set(color='black', facecolor = cmap(i), alpha=0.8) for _, (ax,row) in bp.items() for i, box in enumerate(row['boxes'])]\n",
    "ax.invert_xaxis()\n",
    "ax.set_ylim(0, 1.05)\n",
    "ax.set_ylabel(\"Pruning ratio\")\n",
    "ax.set_xlabel('Subset size ratio')\n",
    "ax.set_xticklabels(ax.get_xticklabels(), rotation = 45)\n",
    "ax.grid(axis=\"y\")\n",
    "ax.set_title(\"\")\n",
    "fig.tight_layout()\n",
    "fig.savefig(f\"{FEATURE_SUBSETS_DIRECTORY}/subsets_pruning_below_10_degradation_{METRIC}_{PRUNING_ALGORITHM}.pdf\")"
   ]
  },
  {
   "cell_type": "code",
   "execution_count": null,
   "metadata": {},
   "outputs": [],
   "source": [
    "sorted_by_index = score_with_pruning_amounts.sort_index(ascending=False)\n",
    "sorted_by_index['kind'] = pd.to_numeric(sorted_by_index['kind'])\n",
    "\n",
    "fig = plt.figure()\n",
    "ax = fig.add_subplot(111, projection='3d')\n",
    "\n",
    "sctt = ax.scatter3D(sorted_by_index[\"kind\"], sorted_by_index[\"amount\"], sorted_by_index[METRIC],\n",
    "                    alpha = 0.8,\n",
    "                    s=15,\n",
    "                    c = sorted_by_index[METRIC],\n",
    "                    cmap = cm.jet,\n",
    "                    marker ='.', rasterized=True)\n",
    "fig.colorbar(sctt, label=METRIC.capitalize(), ax = ax, shrink = 0.5, aspect = 12, pad=0.09, location=\"right\")\n",
    "ax.tick_params(axis='both', which='major', labelsize=6, pad=-4)\n",
    "ax.set_facecolor(\"white\")\n",
    "ax.view_init(30, -60, 0)\n",
    "ax.set_ylim(0, 1)\n",
    "ax.set_xlim(0, 1)\n",
    "ax.set_zlim(0, 1)\n",
    "ax.invert_yaxis()\n",
    "ax.tick_params(axis=\"y\", which=\"minor\", left=False, right=False)\n",
    "ax.invert_xaxis()\n",
    "ax.minorticks_off()\n",
    "ax.set_ylabel('Pruning ratio', labelpad=-9.2)\n",
    "ax.set_xlabel('Subset size ratio', labelpad=-9.2)\n",
    "ax.set_zlabel(f'Combination Accuracy', labelpad=-9.2)\n",
    "fig.tight_layout()\n",
    "fig.savefig(f\"{FEATURE_SUBSETS_DIRECTORY}/3d_2_{METRIC}_{PRUNING_ALGORITHM}.pdf\")"
   ]
  },
  {
   "cell_type": "code",
   "execution_count": null,
   "metadata": {},
   "outputs": [],
   "source": []
  }
 ],
 "metadata": {
  "kernelspec": {
   "display_name": ".venv",
   "language": "python",
   "name": "python3"
  },
  "language_info": {
   "codemirror_mode": {
    "name": "ipython",
    "version": 3
   },
   "file_extension": ".py",
   "mimetype": "text/x-python",
   "name": "python",
   "nbconvert_exporter": "python",
   "pygments_lexer": "ipython3",
   "version": "3.10.12"
  },
  "orig_nbformat": 4
 },
 "nbformat": 4,
 "nbformat_minor": 2
}
