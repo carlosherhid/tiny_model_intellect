{
 "cells": [
  {
   "cell_type": "markdown",
   "metadata": {},
   "source": [
    "# Distributions Comparison Techniques\n",
    "\n",
    "This notebook tests few of the common algorithms to compare two distributions."
   ]
  },
  {
   "cell_type": "code",
   "execution_count": 98,
   "metadata": {},
   "outputs": [],
   "source": [
    "%reload_ext autoreload\n",
    "%autoreload 2\n",
    "import threadpoolctl\n",
    "\n",
    "import numpy as np\n",
    "import pandas as pd\n",
    "import matplotlib as mpl\n",
    "import matplotlib.pyplot as plt\n",
    "from scipy.special import kl_div, rel_entr\n",
    "from scipy.spatial.distance import jensenshannon\n",
    "from scipy.stats import wasserstein_distance, energy_distance, entropy, kstest\n",
    "from intellect.distance import distributions_to_probabilities\n",
    "from intellect.inspect import set_seed\n",
    "\n",
    "threadpoolctl.threadpool_limits(limits=2);\n",
    "mpl.rcParams['figure.dpi']= 70"
   ]
  },
  {
   "cell_type": "code",
   "execution_count": 89,
   "metadata": {},
   "outputs": [
    {
     "data": {
      "text/html": [
       "<style>\n",
       "table {float:left}\n",
       "</style>\n"
      ],
      "text/plain": [
       "<IPython.core.display.HTML object>"
      ]
     },
     "metadata": {},
     "output_type": "display_data"
    }
   ],
   "source": [
    "%%html\n",
    "<style>\n",
    "table {float:left}\n",
    "</style>"
   ]
  },
  {
   "cell_type": "markdown",
   "metadata": {},
   "source": [
    "Generate data using the same distribution but with different parameters. Then, normalize data within 0 and 1. The two vectors simulates the same feature but from two different traffic categories."
   ]
  },
  {
   "cell_type": "code",
   "execution_count": 125,
   "metadata": {},
   "outputs": [],
   "source": [
    "set_seed()\n",
    "a = np.random.poisson(10, 10000) # array of features coming from attack category A\n",
    "b = np.random.poisson(3, 10000) # array of features coming from attack category B\n",
    "\n",
    "maxx = max(a.max(), b.max())\n",
    "minn = min(a.min(), b.min())\n",
    "\n",
    "a_norm = (a - minn) / (maxx - minn) # normalize data\n",
    "b_norm = (b - minn) / (maxx - minn) # normalize data"
   ]
  },
  {
   "cell_type": "code",
   "execution_count": 126,
   "metadata": {},
   "outputs": [
    {
     "data": {
      "image/png": "[encoded data removed]",
      "text/plain": [
       "<Figure size 2000x400 with 2 Axes>"
      ]
     },
     "metadata": {},
     "output_type": "display_data"
    }
   ],
   "source": [
    "fig, axs = plt.subplots(1,2, figsize=(20,4))\n",
    "pd.DataFrame(a_norm).hist(ax=axs[0]);\n",
    "pd.DataFrame(b_norm).hist(ax=axs[1]);"
   ]
  },
  {
   "cell_type": "markdown",
   "metadata": {},
   "source": [
    "As displayed in the above histograms, the two vectors are different, despite being generated using the same distribution.\n",
    "Now, compute the probability distributions of the two vectors to be used as input for the following metrics."
   ]
  },
  {
   "cell_type": "code",
   "execution_count": 129,
   "metadata": {},
   "outputs": [
    {
     "data": {
      "text/plain": [
       "((12,), (12,), (25,), (25,))"
      ]
     },
     "execution_count": 129,
     "metadata": {},
     "output_type": "execute_result"
    }
   ],
   "source": [
    "_, pa_common, pb_common = distributions_to_probabilities(a_norm, b_norm, only_common=True)\n",
    "_, pa_all, pb_all = distributions_to_probabilities(a_norm, b_norm, only_common=False)\n",
    "pa_common.shape, pb_common.shape, pa_all.shape, pb_all.shape"
   ]
  },
  {
   "cell_type": "markdown",
   "metadata": {},
   "source": [
    "The following methods are used to check whether two vector belong to same distribution. Please note that being generated from the same distribution does not mean that the two vectors are equal/similar. Finally, in bold there's the input type accepted by the algorithm (whether probability distribution or empirical values).\n",
    "\n",
    "1. **Kolmogorov-Smirnov Test**: The Kolmogorov-Smirnov (KS) Test is a non-parametric statistical test used to compare the cumulative distribution functions of two datasets. It quantifies the maximum vertical deviation between their *empirical distributions*, providing a measure of similarity or dissimilarity. A smaller p-value suggests significant differences between the distributions.\n",
    "1. **Wasserstein Distance**: Wasserstein Distance, or Earth Mover's Distance, measures the minimum \"work\" or cost required to transform one **probability distribution** into another. It provides a metric for comparing the dissimilarity between two distributions based on the optimal transport plan. Lower values indicate greater similarity.\n",
    "1. **Energy Distance**: Energy distance quantifies the dissimilarity between two **probability distributions** by comparing their characteristic functions. It assesses the overall difference in shapes, offering a global measure of distribution dissimilarity. Higher values indicate greater divergence between the distributions."
   ]
  },
  {
   "cell_type": "code",
   "execution_count": 136,
   "metadata": {},
   "outputs": [
    {
     "data": {
      "text/plain": [
       "{'KS Test': KstestResult(statistic=0.853, pvalue=0.0, statistic_location=0.20833333333333334, statistic_sign=-1),\n",
       " 'Wasserstein Distance shared points': 0.03075537350525177,\n",
       " 'Wasserstein Distance all points': 0.023391999999999996,\n",
       " 'Energy Distance shared points': 0.10023307036664968,\n",
       " 'Energy Distance all points': 0.08204974101116957}"
      ]
     },
     "execution_count": 136,
     "metadata": {},
     "output_type": "execute_result"
    }
   ],
   "source": [
    "{\"KS Test\": kstest(a_norm,b_norm),\n",
    " \"Wasserstein Distance shared points\": wasserstein_distance(pa_common, pb_common),\n",
    " \"Wasserstein Distance all points\": wasserstein_distance(pa_all, pb_all),\n",
    " \"Energy Distance shared points\": energy_distance(pa_common, pb_common),\n",
    " \"Energy Distance all points\": energy_distance(pa_all, pb_all)}"
   ]
  },
  {
   "cell_type": "markdown",
   "metadata": {},
   "source": [
    "As expected, all these methods were able to recognize that the two vectors are generated using the same distribution."
   ]
  },
  {
   "cell_type": "markdown",
   "metadata": {},
   "source": [
    "Now, we want to quantify the similarity between the two vectors. To do so, we leverage the following methods, which all accept the probability distribution of the two vectors as input.\n",
    "\n",
    "1. **Kullback-Leibler divergence**: Kullback-Leibler divergence measures the information gain or loss when approximating one **probability distribution** with another. It quantifies the average difference in log-likelihoods between corresponding events, assessing the mismatch between two distributions. Higher KL divergence values indicate greater dissimilarity.\n",
    "1. **Entropy**: Shannon entropy is a measure of the average amount of surprise or uncertainty associated with a **probability distribution**. It quantifies the level of information, measured in bits, needed to describe or predict the outcome of events governed by that distribution. Higher entropy indicates higher unpredictability or randomness, while lower entropy suggests more certainty or order in the distribution.\n",
    "1. **Relative Entropy**: Relative entropy, often denoted as rel_entr, is a measure of the dissimilarity between two **probability distributions**. It quantifies the information gained or lost when approximating one distribution with another, emphasizing the difference in expectations for the outcomes. A lower relative entropy value indicates greater similarity between the distributions.\n",
    "1. **Jensen Shannon**: Jensen-Shannon Divergence is a symmetric measure of dissimilarity between two **probability distributions**, calculated as the average Kullback-Leibler divergence between each distribution and their average. It provides a unified and balanced assessment of information discrepancy, with higher values indicating greater dissimilarity."
   ]
  },
  {
   "cell_type": "code",
   "execution_count": 143,
   "metadata": {},
   "outputs": [
    {
     "data": {
      "text/plain": [
       "{'KL Div shared points': 3.5991686077435254,\n",
       " 'KL Div all points': inf,\n",
       " 'Entropy shared points': 3.5991686077435263,\n",
       " 'Entropy all points': inf,\n",
       " 'Relative Entropy shared points': 3.599168607743526,\n",
       " 'Relative Entropy all points': inf,\n",
       " 'Jensen Shannon shared points': 0.692176087946503,\n",
       " 'Jensen Shannon all points': 0.7147514098680565}"
      ]
     },
     "execution_count": 143,
     "metadata": {},
     "output_type": "execute_result"
    }
   ],
   "source": [
    "{\"KL Div shared points\": kl_div(pa_common,pb_common).sum(),\n",
    " \"KL Div all points\": kl_div(pa_all,pb_all).sum(),\n",
    " \"Entropy shared points\": entropy(pa_common,pb_common),\n",
    " \"Entropy all points\": entropy(pa_all,pb_all),\n",
    " \"Relative Entropy shared points\": rel_entr(pa_common,pb_common).sum(),\n",
    " \"Relative Entropy all points\": rel_entr(pa_all,pb_all).sum(),\n",
    " \"Jensen Shannon shared points\": jensenshannon(pa_common,pb_common),\n",
    " \"Jensen Shannon all points\": jensenshannon(pa_all,pb_all)}"
   ]
  }
 ],
 "metadata": {
  "kernelspec": {
   "display_name": ".venv",
   "language": "python",
   "name": "python3"
  },
  "language_info": {
   "codemirror_mode": {
    "name": "ipython",
    "version": 3
   },
   "file_extension": ".py",
   "mimetype": "text/x-python",
   "name": "python",
   "nbconvert_exporter": "python",
   "pygments_lexer": "ipython3",
   "version": "3.10.12"
  }
 },
 "nbformat": 4,
 "nbformat_minor": 2
}
